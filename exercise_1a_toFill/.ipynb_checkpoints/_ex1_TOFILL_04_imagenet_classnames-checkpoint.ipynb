{
 "cells": [
  {
   "cell_type": "markdown",
   "id": "1877dca8",
   "metadata": {},
   "source": [
    "# 1 - DEFINE THE PROBLEM\n",
    "We are exploring the contents of the `imagenet_class_names.txt` file, which includes the class labels used in ImageNet-based deep learning models. This notebook will help us understand the label structure and prepare it for use in machine learning pipelines."
   ]
  },
  {
   "cell_type": "markdown",
   "id": "97c0d8ce-9ef5-40e4-b9d5-adee4ce7616f",
   "metadata": {},
   "source": [
    "# 2 - IMPORT REQUIRED LIBRARIES"
   ]
  },
  {
   "cell_type": "markdown",
   "id": "16153019-88d4-477b-baaf-ad5227b70131",
   "metadata": {},
   "source": [
    "## 2.1 - Base Libraries"
   ]
  },
  {
   "cell_type": "code",
   "execution_count": 1,
   "id": "4dfa5ab0",
   "metadata": {},
   "outputs": [],
   "source": []
  },
  {
   "cell_type": "markdown",
   "id": "01c96039-1a88-4cdd-8dae-5552d7af23a8",
   "metadata": {},
   "source": [
    "## 2.2 - ML/DL Libraries"
   ]
  },
  {
   "cell_type": "code",
   "execution_count": 2,
   "id": "48214a77-52e7-4106-ac0b-6fef85ba25be",
   "metadata": {},
   "outputs": [],
   "source": []
  },
  {
   "cell_type": "markdown",
   "id": "b7e64adf-ad8f-46ca-b828-44717c2ff349",
   "metadata": {},
   "source": [
    "# 3 - LOAD THE DATA"
   ]
  },
  {
   "cell_type": "code",
   "execution_count": 3,
   "id": "1130e517",
   "metadata": {},
   "outputs": [
    {
     "name": "stdout",
     "output_type": "stream",
     "text": [
      "Total classes: 1000\n"
     ]
    },
    {
     "data": {
      "text/plain": [
       "['n01440764 tench, Tinca tinca',\n",
       " 'n01443537 goldfish, Carassius auratus',\n",
       " 'n01484850 great white shark, white shark, man-eater, man-eating shark, Carcharodon carcharias',\n",
       " 'n01491361 tiger shark, Galeocerdo cuvieri',\n",
       " 'n01494475 hammerhead, hammerhead shark',\n",
       " 'n01496331 electric ray, crampfish, numbfish, torpedo',\n",
       " 'n01498041 stingray',\n",
       " 'n01514668 cock',\n",
       " 'n01514859 hen',\n",
       " 'n01518878 ostrich, Struthio camelus']"
      ]
     },
     "execution_count": 3,
     "metadata": {},
     "output_type": "execute_result"
    }
   ],
   "source": [
    "# Step 1: Open the file 'imagenet_class_names.txt' from the ../datasets/ directory using a with statement.\n",
    "# Use read mode ('r') and assign the file handle to a variable.\n",
    "\n",
    "# Step 2: Read all the lines from the file.\n",
    "# Use a list comprehension to:\n",
    "#   - Strip newline characters from each line using .strip()\n",
    "#   - Skip empty lines\n",
    "\n",
    "# Step 3: Store the result in a list called class_names.\n",
    "\n",
    "with open\n",
    "\n",
    "\n",
    "# Step 4: Print the total number of class names using len(class_names).\n",
    "print(f'Total classes: {len(class_names)}')\n",
    "\n",
    "# Step 5: Display the first 10 class entries to preview the data format.\n",
    "class_names[:10]  # Preview first 10"
   ]
  },
  {
   "cell_type": "markdown",
   "id": "4560f68b-e3c4-40b4-b4df-99bcff6e7176",
   "metadata": {},
   "source": [
    "# 4 - EDA (Exploratory Data Analysis)"
   ]
  },
  {
   "cell_type": "code",
   "execution_count": 4,
   "id": "36f587ce-2987-4c5b-9be3-ea6fc8f6adda",
   "metadata": {},
   "outputs": [
    {
     "data": {
      "text/html": [
       "<div>\n",
       "<style scoped>\n",
       "    .dataframe tbody tr th:only-of-type {\n",
       "        vertical-align: middle;\n",
       "    }\n",
       "\n",
       "    .dataframe tbody tr th {\n",
       "        vertical-align: top;\n",
       "    }\n",
       "\n",
       "    .dataframe thead th {\n",
       "        text-align: right;\n",
       "    }\n",
       "</style>\n",
       "<table border=\"1\" class=\"dataframe\">\n",
       "  <thead>\n",
       "    <tr style=\"text-align: right;\">\n",
       "      <th></th>\n",
       "      <th>class_name</th>\n",
       "      <th>length</th>\n",
       "      <th>first_letter</th>\n",
       "    </tr>\n",
       "  </thead>\n",
       "  <tbody>\n",
       "    <tr>\n",
       "      <th>count</th>\n",
       "      <td>1000</td>\n",
       "      <td>1000.000000</td>\n",
       "      <td>1000</td>\n",
       "    </tr>\n",
       "    <tr>\n",
       "      <th>unique</th>\n",
       "      <td>1000</td>\n",
       "      <td>NaN</td>\n",
       "      <td>1</td>\n",
       "    </tr>\n",
       "    <tr>\n",
       "      <th>top</th>\n",
       "      <td>n01440764 tench, Tinca tinca</td>\n",
       "      <td>NaN</td>\n",
       "      <td>n</td>\n",
       "    </tr>\n",
       "    <tr>\n",
       "      <th>freq</th>\n",
       "      <td>1</td>\n",
       "      <td>NaN</td>\n",
       "      <td>1000</td>\n",
       "    </tr>\n",
       "    <tr>\n",
       "      <th>mean</th>\n",
       "      <td>NaN</td>\n",
       "      <td>30.675000</td>\n",
       "      <td>NaN</td>\n",
       "    </tr>\n",
       "    <tr>\n",
       "      <th>std</th>\n",
       "      <td>NaN</td>\n",
       "      <td>16.886638</td>\n",
       "      <td>NaN</td>\n",
       "    </tr>\n",
       "    <tr>\n",
       "      <th>min</th>\n",
       "      <td>NaN</td>\n",
       "      <td>12.000000</td>\n",
       "      <td>NaN</td>\n",
       "    </tr>\n",
       "    <tr>\n",
       "      <th>25%</th>\n",
       "      <td>NaN</td>\n",
       "      <td>18.000000</td>\n",
       "      <td>NaN</td>\n",
       "    </tr>\n",
       "    <tr>\n",
       "      <th>50%</th>\n",
       "      <td>NaN</td>\n",
       "      <td>26.000000</td>\n",
       "      <td>NaN</td>\n",
       "    </tr>\n",
       "    <tr>\n",
       "      <th>75%</th>\n",
       "      <td>NaN</td>\n",
       "      <td>37.000000</td>\n",
       "      <td>NaN</td>\n",
       "    </tr>\n",
       "    <tr>\n",
       "      <th>max</th>\n",
       "      <td>NaN</td>\n",
       "      <td>131.000000</td>\n",
       "      <td>NaN</td>\n",
       "    </tr>\n",
       "  </tbody>\n",
       "</table>\n",
       "</div>"
      ],
      "text/plain": [
       "                          class_name       length first_letter\n",
       "count                           1000  1000.000000         1000\n",
       "unique                          1000          NaN            1\n",
       "top     n01440764 tench, Tinca tinca          NaN            n\n",
       "freq                               1          NaN         1000\n",
       "mean                             NaN    30.675000          NaN\n",
       "std                              NaN    16.886638          NaN\n",
       "min                              NaN    12.000000          NaN\n",
       "25%                              NaN    18.000000          NaN\n",
       "50%                              NaN    26.000000          NaN\n",
       "75%                              NaN    37.000000          NaN\n",
       "max                              NaN   131.000000          NaN"
      ]
     },
     "execution_count": 4,
     "metadata": {},
     "output_type": "execute_result"
    }
   ],
   "source": [
    "# Step 1: Convert the list of class names into a DataFrame with one column named 'class_name'.\n",
    "# pd.DataFrame( ...\n",
    "\n",
    "# Step 2: Add a column 'length' with the character count of each class name.\n",
    "# df['length'] = ...\n",
    "\n",
    "# Step 3: Add a column 'first_letter' with the first character of each class name.\n",
    "# df['first_letter'] = ...\n",
    "\n",
    "# Step 4: Display summary statistics, including object columns.\n",
    "# 👉 df.describe(include= ..."
   ]
  },
  {
   "cell_type": "markdown",
   "id": "9732e4e8-d8f3-4281-b0d3-cc3c0e1ade8f",
   "metadata": {},
   "source": [
    "# 5 - VISUALIZE THE DATA"
   ]
  },
  {
   "cell_type": "code",
   "execution_count": 5,
   "id": "5a7b14e2",
   "metadata": {},
   "outputs": [
    {
     "data": {
      "image/png": "[encoded data removed]",
      "text/plain": [
       "<Figure size 640x480 with 1 Axes>"
      ]
     },
     "metadata": {},
     "output_type": "display_data"
    }
   ],
   "source": [
    "# Step 1: Create a histogram to visualize the distribution of class name lengths.\n",
    "# sns.histplot( ...\n",
    "\n",
    "# Step 2: Add a title and axis labels to explain the plot.\n",
    "# plt.title( ...\n",
    "# plt.xlabel( ...\n",
    "# plt.ylabel( ...\n",
    "\n",
    "# Step 3: Show the plot.\n"
   ]
  },
  {
   "cell_type": "code",
   "execution_count": 6,
   "id": "54e70d4e-35b8-42f7-be44-adbc3bdb9698",
   "metadata": {},
   "outputs": [
    {
     "data": {
      "image/png": "[encoded data removed]",
      "text/plain": [
       "<Figure size 1000x500 with 1 Axes>"
      ]
     },
     "metadata": {},
     "output_type": "display_data"
    }
   ],
   "source": [
    "# Step 1: Set a custom figure size to improve readability.\n",
    "# plt.figure( ...\n",
    "\n",
    "# Step 2: Create a bar chart showing how many class names start with each letter.\n",
    "# Use sorted() to order the x-axis alphabetically.\n",
    "# sns.countplot( ...\n",
    "\n",
    "# Step 3: Add a title to describe the purpose of the plot.\n",
    "# plt.title( ...\n",
    "\n",
    "# Step 4: Show the plot.\n",
    "# plt.show()"
   ]
  },
  {
   "cell_type": "markdown",
   "id": "9f4975d5-a2e7-4590-9aab-047098269a20",
   "metadata": {},
   "source": [
    "# 6 - PREPROCESS THE DATA"
   ]
  },
  {
   "cell_type": "code",
   "execution_count": 7,
   "id": "c3a8faf0",
   "metadata": {},
   "outputs": [
    {
     "data": {
      "text/html": [
       "<div>\n",
       "<style scoped>\n",
       "    .dataframe tbody tr th:only-of-type {\n",
       "        vertical-align: middle;\n",
       "    }\n",
       "\n",
       "    .dataframe tbody tr th {\n",
       "        vertical-align: top;\n",
       "    }\n",
       "\n",
       "    .dataframe thead th {\n",
       "        text-align: right;\n",
       "    }\n",
       "</style>\n",
       "<table border=\"1\" class=\"dataframe\">\n",
       "  <thead>\n",
       "    <tr style=\"text-align: right;\">\n",
       "      <th></th>\n",
       "      <th>class_name</th>\n",
       "      <th>length</th>\n",
       "      <th>first_letter</th>\n",
       "      <th>class_name_clean</th>\n",
       "    </tr>\n",
       "  </thead>\n",
       "  <tbody>\n",
       "    <tr>\n",
       "      <th>0</th>\n",
       "      <td>n01440764 tench, Tinca tinca</td>\n",
       "      <td>28</td>\n",
       "      <td>n</td>\n",
       "      <td>n tench tinca tinca</td>\n",
       "    </tr>\n",
       "    <tr>\n",
       "      <th>1</th>\n",
       "      <td>n01443537 goldfish, Carassius auratus</td>\n",
       "      <td>37</td>\n",
       "      <td>n</td>\n",
       "      <td>n goldfish carassius auratus</td>\n",
       "    </tr>\n",
       "    <tr>\n",
       "      <th>2</th>\n",
       "      <td>n01484850 great white shark, white shark, man-...</td>\n",
       "      <td>93</td>\n",
       "      <td>n</td>\n",
       "      <td>n great white shark white shark man eater man ...</td>\n",
       "    </tr>\n",
       "    <tr>\n",
       "      <th>3</th>\n",
       "      <td>n01491361 tiger shark, Galeocerdo cuvieri</td>\n",
       "      <td>41</td>\n",
       "      <td>n</td>\n",
       "      <td>n tiger shark galeocerdo cuvieri</td>\n",
       "    </tr>\n",
       "    <tr>\n",
       "      <th>4</th>\n",
       "      <td>n01494475 hammerhead, hammerhead shark</td>\n",
       "      <td>38</td>\n",
       "      <td>n</td>\n",
       "      <td>n hammerhead hammerhead shark</td>\n",
       "    </tr>\n",
       "  </tbody>\n",
       "</table>\n",
       "</div>"
      ],
      "text/plain": [
       "                                          class_name  length first_letter  \\\n",
       "0                       n01440764 tench, Tinca tinca      28            n   \n",
       "1              n01443537 goldfish, Carassius auratus      37            n   \n",
       "2  n01484850 great white shark, white shark, man-...      93            n   \n",
       "3          n01491361 tiger shark, Galeocerdo cuvieri      41            n   \n",
       "4             n01494475 hammerhead, hammerhead shark      38            n   \n",
       "\n",
       "                                    class_name_clean  \n",
       "0                                n tench tinca tinca  \n",
       "1                       n goldfish carassius auratus  \n",
       "2  n great white shark white shark man eater man ...  \n",
       "3                   n tiger shark galeocerdo cuvieri  \n",
       "4                      n hammerhead hammerhead shark  "
      ]
     },
     "execution_count": 7,
     "metadata": {},
     "output_type": "execute_result"
    }
   ],
   "source": [
    "# Step 1: Create a new column called 'class_name_clean'.\n",
    "# Convert all text to lowercase using .str.lower().\n",
    "# Replace hyphens and underscores with spaces using .str.replace().\n",
    "# df['class_name_clean'] = ...\n",
    "\n",
    "# Step 2: Remove all non-letter characters using a regular expression.\n",
    "# Use .str.replace() with regex=True.\n",
    "# df['class_name_clean'] = ...\n",
    "\n",
    "# Step 3: Show the first 5 rows to verify the cleaning process.\n",
    "#"
   ]
  },
  {
   "cell_type": "markdown",
   "id": "1a257f4d-8855-49ac-8b17-9947445cebbd",
   "metadata": {},
   "source": [
    "# 7 - SPLIT THE DATA"
   ]
  },
  {
   "cell_type": "code",
   "execution_count": 8,
   "id": "46be5239",
   "metadata": {},
   "outputs": [],
   "source": [
    "# Step 1: Use train_test_split to divide 'class_name_clean' into train and test sets.\n",
    "# Use test_size=0.2 and random_state=42 for reproducibility.\n",
    "# train_classes, test_classes =  ..."
   ]
  },
  {
   "cell_type": "code",
   "execution_count": 9,
   "id": "27754263-6ed1-410b-bf31-fbd1b1b948fa",
   "metadata": {},
   "outputs": [
    {
     "name": "stdout",
     "output_type": "stream",
     "text": [
      "Train classes: 800\n"
     ]
    }
   ],
   "source": [
    "# Step 2: Print the number of train classes.\n",
    "# print( ..."
   ]
  },
  {
   "cell_type": "code",
   "execution_count": 10,
   "id": "26226f67-67b9-4f06-9219-b857826a50c6",
   "metadata": {},
   "outputs": [
    {
     "name": "stdout",
     "output_type": "stream",
     "text": [
      "Test classes: 200\n"
     ]
    }
   ],
   "source": [
    "# Step 3: Print the number of test classes.\n",
    "# print ..."
   ]
  },
  {
   "cell_type": "code",
   "execution_count": 11,
   "id": "43cbb8f6-27e7-48f7-973c-7c01193d2673",
   "metadata": {},
   "outputs": [
    {
     "data": {
      "text/plain": [
       "29     n axolotl mud puppy ambystoma mexicanum\n",
       "535                    n disk brake disc brake\n",
       "695                                  n padlock\n",
       "557                       n flagpole flagstaff\n",
       "836                                 n sunglass\n",
       "Name: class_name_clean, dtype: object"
      ]
     },
     "execution_count": 11,
     "metadata": {},
     "output_type": "execute_result"
    }
   ],
   "source": [
    "# Step 4: Preview the first 5 training class names.\n",
    "# train_classes[: ..."
   ]
  }
 ],
 "metadata": {
  "kernelspec": {
   "display_name": "Python 3 (ipykernel)",
   "language": "python",
   "name": "python3"
  },
  "language_info": {
   "codemirror_mode": {
    "name": "ipython",
    "version": 3
   },
   "file_extension": ".py",
   "mimetype": "text/x-python",
   "name": "python",
   "nbconvert_exporter": "python",
   "pygments_lexer": "ipython3",
   "version": "3.12.9"
  }
 },
 "nbformat": 4,
 "nbformat_minor": 5
}
