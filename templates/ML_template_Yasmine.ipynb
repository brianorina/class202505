{
 "cells": [
  {
   "cell_type": "markdown",
   "id": "2795c2c0-07bb-4910-bbed-6f5f9561315c",
   "metadata": {},
   "source": [
    "# Install the required libraries"
   ]
  },
  {
   "cell_type": "code",
   "execution_count": 1,
   "id": "a333e445-0eda-4769-aa5a-8269ea3ed30a",
   "metadata": {
    "collapsed": true,
    "jupyter": {
     "outputs_hidden": true
    },
    "tags": []
   },
   "outputs": [
    {
     "name": "stdout",
     "output_type": "stream",
     "text": [
      "Requirement already satisfied: pandas in /Users/cibergus/opt/miniconda3/envs/Gus_ML_Course_202505/lib/python3.8/site-packages (1.3.5)\n",
      "Requirement already satisfied: numpy in /Users/cibergus/opt/miniconda3/envs/Gus_ML_Course_202505/lib/python3.8/site-packages (1.19.5)\n",
      "Requirement already satisfied: matplotlib in /Users/cibergus/opt/miniconda3/envs/Gus_ML_Course_202505/lib/python3.8/site-packages (3.4.3)\n",
      "Collecting seaborn\n",
      "  Downloading seaborn-0.13.2-py3-none-any.whl.metadata (5.4 kB)\n",
      "Requirement already satisfied: scikit-learn in /Users/cibergus/opt/miniconda3/envs/Gus_ML_Course_202505/lib/python3.8/site-packages (1.0.2)\n",
      "Requirement already satisfied: python-dateutil>=2.7.3 in /Users/cibergus/opt/miniconda3/envs/Gus_ML_Course_202505/lib/python3.8/site-packages (from pandas) (2.9.0)\n",
      "Requirement already satisfied: pytz>=2017.3 in /Users/cibergus/opt/miniconda3/envs/Gus_ML_Course_202505/lib/python3.8/site-packages (from pandas) (2024.2)\n",
      "Requirement already satisfied: cycler>=0.10 in /Users/cibergus/opt/miniconda3/envs/Gus_ML_Course_202505/lib/python3.8/site-packages (from matplotlib) (0.12.1)\n",
      "Requirement already satisfied: kiwisolver>=1.0.1 in /Users/cibergus/opt/miniconda3/envs/Gus_ML_Course_202505/lib/python3.8/site-packages (from matplotlib) (1.4.5)\n",
      "Requirement already satisfied: pillow>=6.2.0 in /Users/cibergus/opt/miniconda3/envs/Gus_ML_Course_202505/lib/python3.8/site-packages (from matplotlib) (8.3.1)\n",
      "Requirement already satisfied: pyparsing>=2.2.1 in /Users/cibergus/opt/miniconda3/envs/Gus_ML_Course_202505/lib/python3.8/site-packages (from matplotlib) (3.1.4)\n",
      "Collecting numpy\n",
      "  Downloading numpy-1.24.4-cp38-cp38-macosx_10_9_x86_64.whl.metadata (5.6 kB)\n",
      "Requirement already satisfied: scipy>=1.1.0 in /Users/cibergus/opt/miniconda3/envs/Gus_ML_Course_202505/lib/python3.8/site-packages (from scikit-learn) (1.7.3)\n",
      "Requirement already satisfied: joblib>=0.11 in /Users/cibergus/opt/miniconda3/envs/Gus_ML_Course_202505/lib/python3.8/site-packages (from scikit-learn) (0.14.1)\n",
      "Requirement already satisfied: threadpoolctl>=2.0.0 in /Users/cibergus/opt/miniconda3/envs/Gus_ML_Course_202505/lib/python3.8/site-packages (from scikit-learn) (3.5.0)\n",
      "Requirement already satisfied: six>=1.5 in /Users/cibergus/opt/miniconda3/envs/Gus_ML_Course_202505/lib/python3.8/site-packages (from python-dateutil>=2.7.3->pandas) (1.15.0)\n",
      "  Downloading numpy-1.22.4-cp38-cp38-macosx_10_15_x86_64.whl.metadata (2.0 kB)\n",
      "Downloading seaborn-0.13.2-py3-none-any.whl (294 kB)\n",
      "Downloading numpy-1.22.4-cp38-cp38-macosx_10_15_x86_64.whl (17.6 MB)\n",
      "\u001b[2K   \u001b[90m━━━━━━━━━━━━━━━━━━━━━━━━━━━━━━━━━━━━━━━━\u001b[0m \u001b[32m17.6/17.6 MB\u001b[0m \u001b[31m3.9 MB/s\u001b[0m eta \u001b[36m0:00:00\u001b[0m00:01\u001b[0m00:01\u001b[0m\n",
      "\u001b[?25hInstalling collected packages: numpy, seaborn\n",
      "  Attempting uninstall: numpy\n",
      "    Found existing installation: numpy 1.19.5\n",
      "    Uninstalling numpy-1.19.5:\n",
      "      Successfully uninstalled numpy-1.19.5\n",
      "\u001b[31mERROR: pip's dependency resolver does not currently take into account all the packages that are installed. This behaviour is the source of the following dependency conflicts.\n",
      "shimmy 0.2.1 requires gymnasium>=0.27.0, which is not installed.\u001b[0m\u001b[31m\n",
      "\u001b[0mSuccessfully installed numpy-1.22.4 seaborn-0.13.2\n"
     ]
    }
   ],
   "source": [
    "# Those libraries are needed for my project. Only run once\n",
    "!pip install pandas numpy matplotlib seaborn scikit-learn"
   ]
  },
  {
   "cell_type": "markdown",
   "id": "51a8642a-b5dc-418b-a18b-412e369f91d9",
   "metadata": {},
   "source": [
    "# Import Libraries."
   ]
  },
  {
   "cell_type": "markdown",
   "id": "cb5e9e8c-c474-49f1-b74f-2f2440d5f461",
   "metadata": {},
   "source": [
    "import pandas as pd  \n",
    "import numpy as np  \n",
    "import matplotlib.pyplot as plt  \n",
    "import seaborn as sns  \n",
    "\n",
    "from sklearn.model_selection import train_test_split\n",
    "from sklearn.linear_model import LinearRegression\n",
    "from sklearn.metrics import mean_squared_error, r2_score"
   ]
  },
  {
   "cell_type": "markdown",
   "id": "2dcc481b-450e-4d29-a44a-89fa8f4927f1",
   "metadata": {},
   "source": [
    "# Load and Explore the Data"
   ]
  },
  {
   "cell_type": "markdown",
   "id": "6ae4f3c1-f737-4a9f-8fc6-74aafb9ed16d",
   "metadata": {},
   "source": [
    "df = pd.read_csv(\"data.csv\")\n",
    "print(df.head())\n",
    "print(df.info())\n",
    "print(df.describe())"
   ]
  },
  {
   "cell_type": "markdown",
   "id": "39d8d124-7bf3-44f8-ade4-5e4917ac6058",
   "metadata": {},
   "source": [
    "# Prepare the Data"
   ]
  },
  {
   "cell_type": "code",
   "execution_count": null,
   "id": "5c11c9b3-7b6a-47b8-83ac-b035bba37f11",
   "metadata": {},
   "outputs": [],
   "source": [
    "# Example: Predicting scores based on hours studied\n",
    "X = df[['Hours']]   # Feature(s)\n",
    "y = df['Scores']    # Target variable\n",
    "\n",
    "# Split data into training and testing sets\n",
    "X_train, X_test, y_train, y_test = train_test_split(\n",
    "    X, y, test_size=0.2, random_state=42"
   ]
  },
  {
   "cell_type": "markdown",
   "id": "0aa67f8d-fbcd-4341-bb83-58a528a60650",
   "metadata": {},
   "source": [
    "# Train and Evaluate the Model"
   ]
  },
  {
   "cell_type": "code",
   "execution_count": null,
   "id": "7e50b295-b7bd-4579-af7a-ade39d08e250",
   "metadata": {},
   "outputs": [],
   "source": [
    "# Initialize and train the model\n",
    "model = LinearRegression()\n",
    "model.fit(X_train, y_train)\n",
    "\n",
    "# Make predictions\n",
    "y_pred = model.predict(X_test)\n",
    "\n",
    "# Evaluate the model\n",
    "print(\"Mean Squared Error:\", mean_squared_error(y_test, y_pred))\n",
    "print(\"R² Score:\", r2_score(y_test, y_pred))\n"
   ]
  },
  {
   "cell_type": "markdown",
   "id": "cee2f650-af9b-4ed0-821a-f38f68ebd763",
   "metadata": {},
   "source": [
    "# Visualize results"
   ]
  },
  {
   "cell_type": "markdown",
   "id": "548647b9-281f-46c7-aa83-d41783d901e9",
   "metadata": {},
   "source": [
    "plt.scatter(X_test, y_test, color='blue', label='Actual')\n",
    "plt.plot(X_test, y_pred, color='red', linewidth=2, label='Predicted')\n",
    "plt.xlabel('Hours Studied')\n",
    "plt.ylabel('Scores')\n",
    "plt.title('Simple Linear Regression')\n",
    "plt.legend()\n",
    "plt.show()"
   ]
  }
 ],
 "metadata": {
  "kernelspec": {
   "display_name": "Python 3 (ipykernel)",
   "language": "python",
   "name": "python3"
  },
  "language_info": {
   "codemirror_mode": {
    "name": "ipython",
    "version": 3
   },
   "file_extension": ".py",
   "mimetype": "text/x-python",
   "name": "python",
   "nbconvert_exporter": "python",
   "pygments_lexer": "ipython3",
   "version": "3.8.19"
  },
  "widgets": {
   "application/vnd.jupyter.widget-state+json": {
    "state": {},
    "version_major": 2,
    "version_minor": 0
   }
  }
 },
 "nbformat": 4,
 "nbformat_minor": 5
}
