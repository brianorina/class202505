{
 "cells": [
  {
   "cell_type": "markdown",
   "id": "1165aa3e-541a-4550-9ec5-db0b586fd3ea",
   "metadata": {
    "tags": []
   },
   "source": [
    "# **MACHINE LEARNING PROJECT TEMPLATE**"
   ]
  },
  {
   "cell_type": "markdown",
   "id": "dd4f4f38-3be4-41f1-afcc-b94c5d9502d3",
   "metadata": {
    "jp-MarkdownHeadingCollapsed": true,
    "tags": []
   },
   "source": [
    "# 1 - DEFINE THE PROBLEM\n",
    "Describe the business or research problem.  \n",
    "Define the objective and desired output of the model.  \n",
    "State whether the task is classification, regression, clustering, etc.  \n"
   ]
  },
  {
   "cell_type": "markdown",
   "id": "2d8ff86e-c1a6-419e-871c-73681e04ca6e",
   "metadata": {
    "tags": []
   },
   "source": [
    "# 2 - IMPORT REQUIRED LIBRARIES\n",
    "\n",
    "Import other necessary libraries/packages based on the problem"
   ]
  },
  {
   "cell_type": "markdown",
   "id": "7f80a5e8-7032-4120-b913-87b1dfe6c021",
   "metadata": {},
   "source": [
    "## 2.1 - Base Libraries"
   ]
  },
  {
   "cell_type": "code",
   "execution_count": 1,
   "id": "11ce3022-7165-445c-9ba0-8be5eaef5d06",
   "metadata": {},
   "outputs": [],
   "source": [
    "import pandas as pd\n",
    "import numpy as np\n",
    "import matplotlib.pyplot as plt\n",
    "import seaborn as sns"
   ]
  },
  {
   "cell_type": "markdown",
   "id": "0f8e503d-45fd-4d37-947e-6f8a1c4a23bf",
   "metadata": {},
   "source": [
    "## 2.2 - ML/DL Libraries"
   ]
  },
  {
   "cell_type": "code",
   "execution_count": null,
   "id": "1bdd94c7-b6fd-4525-ba06-c5dad0155bcf",
   "metadata": {},
   "outputs": [],
   "source": [
    "from sklearn.model_selection import train_test_split, cross_val_score\n",
    "from sklearn.preprocessing import StandardScaler, OneHotEncoder\n",
    "from sklearn.metrics import accuracy_score, mean_squared_error, classification_report\n",
    "from sklearn.pipeline import Pipeline"
   ]
  },
  {
   "cell_type": "markdown",
   "id": "9268924f-9dc4-4745-874f-b2b68d6227bf",
   "metadata": {
    "tags": []
   },
   "source": [
    "# 3 - LOAD THE DATA\n",
    "Load the dataset from a CSV, TXT, DB or online source, etc."
   ]
  },
  {
   "cell_type": "code",
   "execution_count": null,
   "id": "fc697d7f-3923-450e-8196-95277a7b250a",
   "metadata": {},
   "outputs": [],
   "source": [
    "data = pd.read_csv('path_to_data_file.csv')"
   ]
  },
  {
   "cell_type": "markdown",
   "id": "e8b9678f-5a24-45bf-a147-d088c703f0e7",
   "metadata": {
    "tags": []
   },
   "source": [
    "# 4 - EDA (Exploratory Data Analysis) of the DATA"
   ]
  },
  {
   "cell_type": "markdown",
   "id": "16a839e9-0225-463d-a3a1-7a2ae178ce8e",
   "metadata": {
    "jp-MarkdownHeadingCollapsed": true,
    "tags": []
   },
   "source": [
    "## 4.1 - Basic Overview"
   ]
  },
  {
   "cell_type": "code",
   "execution_count": null,
   "id": "f6aff018-85a2-4e46-89ee-36b9fafcbc63",
   "metadata": {},
   "outputs": [],
   "source": [
    "data.head()\n",
    "data.describe()\n",
    "data.info()"
   ]
  },
  {
   "cell_type": "markdown",
   "id": "07aab0b7-34a6-4000-88c3-17865f1de713",
   "metadata": {
    "jp-MarkdownHeadingCollapsed": true,
    "tags": []
   },
   "source": [
    "## 4.2 - Check for Missing Values"
   ]
  },
  {
   "cell_type": "code",
   "execution_count": null,
   "id": "a8afd24a-6066-4799-b951-89ee452c2bb8",
   "metadata": {},
   "outputs": [],
   "source": [
    "data.isnull().sum()"
   ]
  },
  {
   "cell_type": "markdown",
   "id": "4591d548-c09f-4365-8376-ffd39803354c",
   "metadata": {
    "jp-MarkdownHeadingCollapsed": true,
    "tags": []
   },
   "source": [
    "## 4.3 - Analyze Data Types"
   ]
  },
  {
   "cell_type": "code",
   "execution_count": null,
   "id": "6257e653-e763-4230-a51e-22eff91a9314",
   "metadata": {},
   "outputs": [],
   "source": [
    "data.types"
   ]
  },
  {
   "cell_type": "markdown",
   "id": "5ad9df7f-3164-4783-a2ff-9a9842f85f52",
   "metadata": {
    "tags": []
   },
   "source": [
    "# 5 - VISUALIZE THE DATA"
   ]
  },
  {
   "cell_type": "markdown",
   "id": "548d9943-08ea-4b6e-8483-8c7946568fc2",
   "metadata": {
    "tags": []
   },
   "source": [
    "## 5.1 - UNIVARIATE ANALYSIS"
   ]
  },
  {
   "cell_type": "markdown",
   "id": "a68bb927-90e3-4ba6-9ce5-b3b2591c45c2",
   "metadata": {
    "jp-MarkdownHeadingCollapsed": true,
    "tags": []
   },
   "source": [
    "### Example: Distribution of a numerical variable using seaborn and matplotlib  \n",
    "Replace 'feature_name' with the column you want to analyze"
   ]
  },
  {
   "cell_type": "code",
   "execution_count": null,
   "id": "5ea2a8d4-3fd6-4097-9279-09a70829d1d8",
   "metadata": {
    "jp-MarkdownHeadingCollapsed": true,
    "tags": []
   },
   "outputs": [],
   "source": [
    "# Seaborn histogram\n",
    "sns.histplot(df['feature_name'], kde=True)\n",
    "plt.title(\"Distribution of feature_name (Seaborn)\")\n",
    "plt.xlabel(\"feature_name\")\n",
    "plt.ylabel(\"Frequency\")\n",
    "plt.show()"
   ]
  },
  {
   "cell_type": "code",
   "execution_count": null,
   "id": "7a447569-6a0e-4463-97b3-77bb55c3db88",
   "metadata": {
    "jp-MarkdownHeadingCollapsed": true,
    "tags": []
   },
   "outputs": [],
   "source": [
    "# Matplotlib histogram\n",
    "plt.hist(df['feature_name'], bins=30, edgecolor='black')\n",
    "plt.title(\"Distribution of feature_name (Matplotlib)\")\n",
    "plt.xlabel(\"feature_name\")\n",
    "plt.ylabel(\"Frequency\")\n",
    "plt.grid(True)\n",
    "plt.show()"
   ]
  },
  {
   "cell_type": "markdown",
   "id": "3731ec5f-4c09-40af-a75a-d3c23ce7604d",
   "metadata": {
    "jp-MarkdownHeadingCollapsed": true,
    "tags": []
   },
   "source": [
    "### Example: Bar plot of a categorical variable"
   ]
  },
  {
   "cell_type": "code",
   "execution_count": null,
   "id": "62af3342-f667-4a71-b8b6-bba6f085081b",
   "metadata": {
    "jp-MarkdownHeadingCollapsed": true,
    "tags": []
   },
   "outputs": [],
   "source": [
    "# Seaborn barplot\n",
    "sns.countplot(x='categorical_feature', data=df)\n",
    "plt.title(\"Count of each category (Seaborn)\")\n",
    "plt.xlabel(\"Category\")\n",
    "plt.ylabel(\"Count\")\n",
    "plt.xticks(rotation=45)\n",
    "plt.show()"
   ]
  },
  {
   "cell_type": "code",
   "execution_count": null,
   "id": "1473eeb6-852b-493d-a163-852a857de08b",
   "metadata": {
    "jp-MarkdownHeadingCollapsed": true,
    "tags": []
   },
   "outputs": [],
   "source": [
    "# Matplotlib bar plot\n",
    "df['categorical_feature'].value_counts().plot(kind='bar')\n",
    "plt.title(\"Count of each category (Matplotlib)\")\n",
    "plt.xlabel(\"Category\")\n",
    "plt.ylabel(\"Count\")\n",
    "plt.xticks(rotation=45)\n",
    "plt.grid(True)\n",
    "plt.show()"
   ]
  },
  {
   "cell_type": "markdown",
   "id": "a0beeccb-5178-4b9d-a38e-717016da9a56",
   "metadata": {
    "tags": []
   },
   "source": [
    "## 5.2 - BIVARIATE / MULTIVARIATE ANALYSIS"
   ]
  },
  {
   "cell_type": "markdown",
   "id": "0c0c01b7-ae32-49e2-8a31-5b6724675ceb",
   "metadata": {
    "jp-MarkdownHeadingCollapsed": true,
    "tags": []
   },
   "source": [
    "### Example: Scatter plot between two numerical variables"
   ]
  },
  {
   "cell_type": "code",
   "execution_count": null,
   "id": "8ddd984c-b2bb-45e1-85e7-b028f4dfb26b",
   "metadata": {
    "jp-MarkdownHeadingCollapsed": true,
    "tags": []
   },
   "outputs": [],
   "source": [
    "# Seaborn scatter plot\n",
    "sns.scatterplot(x='feature_1', y='feature_2', data=df)\n",
    "plt.title(\"Scatter plot of feature_1 vs feature_2 (Seaborn)\")\n",
    "plt.xlabel(\"feature_1\")\n",
    "plt.ylabel(\"feature_2\")\n",
    "plt.grid(True)\n",
    "plt.show()"
   ]
  },
  {
   "cell_type": "code",
   "execution_count": null,
   "id": "16f94bf3-6456-4a42-b193-45fb59b49540",
   "metadata": {
    "jp-MarkdownHeadingCollapsed": true,
    "tags": []
   },
   "outputs": [],
   "source": [
    "# Matplotlib scatter plot\n",
    "plt.scatter(df['feature_1'], df['feature_2'], alpha=0.5)\n",
    "plt.title(\"Scatter plot of feature_1 vs feature_2 (Matplotlib)\")\n",
    "plt.xlabel(\"feature_1\")\n",
    "plt.ylabel(\"feature_2\")\n",
    "plt.grid(True)\n",
    "plt.show()"
   ]
  },
  {
   "cell_type": "markdown",
   "id": "0a97f3c0-1f28-4336-a13a-1804c93013e2",
   "metadata": {
    "jp-MarkdownHeadingCollapsed": true,
    "tags": []
   },
   "source": [
    "### Example: Correlation heatmap (Seaborn only, but with Matplotlib styling)"
   ]
  },
  {
   "cell_type": "code",
   "execution_count": null,
   "id": "4214c556-4576-40bf-b594-a23566dcfc9e",
   "metadata": {
    "jp-MarkdownHeadingCollapsed": true,
    "tags": []
   },
   "outputs": [],
   "source": [
    "plt.figure(figsize=(10, 8))\n",
    "sns.heatmap(df.corr(), annot=True, cmap='coolwarm', fmt=\".2f\", linewidths=0.5)\n",
    "plt.title(\"Correlation Matrix\")\n",
    "plt.show()"
   ]
  },
  {
   "cell_type": "markdown",
   "id": "4ff5a3ff-3783-4c46-b22a-3bf96ec318ee",
   "metadata": {
    "tags": []
   },
   "source": [
    "# 6 - PRE-PROCESS THE DATA"
   ]
  },
  {
   "cell_type": "markdown",
   "id": "6efd8bd2-b6d1-4c9b-aa36-13e4dd963f65",
   "metadata": {
    "jp-MarkdownHeadingCollapsed": true
   },
   "source": [
    "## 6.1 - Handle Missing Values\n"
   ]
  },
  {
   "cell_type": "code",
   "execution_count": null,
   "id": "a0925aca-5c83-4d49-9beb-3e896a5bc860",
   "metadata": {},
   "outputs": [],
   "source": [
    "data.fillna(method='ffill', inplace=True)"
   ]
  },
  {
   "cell_type": "markdown",
   "id": "dd5997b8-fc1e-417d-94f9-60a064978682",
   "metadata": {
    "jp-MarkdownHeadingCollapsed": true
   },
   "source": [
    "## 6.2 - Encode Categorical Variables\n"
   ]
  },
  {
   "cell_type": "code",
   "execution_count": null,
   "id": "c2402b21-4808-40c8-98e4-c0c99de88eda",
   "metadata": {},
   "outputs": [],
   "source": [
    "df = pd.get_dummies(df, drop_first=True)"
   ]
  },
  {
   "cell_type": "markdown",
   "id": "2a21e63f-1131-45b1-9ed4-4ff25ca2adcd",
   "metadata": {
    "jp-MarkdownHeadingCollapsed": true
   },
   "source": [
    "## 6.3 - Feature Scaling"
   ]
  },
  {
   "cell_type": "code",
   "execution_count": null,
   "id": "ea7d6624-3c35-4aee-9326-052ebe8c553d",
   "metadata": {},
   "outputs": [],
   "source": [
    "scaler = StandardScaler()\n",
    "df_scaled = scaler.fit_transform(df)  "
   ]
  },
  {
   "cell_type": "markdown",
   "id": "42f3ad64-6f5c-426f-9db3-a0f1c49f1911",
   "metadata": {
    "tags": []
   },
   "source": [
    "# 7 - SPLIT THE DATA"
   ]
  },
  {
   "cell_type": "markdown",
   "id": "7b3f7da2-f013-42cb-a7d4-129272424b95",
   "metadata": {
    "jp-MarkdownHeadingCollapsed": true,
    "tags": []
   },
   "source": [
    "## 7.1 - Separate features and target variable"
   ]
  },
  {
   "cell_type": "code",
   "execution_count": null,
   "id": "e02787cd-c4fb-4229-8538-c335ca7e7452",
   "metadata": {
    "tags": []
   },
   "outputs": [],
   "source": [
    "# Replace 'target_column' with the actual name of your target variable\n",
    "X = data.drop('target_column', axis=1)\n",
    "y = data['target_column']"
   ]
  },
  {
   "cell_type": "markdown",
   "id": "6f7d79fc-cf17-4f75-905b-ff48d835f3a5",
   "metadata": {
    "jp-MarkdownHeadingCollapsed": true,
    "tags": []
   },
   "source": [
    "## 7.2 - Split the dataset into training and test sets"
   ]
  },
  {
   "cell_type": "code",
   "execution_count": null,
   "id": "eb5a3d27-25ab-4502-a1cb-55600c78583c",
   "metadata": {
    "tags": []
   },
   "outputs": [],
   "source": [
    "# 80% for training, 20% for testing\n",
    "X_train, X_test, y_train, y_test = train_test_split(\n",
    "    X, y, test_size=.2, random_state=42\n",
    ")"
   ]
  },
  {
   "cell_type": "markdown",
   "id": "3a247277-ebe4-404c-a266-6ee9ce77af98",
   "metadata": {
    "jp-MarkdownHeadingCollapsed": true,
    "tags": []
   },
   "source": [
    "## 7.3 - Display dimensions to verify the split"
   ]
  },
  {
   "cell_type": "code",
   "execution_count": null,
   "id": "c35b2bd1-286b-47e1-a1ee-2c71a67ad3b7",
   "metadata": {
    "tags": []
   },
   "outputs": [],
   "source": [
    "print(\"Training feature set shape:\", X_train.shape)\n",
    "print(\"Test feature set shape:\", X_test.shape)\n",
    "print(\"Training labels shape:\", y_train.shape)\n",
    "print(\"Test labels shape:\", y_test.shape)"
   ]
  },
  {
   "cell_type": "markdown",
   "id": "89ac2ba4-a62c-4ed3-a554-4817d8651de3",
   "metadata": {
    "jp-MarkdownHeadingCollapsed": true,
    "tags": []
   },
   "source": [
    "# 8 - TRAIN A MODEL\n"
   ]
  },
  {
   "cell_type": "code",
   "execution_count": null,
   "id": "fcfe4875-89d9-4cc3-95dc-4f8ee8d184dc",
   "metadata": {},
   "outputs": [],
   "source": [
    "model = LogisticRegression()\n",
    "model.fit(X_train, y_train)\n"
   ]
  },
  {
   "cell_type": "markdown",
   "id": "68b01a93-b83f-47bd-89dd-82069edf7c30",
   "metadata": {},
   "source": [
    "# 9 - EVALUATE AND TUNE THE MODEL"
   ]
  },
  {
   "cell_type": "markdown",
   "id": "b7a9e9fb-d1d0-44c6-8454-b9c33595cd29",
   "metadata": {
    "jp-MarkdownHeadingCollapsed": true
   },
   "source": [
    "## 9.1 - Evaluate on Test Set"
   ]
  },
  {
   "cell_type": "code",
   "execution_count": null,
   "id": "2af338d9-4b74-4ae7-8429-85e98330c707",
   "metadata": {
    "jp-MarkdownHeadingCollapsed": true
   },
   "outputs": [],
   "source": [
    "y_pred = model.predict(X_test)\n",
    "print(classification_report(y_test, y_pred))"
   ]
  },
  {
   "cell_type": "markdown",
   "id": "94736d77-8c4c-471c-9c56-00029a27299a",
   "metadata": {
    "jp-MarkdownHeadingCollapsed": true
   },
   "source": [
    "## 9.2 - Cross-Validation"
   ]
  },
  {
   "cell_type": "code",
   "execution_count": null,
   "id": "8221ce06-c5de-445d-8d8b-72ca89ace8b6",
   "metadata": {
    "jp-MarkdownHeadingCollapsed": true
   },
   "outputs": [],
   "source": [
    "scores = cross_val_score(model, X_train, y_train, cv=5)\n",
    "print('CV Accuracy:', scores.mean())"
   ]
  },
  {
   "cell_type": "markdown",
   "id": "983bb79f-628f-4459-97eb-977d7cab7034",
   "metadata": {},
   "source": [
    "# 10 - INTERPRET RESULTS AND NEXT STEPS"
   ]
  },
  {
   "cell_type": "markdown",
   "id": "0bb642da-587f-47be-876c-bfc1294fae61",
   "metadata": {
    "jp-MarkdownHeadingCollapsed": true
   },
   "source": [
    "## 10.1 - Interpret Coefficients or Feature Importance"
   ]
  },
  {
   "cell_type": "code",
   "execution_count": null,
   "id": "66bc832a-0563-4c5f-ae44-603fc0aab1c8",
   "metadata": {},
   "outputs": [],
   "source": [
    "print(model.coef_)"
   ]
  },
  {
   "cell_type": "markdown",
   "id": "ecba8a1c-5867-4e06-810d-8bdbef564cfc",
   "metadata": {},
   "source": [
    "## 10.2 - Discuss Limitations and Improvements\n",
    "What worked well?  \n",
    "What needs improvement?  \n",
    "Future work or deployment ideas"
   ]
  },
  {
   "cell_type": "code",
   "execution_count": null,
   "id": "6bac6f82-bfaf-4343-a3b5-3084b8e1db9f",
   "metadata": {},
   "outputs": [],
   "source": []
  }
 ],
 "metadata": {
  "kernelspec": {
   "display_name": "Python 3 (ipykernel)",
   "language": "python",
   "name": "python3"
  },
  "language_info": {
   "codemirror_mode": {
    "name": "ipython",
    "version": 3
   },
   "file_extension": ".py",
   "mimetype": "text/x-python",
   "name": "python",
   "nbconvert_exporter": "python",
   "pygments_lexer": "ipython3",
   "version": "3.12.9"
  },
  "widgets": {
   "application/vnd.jupyter.widget-state+json": {
    "state": {},
    "version_major": 2,
    "version_minor": 0
   }
  }
 },
 "nbformat": 4,
 "nbformat_minor": 5
}
