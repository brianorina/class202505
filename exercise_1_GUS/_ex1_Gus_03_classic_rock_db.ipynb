{
 "cells": [
  {
   "cell_type": "markdown",
   "id": "89b9325d",
   "metadata": {},
   "source": [
    "# 1 - DEFINE THE PROBLEM\n",
    "We aim to build a classification model to predict whether a song play was the first time it was aired (`First?` column), based on data from U.S. radio classic rock airplays."
   ]
  },
  {
   "cell_type": "markdown",
   "id": "40d42eaa-3edf-4234-94b7-ce8384d8b3d6",
   "metadata": {},
   "source": [
    "# 2 - IMPORT REQUIRED LIBRARIES"
   ]
  },
  {
   "cell_type": "markdown",
   "id": "a74591af-9d79-45ae-af61-95356b334fbe",
   "metadata": {},
   "source": [
    "## 2.1 - Base Libraries"
   ]
  },
  {
   "cell_type": "code",
   "execution_count": 1,
   "id": "38241077",
   "metadata": {},
   "outputs": [],
   "source": [
    "import pandas as pd\n",
    "import numpy as np\n",
    "import matplotlib.pyplot as plt\n",
    "import seaborn as sns\n",
    "import sqlite3"
   ]
  },
  {
   "cell_type": "markdown",
   "id": "9de79393-5b29-43ff-80d8-7b8c36839460",
   "metadata": {},
   "source": [
    "## 2.2 - ML/DL Libraries"
   ]
  },
  {
   "cell_type": "code",
   "execution_count": 2,
   "id": "127b1cc0-9d4a-46b5-b39a-fec41aecffa5",
   "metadata": {},
   "outputs": [],
   "source": [
    "from sklearn.compose import ColumnTransformer\n",
    "from sklearn.impute import SimpleImputer\n",
    "from sklearn.linear_model import LogisticRegression\n",
    "from sklearn.metrics import classification_report, confusion_matrix\n",
    "from sklearn.model_selection import train_test_split\n",
    "from sklearn.pipeline import Pipeline\n",
    "from sklearn.preprocessing import StandardScaler, OneHotEncoder"
   ]
  },
  {
   "cell_type": "markdown",
   "id": "f95d7303-44cf-428e-a566-15a860f5bfbe",
   "metadata": {},
   "source": [
    "# 3 - LOAD THE DATA"
   ]
  },
  {
   "cell_type": "code",
   "execution_count": 3,
   "id": "b165988f",
   "metadata": {},
   "outputs": [],
   "source": [
    "conn = sqlite3.connect('../datasets/classic_rock.db')\n",
    "df = pd.read_sql_query('SELECT * FROM rock_plays', conn)"
   ]
  },
  {
   "cell_type": "markdown",
   "id": "864f03e2-c4b2-43e8-97ca-7084dbd1a63e",
   "metadata": {},
   "source": [
    "# 4 - EDA (Exploratory Data Analysis)"
   ]
  },
  {
   "cell_type": "code",
   "execution_count": 4,
   "id": "58140aab-5f02-4d82-8f31-d5961886cae1",
   "metadata": {},
   "outputs": [
    {
     "data": {
      "text/html": [
       "<div>\n",
       "<style scoped>\n",
       "    .dataframe tbody tr th:only-of-type {\n",
       "        vertical-align: middle;\n",
       "    }\n",
       "\n",
       "    .dataframe tbody tr th {\n",
       "        vertical-align: top;\n",
       "    }\n",
       "\n",
       "    .dataframe thead th {\n",
       "        text-align: right;\n",
       "    }\n",
       "</style>\n",
       "<table border=\"1\" class=\"dataframe\">\n",
       "  <thead>\n",
       "    <tr style=\"text-align: right;\">\n",
       "      <th></th>\n",
       "      <th>SONG RAW</th>\n",
       "      <th>Song Clean</th>\n",
       "      <th>ARTIST RAW</th>\n",
       "      <th>ARTIST CLEAN</th>\n",
       "      <th>CALLSIGN</th>\n",
       "      <th>TIME</th>\n",
       "      <th>UNIQUE_ID</th>\n",
       "      <th>COMBINED</th>\n",
       "      <th>First?</th>\n",
       "      <th>date_time</th>\n",
       "      <th>day_of_week</th>\n",
       "    </tr>\n",
       "  </thead>\n",
       "  <tbody>\n",
       "    <tr>\n",
       "      <th>0</th>\n",
       "      <td>Caught Up In (live)</td>\n",
       "      <td>Caught Up in You</td>\n",
       "      <td>.38 Special</td>\n",
       "      <td>.38 Special</td>\n",
       "      <td>KGLK</td>\n",
       "      <td>1402943314</td>\n",
       "      <td>KGLK1536</td>\n",
       "      <td>Caught Up in You by .38 Special</td>\n",
       "      <td>1</td>\n",
       "      <td>2014-06-16 18:28:34</td>\n",
       "      <td>0</td>\n",
       "    </tr>\n",
       "    <tr>\n",
       "      <th>1</th>\n",
       "      <td>Caught Up In You</td>\n",
       "      <td>Caught Up in You</td>\n",
       "      <td>.38 Special</td>\n",
       "      <td>.38 Special</td>\n",
       "      <td>KGB</td>\n",
       "      <td>1403398735</td>\n",
       "      <td>KGB0260</td>\n",
       "      <td>Caught Up in You by .38 Special</td>\n",
       "      <td>0</td>\n",
       "      <td>2014-06-22 00:58:55</td>\n",
       "      <td>6</td>\n",
       "    </tr>\n",
       "    <tr>\n",
       "      <th>2</th>\n",
       "      <td>Caught Up In You</td>\n",
       "      <td>Caught Up in You</td>\n",
       "      <td>.38 Special</td>\n",
       "      <td>.38 Special</td>\n",
       "      <td>KGB</td>\n",
       "      <td>1403243924</td>\n",
       "      <td>KGB0703</td>\n",
       "      <td>Caught Up in You by .38 Special</td>\n",
       "      <td>0</td>\n",
       "      <td>2014-06-20 05:58:44</td>\n",
       "      <td>4</td>\n",
       "    </tr>\n",
       "    <tr>\n",
       "      <th>3</th>\n",
       "      <td>Caught Up in You</td>\n",
       "      <td>Caught Up in You</td>\n",
       "      <td>.38 Special</td>\n",
       "      <td>.38 Special</td>\n",
       "      <td>KGLK</td>\n",
       "      <td>1403470732</td>\n",
       "      <td>KGLK0036</td>\n",
       "      <td>Caught Up in You by .38 Special</td>\n",
       "      <td>0</td>\n",
       "      <td>2014-06-22 20:58:52</td>\n",
       "      <td>6</td>\n",
       "    </tr>\n",
       "    <tr>\n",
       "      <th>4</th>\n",
       "      <td>Caught Up in You</td>\n",
       "      <td>Caught Up in You</td>\n",
       "      <td>.38 Special</td>\n",
       "      <td>.38 Special</td>\n",
       "      <td>KGLK</td>\n",
       "      <td>1403380737</td>\n",
       "      <td>KGLK0312</td>\n",
       "      <td>Caught Up in You by .38 Special</td>\n",
       "      <td>0</td>\n",
       "      <td>2014-06-21 19:58:57</td>\n",
       "      <td>5</td>\n",
       "    </tr>\n",
       "  </tbody>\n",
       "</table>\n",
       "</div>"
      ],
      "text/plain": [
       "              SONG RAW        Song Clean   ARTIST RAW ARTIST CLEAN CALLSIGN  \\\n",
       "0  Caught Up In (live)  Caught Up in You  .38 Special  .38 Special     KGLK   \n",
       "1     Caught Up In You  Caught Up in You  .38 Special  .38 Special      KGB   \n",
       "2     Caught Up In You  Caught Up in You  .38 Special  .38 Special      KGB   \n",
       "3     Caught Up in You  Caught Up in You  .38 Special  .38 Special     KGLK   \n",
       "4     Caught Up in You  Caught Up in You  .38 Special  .38 Special     KGLK   \n",
       "\n",
       "         TIME UNIQUE_ID                         COMBINED  First?  \\\n",
       "0  1402943314  KGLK1536  Caught Up in You by .38 Special       1   \n",
       "1  1403398735   KGB0260  Caught Up in You by .38 Special       0   \n",
       "2  1403243924   KGB0703  Caught Up in You by .38 Special       0   \n",
       "3  1403470732  KGLK0036  Caught Up in You by .38 Special       0   \n",
       "4  1403380737  KGLK0312  Caught Up in You by .38 Special       0   \n",
       "\n",
       "             date_time  day_of_week  \n",
       "0  2014-06-16 18:28:34            0  \n",
       "1  2014-06-22 00:58:55            6  \n",
       "2  2014-06-20 05:58:44            4  \n",
       "3  2014-06-22 20:58:52            6  \n",
       "4  2014-06-21 19:58:57            5  "
      ]
     },
     "execution_count": 4,
     "metadata": {},
     "output_type": "execute_result"
    }
   ],
   "source": [
    "df.head()"
   ]
  },
  {
   "cell_type": "code",
   "execution_count": 5,
   "id": "f3f7ab6e",
   "metadata": {},
   "outputs": [
    {
     "name": "stdout",
     "output_type": "stream",
     "text": [
      "<class 'pandas.core.frame.DataFrame'>\n",
      "RangeIndex: 37673 entries, 0 to 37672\n",
      "Data columns (total 11 columns):\n",
      " #   Column        Non-Null Count  Dtype \n",
      "---  ------        --------------  ----- \n",
      " 0   SONG RAW      37673 non-null  object\n",
      " 1   Song Clean    37647 non-null  object\n",
      " 2   ARTIST RAW    37668 non-null  object\n",
      " 3   ARTIST CLEAN  37665 non-null  object\n",
      " 4   CALLSIGN      37673 non-null  object\n",
      " 5   TIME          37673 non-null  int64 \n",
      " 6   UNIQUE_ID     37673 non-null  object\n",
      " 7   COMBINED      37673 non-null  object\n",
      " 8   First?        37673 non-null  int64 \n",
      " 9   date_time     37673 non-null  object\n",
      " 10  day_of_week   37673 non-null  int64 \n",
      "dtypes: int64(3), object(8)\n",
      "memory usage: 3.2+ MB\n",
      "None\n"
     ]
    }
   ],
   "source": [
    "print(df.info())"
   ]
  },
  {
   "cell_type": "code",
   "execution_count": 6,
   "id": "8765d3fd-33c4-48af-9164-e1b5609f85d5",
   "metadata": {},
   "outputs": [
    {
     "name": "stdout",
     "output_type": "stream",
     "text": [
      "SONG RAW         0\n",
      "Song Clean      26\n",
      "ARTIST RAW       5\n",
      "ARTIST CLEAN     8\n",
      "CALLSIGN         0\n",
      "TIME             0\n",
      "UNIQUE_ID        0\n",
      "COMBINED         0\n",
      "First?           0\n",
      "date_time        0\n",
      "day_of_week      0\n",
      "dtype: int64\n"
     ]
    }
   ],
   "source": [
    "print(df.isnull().sum())"
   ]
  },
  {
   "cell_type": "code",
   "execution_count": 7,
   "id": "2829c6be-604b-4e42-a542-2956846395bf",
   "metadata": {},
   "outputs": [
    {
     "data": {
      "text/html": [
       "<div>\n",
       "<style scoped>\n",
       "    .dataframe tbody tr th:only-of-type {\n",
       "        vertical-align: middle;\n",
       "    }\n",
       "\n",
       "    .dataframe tbody tr th {\n",
       "        vertical-align: top;\n",
       "    }\n",
       "\n",
       "    .dataframe thead th {\n",
       "        text-align: right;\n",
       "    }\n",
       "</style>\n",
       "<table border=\"1\" class=\"dataframe\">\n",
       "  <thead>\n",
       "    <tr style=\"text-align: right;\">\n",
       "      <th></th>\n",
       "      <th>SONG RAW</th>\n",
       "      <th>Song Clean</th>\n",
       "      <th>ARTIST RAW</th>\n",
       "      <th>ARTIST CLEAN</th>\n",
       "      <th>CALLSIGN</th>\n",
       "      <th>TIME</th>\n",
       "      <th>UNIQUE_ID</th>\n",
       "      <th>COMBINED</th>\n",
       "      <th>First?</th>\n",
       "      <th>date_time</th>\n",
       "      <th>day_of_week</th>\n",
       "    </tr>\n",
       "  </thead>\n",
       "  <tbody>\n",
       "    <tr>\n",
       "      <th>count</th>\n",
       "      <td>37673</td>\n",
       "      <td>37647</td>\n",
       "      <td>37668</td>\n",
       "      <td>37665</td>\n",
       "      <td>37673</td>\n",
       "      <td>3.767300e+04</td>\n",
       "      <td>37673</td>\n",
       "      <td>37673</td>\n",
       "      <td>37673.000000</td>\n",
       "      <td>37673</td>\n",
       "      <td>37673.000000</td>\n",
       "    </tr>\n",
       "    <tr>\n",
       "      <th>unique</th>\n",
       "      <td>3710</td>\n",
       "      <td>2158</td>\n",
       "      <td>867</td>\n",
       "      <td>476</td>\n",
       "      <td>25</td>\n",
       "      <td>NaN</td>\n",
       "      <td>37673</td>\n",
       "      <td>2231</td>\n",
       "      <td>NaN</td>\n",
       "      <td>3599</td>\n",
       "      <td>NaN</td>\n",
       "    </tr>\n",
       "    <tr>\n",
       "      <th>top</th>\n",
       "      <td>Dream On</td>\n",
       "      <td>Dream On</td>\n",
       "      <td>Led Zeppelin</td>\n",
       "      <td>Led Zeppelin</td>\n",
       "      <td>KSEG</td>\n",
       "      <td>NaN</td>\n",
       "      <td>KGLK1536</td>\n",
       "      <td>Dream On by Aerosmith</td>\n",
       "      <td>NaN</td>\n",
       "      <td>2014-06-19 23:54:25</td>\n",
       "      <td>NaN</td>\n",
       "    </tr>\n",
       "    <tr>\n",
       "      <th>freq</th>\n",
       "      <td>126</td>\n",
       "      <td>142</td>\n",
       "      <td>1363</td>\n",
       "      <td>1556</td>\n",
       "      <td>1821</td>\n",
       "      <td>NaN</td>\n",
       "      <td>1</td>\n",
       "      <td>142</td>\n",
       "      <td>NaN</td>\n",
       "      <td>267</td>\n",
       "      <td>NaN</td>\n",
       "    </tr>\n",
       "    <tr>\n",
       "      <th>mean</th>\n",
       "      <td>NaN</td>\n",
       "      <td>NaN</td>\n",
       "      <td>NaN</td>\n",
       "      <td>NaN</td>\n",
       "      <td>NaN</td>\n",
       "      <td>1.403187e+09</td>\n",
       "      <td>NaN</td>\n",
       "      <td>NaN</td>\n",
       "      <td>0.059273</td>\n",
       "      <td>NaN</td>\n",
       "      <td>3.009928</td>\n",
       "    </tr>\n",
       "    <tr>\n",
       "      <th>std</th>\n",
       "      <td>NaN</td>\n",
       "      <td>NaN</td>\n",
       "      <td>NaN</td>\n",
       "      <td>NaN</td>\n",
       "      <td>NaN</td>\n",
       "      <td>1.730484e+05</td>\n",
       "      <td>NaN</td>\n",
       "      <td>NaN</td>\n",
       "      <td>0.236138</td>\n",
       "      <td>NaN</td>\n",
       "      <td>1.976652</td>\n",
       "    </tr>\n",
       "    <tr>\n",
       "      <th>min</th>\n",
       "      <td>NaN</td>\n",
       "      <td>NaN</td>\n",
       "      <td>NaN</td>\n",
       "      <td>NaN</td>\n",
       "      <td>NaN</td>\n",
       "      <td>1.402878e+09</td>\n",
       "      <td>NaN</td>\n",
       "      <td>NaN</td>\n",
       "      <td>0.000000</td>\n",
       "      <td>NaN</td>\n",
       "      <td>0.000000</td>\n",
       "    </tr>\n",
       "    <tr>\n",
       "      <th>25%</th>\n",
       "      <td>NaN</td>\n",
       "      <td>NaN</td>\n",
       "      <td>NaN</td>\n",
       "      <td>NaN</td>\n",
       "      <td>NaN</td>\n",
       "      <td>1.403049e+09</td>\n",
       "      <td>NaN</td>\n",
       "      <td>NaN</td>\n",
       "      <td>0.000000</td>\n",
       "      <td>NaN</td>\n",
       "      <td>1.000000</td>\n",
       "    </tr>\n",
       "    <tr>\n",
       "      <th>50%</th>\n",
       "      <td>NaN</td>\n",
       "      <td>NaN</td>\n",
       "      <td>NaN</td>\n",
       "      <td>NaN</td>\n",
       "      <td>NaN</td>\n",
       "      <td>1.403194e+09</td>\n",
       "      <td>NaN</td>\n",
       "      <td>NaN</td>\n",
       "      <td>0.000000</td>\n",
       "      <td>NaN</td>\n",
       "      <td>3.000000</td>\n",
       "    </tr>\n",
       "    <tr>\n",
       "      <th>75%</th>\n",
       "      <td>NaN</td>\n",
       "      <td>NaN</td>\n",
       "      <td>NaN</td>\n",
       "      <td>NaN</td>\n",
       "      <td>NaN</td>\n",
       "      <td>1.403330e+09</td>\n",
       "      <td>NaN</td>\n",
       "      <td>NaN</td>\n",
       "      <td>0.000000</td>\n",
       "      <td>NaN</td>\n",
       "      <td>5.000000</td>\n",
       "    </tr>\n",
       "    <tr>\n",
       "      <th>max</th>\n",
       "      <td>NaN</td>\n",
       "      <td>NaN</td>\n",
       "      <td>NaN</td>\n",
       "      <td>NaN</td>\n",
       "      <td>NaN</td>\n",
       "      <td>1.403482e+09</td>\n",
       "      <td>NaN</td>\n",
       "      <td>NaN</td>\n",
       "      <td>1.000000</td>\n",
       "      <td>NaN</td>\n",
       "      <td>6.000000</td>\n",
       "    </tr>\n",
       "  </tbody>\n",
       "</table>\n",
       "</div>"
      ],
      "text/plain": [
       "        SONG RAW Song Clean    ARTIST RAW  ARTIST CLEAN CALLSIGN  \\\n",
       "count      37673      37647         37668         37665    37673   \n",
       "unique      3710       2158           867           476       25   \n",
       "top     Dream On   Dream On  Led Zeppelin  Led Zeppelin     KSEG   \n",
       "freq         126        142          1363          1556     1821   \n",
       "mean         NaN        NaN           NaN           NaN      NaN   \n",
       "std          NaN        NaN           NaN           NaN      NaN   \n",
       "min          NaN        NaN           NaN           NaN      NaN   \n",
       "25%          NaN        NaN           NaN           NaN      NaN   \n",
       "50%          NaN        NaN           NaN           NaN      NaN   \n",
       "75%          NaN        NaN           NaN           NaN      NaN   \n",
       "max          NaN        NaN           NaN           NaN      NaN   \n",
       "\n",
       "                TIME UNIQUE_ID               COMBINED        First?  \\\n",
       "count   3.767300e+04     37673                  37673  37673.000000   \n",
       "unique           NaN     37673                   2231           NaN   \n",
       "top              NaN  KGLK1536  Dream On by Aerosmith           NaN   \n",
       "freq             NaN         1                    142           NaN   \n",
       "mean    1.403187e+09       NaN                    NaN      0.059273   \n",
       "std     1.730484e+05       NaN                    NaN      0.236138   \n",
       "min     1.402878e+09       NaN                    NaN      0.000000   \n",
       "25%     1.403049e+09       NaN                    NaN      0.000000   \n",
       "50%     1.403194e+09       NaN                    NaN      0.000000   \n",
       "75%     1.403330e+09       NaN                    NaN      0.000000   \n",
       "max     1.403482e+09       NaN                    NaN      1.000000   \n",
       "\n",
       "                  date_time   day_of_week  \n",
       "count                 37673  37673.000000  \n",
       "unique                 3599           NaN  \n",
       "top     2014-06-19 23:54:25           NaN  \n",
       "freq                    267           NaN  \n",
       "mean                    NaN      3.009928  \n",
       "std                     NaN      1.976652  \n",
       "min                     NaN      0.000000  \n",
       "25%                     NaN      1.000000  \n",
       "50%                     NaN      3.000000  \n",
       "75%                     NaN      5.000000  \n",
       "max                     NaN      6.000000  "
      ]
     },
     "execution_count": 7,
     "metadata": {},
     "output_type": "execute_result"
    }
   ],
   "source": [
    "df.describe(include='all')"
   ]
  },
  {
   "cell_type": "markdown",
   "id": "834570c5-249d-47c6-a243-db2324469c8c",
   "metadata": {},
   "source": [
    "# 5 - VISUALIZE THE DATA"
   ]
  },
  {
   "cell_type": "code",
   "execution_count": 8,
   "id": "30c09936",
   "metadata": {},
   "outputs": [
    {
     "data": {
      "image/png": "[encoded data removed]",
      "text/plain": [
       "<Figure size 640x480 with 1 Axes>"
      ]
     },
     "metadata": {},
     "output_type": "display_data"
    }
   ],
   "source": [
    "sns.countplot(x='First?', data=df)\n",
    "plt.title('Distribution of First-Time Airplays')\n",
    "plt.show()"
   ]
  },
  {
   "cell_type": "code",
   "execution_count": 9,
   "id": "5f7bcd39-f969-43c2-be37-db5e7c5a4d7a",
   "metadata": {},
   "outputs": [
    {
     "data": {
      "image/png": "[encoded data removed]",
      "text/plain": [
       "<Figure size 640x480 with 1 Axes>"
      ]
     },
     "metadata": {},
     "output_type": "display_data"
    }
   ],
   "source": [
    "sns.histplot(df['TIME'], bins=30)\n",
    "plt.title('Distribution of Play Time')\n",
    "plt.show()"
   ]
  },
  {
   "cell_type": "code",
   "execution_count": 10,
   "id": "ce54d103-fab6-4a69-94e2-f98f7cc9e9dd",
   "metadata": {},
   "outputs": [
    {
     "data": {
      "image/png": "[encoded data removed]",
      "text/plain": [
       "<Figure size 640x480 with 1 Axes>"
      ]
     },
     "metadata": {},
     "output_type": "display_data"
    }
   ],
   "source": [
    "sns.countplot(x='day_of_week', hue='First?', data=df)\n",
    "plt.title('First Airplays by Day of the Week')\n",
    "plt.show()"
   ]
  },
  {
   "cell_type": "markdown",
   "id": "e1f93e74-1a20-4628-b1c3-d421c1a6d178",
   "metadata": {},
   "source": [
    "# 6 - PREPROCESS THE DATA"
   ]
  },
  {
   "cell_type": "code",
   "execution_count": 11,
   "id": "5389ddbd",
   "metadata": {},
   "outputs": [
    {
     "name": "stdout",
     "output_type": "stream",
     "text": [
      "✅ Processed features shape: (37673, 2668)\n"
     ]
    }
   ],
   "source": [
    "# Drop irrelevant or leak-prone columns\n",
    "X = df[['Song Clean', 'ARTIST CLEAN', 'CALLSIGN', 'day_of_week']].copy()\n",
    "y = df['First?']\n",
    "\n",
    "categorical_features = X.columns.tolist()\n",
    "\n",
    "preprocessor = ColumnTransformer(transformers=[\n",
    "    ('cat', OneHotEncoder(handle_unknown='ignore'), categorical_features)\n",
    "])\n",
    "\n",
    "X_processed = preprocessor.fit_transform(X)\n",
    "print(f'✅ Processed features shape: {X_processed.shape}')"
   ]
  },
  {
   "cell_type": "markdown",
   "id": "55c20a42-116f-4d04-8250-08c9e0289acd",
   "metadata": {},
   "source": [
    "# 7 - SPLIT THE DATA"
   ]
  },
  {
   "cell_type": "code",
   "execution_count": 12,
   "id": "2eb68256",
   "metadata": {},
   "outputs": [
    {
     "name": "stdout",
     "output_type": "stream",
     "text": [
      "Train shape: (30138, 2668), Test shape: (7535, 2668)\n"
     ]
    }
   ],
   "source": [
    "X_train, X_test, y_train, y_test = train_test_split(X_processed, y, test_size=0.2, random_state=42)\n",
    "print(f'Train shape: {X_train.shape}, Test shape: {X_test.shape}')"
   ]
  },
  {
   "cell_type": "code",
   "execution_count": 13,
   "id": "58d48e14-54ac-40fb-b4de-db554787de61",
   "metadata": {},
   "outputs": [
    {
     "data": {
      "image/png": "[encoded data removed]",
      "text/plain": [
       "<Figure size 600x600 with 1 Axes>"
      ]
     },
     "metadata": {},
     "output_type": "display_data"
    }
   ],
   "source": [
    "# Pie chart with custom labels showing both count and percentage\n",
    "train_rows = X_train.shape[0]\n",
    "test_rows = X_test.shape[0]\n",
    "total_rows = train_rows + test_rows\n",
    "\n",
    "labels = [\n",
    "    f'Train ({train_rows} - {100 * train_rows / total_rows:.1f}%)',\n",
    "    f'Test ({test_rows} - {100 * test_rows / total_rows:.1f}%)'\n",
    "]\n",
    "sizes = [train_rows, test_rows]\n",
    "\n",
    "plt.figure(figsize=(6, 6))\n",
    "plt.pie(\n",
    "    sizes,\n",
    "    labels=labels,\n",
    "    startangle=90,\n",
    "    colors=['skyblue', 'lightgreen'],\n",
    "    wedgeprops={'edgecolor': 'black'}\n",
    ")\n",
    "plt.title('Train/Test Split')\n",
    "plt.axis('equal')\n",
    "plt.show()"
   ]
  },
  {
   "cell_type": "code",
   "execution_count": null,
   "id": "3ecb9c22-ba4c-4ae5-816d-30c1a0916117",
   "metadata": {},
   "outputs": [],
   "source": []
  }
 ],
 "metadata": {
  "kernelspec": {
   "display_name": "Python 3 (ipykernel)",
   "language": "python",
   "name": "python3"
  },
  "language_info": {
   "codemirror_mode": {
    "name": "ipython",
    "version": 3
   },
   "file_extension": ".py",
   "mimetype": "text/x-python",
   "name": "python",
   "nbconvert_exporter": "python",
   "pygments_lexer": "ipython3",
   "version": "3.8.20"
  }
 },
 "nbformat": 4,
 "nbformat_minor": 5
}
