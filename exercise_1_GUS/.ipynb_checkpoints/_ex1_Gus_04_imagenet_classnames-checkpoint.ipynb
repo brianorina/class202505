{
 "cells": [
  {
   "cell_type": "markdown",
   "id": "1877dca8",
   "metadata": {},
   "source": [
    "# 1 - DEFINE THE PROBLEM\n",
    "We are exploring the contents of the `imagenet_class_names.txt` file, which includes the class labels used in ImageNet-based deep learning models. This notebook will help us understand the label structure and prepare it for use in machine learning pipelines."
   ]
  },
  {
   "cell_type": "code",
   "execution_count": null,
   "id": "4dfa5ab0",
   "metadata": {},
   "outputs": [],
   "source": [
    "# 2 - IMPORT REQUIRED LIBRARIES\n",
    "import pandas as pd\n",
    "import numpy as np\n",
    "import matplotlib.pyplot as plt\n",
    "import seaborn as sns\n",
    "import string"
   ]
  },
  {
   "cell_type": "code",
   "execution_count": null,
   "id": "1130e517",
   "metadata": {},
   "outputs": [],
   "source": [
    "# 3 - LOAD THE DATA\n",
    "with open('../datasets/imagenet_class_names.txt', 'r') as file:\n",
    "    class_names = [line.strip() for line in file.readlines() if line.strip()]\n",
    "\n",
    "print(f'Total classes: {len(class_names)}')\n",
    "class_names[:10]  # Preview first 10"
   ]
  },
  {
   "cell_type": "code",
   "execution_count": null,
   "id": "49f1748f",
   "metadata": {},
   "outputs": [],
   "source": [
    "# 4 - EDA (Exploratory Data Analysis)\n",
    "# Convert to DataFrame for analysis\n",
    "df = pd.DataFrame(class_names, columns=['class_name'])\n",
    "df['length'] = df['class_name'].apply(len)\n",
    "df['first_letter'] = df['class_name'].str[0]\n",
    "df.describe(include='all')"
   ]
  },
  {
   "cell_type": "code",
   "execution_count": null,
   "id": "5a7b14e2",
   "metadata": {},
   "outputs": [],
   "source": [
    "# 5 - VISUALIZE THE DATA\n",
    "# Histogram of class name lengths\n",
    "sns.histplot(df['length'], bins=20)\n",
    "plt.title('Class Name Length Distribution')\n",
    "plt.xlabel('Length')\n",
    "plt.ylabel('Count')\n",
    "plt.show()\n",
    "\n",
    "# Frequency of first letters\n",
    "plt.figure(figsize=(10, 5))\n",
    "sns.countplot(x='first_letter', data=df,\n",
    "              order=sorted(df['first_letter'].unique()))\n",
    "plt.title('Distribution of First Letters in Class Names')\n",
    "plt.show()"
   ]
  },
  {
   "cell_type": "code",
   "execution_count": null,
   "id": "c3a8faf0",
   "metadata": {},
   "outputs": [],
   "source": [
    "# 6 - PREPROCESS THE DATA\n",
    "# Basic standardization\n",
    "df['class_name_clean'] = df['class_name'].str.lower().str.replace('-', ' ').str.replace('_', ' ')\n",
    "df['class_name_clean'] = df['class_name_clean'].str.replace(r'[^a-z ]+', '', regex=True)\n",
    "df.head()"
   ]
  },
  {
   "cell_type": "code",
   "execution_count": null,
   "id": "46be5239",
   "metadata": {},
   "outputs": [],
   "source": [
    "# 7 - SPLIT THE DATA (Optional example)\n",
    "# We can split classes into groups for manual use (e.g., 80% train, 20% holdout)\n",
    "from sklearn.model_selection import train_test_split\n",
    "train_classes, test_classes = train_test_split(df['class_name_clean'], test_size=0.2, random_state=42)\n",
    "print(f'Train classes: {len(train_classes)}')\n",
    "print(f'Test classes: {len(test_classes)}')\n",
    "train_classes[:5]"
   ]
  }
 ],
 "metadata": {},
 "nbformat": 4,
 "nbformat_minor": 5
}
