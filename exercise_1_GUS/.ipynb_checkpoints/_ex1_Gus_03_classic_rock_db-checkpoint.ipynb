{
 "cells": [
  {
   "cell_type": "markdown",
   "id": "89b9325d",
   "metadata": {},
   "source": [
    "# 1 - DEFINE THE PROBLEM\n",
    "We aim to build a classification model to predict whether a song play was the first time it was aired (`First?` column), based on data from U.S. radio classic rock airplays."
   ]
  },
  {
   "cell_type": "code",
   "execution_count": null,
   "id": "38241077",
   "metadata": {},
   "outputs": [],
   "source": [
    "# 2 - IMPORT REQUIRED LIBRARIES\n",
    "import pandas as pd\n",
    "import numpy as np\n",
    "import matplotlib.pyplot as plt\n",
    "import seaborn as sns\n",
    "from sklearn.model_selection import train_test_split\n",
    "from sklearn.preprocessing import StandardScaler, OneHotEncoder\n",
    "from sklearn.impute import SimpleImputer\n",
    "from sklearn.compose import ColumnTransformer\n",
    "from sklearn.pipeline import Pipeline\n",
    "from sklearn.linear_model import LogisticRegression\n",
    "from sklearn.metrics import classification_report, confusion_matrix"
   ]
  },
  {
   "cell_type": "code",
   "execution_count": null,
   "id": "b165988f",
   "metadata": {},
   "outputs": [],
   "source": [
    "# 3 - LOAD THE DATA\n",
    "import sqlite3\n",
    "conn = sqlite3.connect('../datasets/classic_rock.db')\n",
    "df = pd.read_sql_query('SELECT * FROM rock_plays', conn)\n",
    "df.head()"
   ]
  },
  {
   "cell_type": "code",
   "execution_count": null,
   "id": "f3f7ab6e",
   "metadata": {},
   "outputs": [],
   "source": [
    "# 4 - EDA (Exploratory Data Analysis)\n",
    "print(df.info())\n",
    "print(df.isnull().sum())\n",
    "df.describe(include='all')"
   ]
  },
  {
   "cell_type": "code",
   "execution_count": null,
   "id": "30c09936",
   "metadata": {},
   "outputs": [],
   "source": [
    "# 5 - VISUALIZE THE DATA\n",
    "sns.countplot(x='First?', data=df)\n",
    "plt.title('Distribution of First-Time Airplays')\n",
    "plt.show()\n",
    "\n",
    "sns.histplot(df['TIME'], bins=30)\n",
    "plt.title('Distribution of Play Time')\n",
    "plt.show()\n",
    "\n",
    "sns.countplot(x='day_of_week', hue='First?', data=df)\n",
    "plt.title('First Airplays by Day of the Week')\n",
    "plt.show()"
   ]
  },
  {
   "cell_type": "code",
   "execution_count": null,
   "id": "5389ddbd",
   "metadata": {},
   "outputs": [],
   "source": [
    "# 6 - PREPROCESS THE DATA\n",
    "# Drop irrelevant or leak-prone columns\n",
    "X = df[['Song Clean', 'ARTIST CLEAN', 'CALLSIGN', 'day_of_week']].copy()\n",
    "y = df['First?']\n",
    "\n",
    "categorical_features = X.columns.tolist()\n",
    "\n",
    "preprocessor = ColumnTransformer(transformers=[\n",
    "    ('cat', OneHotEncoder(handle_unknown='ignore'), categorical_features)\n",
    "])\n",
    "\n",
    "X_processed = preprocessor.fit_transform(X)\n",
    "print(f'✅ Processed features shape: {X_processed.shape}')"
   ]
  },
  {
   "cell_type": "code",
   "execution_count": null,
   "id": "2eb68256",
   "metadata": {},
   "outputs": [],
   "source": [
    "# 7 - SPLIT THE DATA\n",
    "X_train, X_test, y_train, y_test = train_test_split(X_processed, y, test_size=0.2, random_state=42)\n",
    "print(f'Train shape: {X_train.shape}, Test shape: {X_test.shape}')\n",
    "\n",
    "# Pie chart\n",
    "labels = ['Train', 'Test']\n",
    "sizes = [len(X_train), len(X_test)]\n",
    "plt.figure(figsize=(6, 6))\n",
    "plt.pie(sizes, labels=labels, autopct='%1.1f%%', startangle=90, colors=['skyblue', 'lightgreen'],\n",
    "        wedgeprops={'edgecolor': 'black'})\n",
    "plt.title('Train/Test Split')\n",
    "plt.axis('equal')\n",
    "plt.show()"
   ]
  }
 ],
 "metadata": {},
 "nbformat": 4,
 "nbformat_minor": 5
}
