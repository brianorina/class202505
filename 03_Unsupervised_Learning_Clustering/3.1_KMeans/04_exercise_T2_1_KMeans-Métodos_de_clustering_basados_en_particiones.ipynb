{
 "cells": [
  {
   "cell_type": "code",
   "execution_count": 3,
   "metadata": {
    "id": "DP2-10tRbaX8",
    "tags": []
   },
   "outputs": [],
   "source": [
    "# IMPORTS\n",
    "import matplotlib.pyplot as plt\n",
    "import numpy as np\n",
    "import sys\n",
    "import seaborn as sns\n"
   ]
  },
  {
   "cell_type": "code",
   "execution_count": 3,
   "metadata": {
    "execution": {
     "iopub.execute_input": "2024-04-11T18:28:36.447397Z",
     "iopub.status.busy": "2024-04-11T18:28:36.446885Z",
     "iopub.status.idle": "2024-04-11T18:28:39.610804Z",
     "shell.execute_reply": "2024-04-11T18:28:39.609935Z",
     "shell.execute_reply.started": "2024-04-11T18:28:36.447365Z"
    },
    "id": "DP2-10tRbaX8"
   },
   "outputs": [],
   "source": [
    "from scipy.stats import mode\n",
    "\n",
    "from sklearn.cluster import KMeans, MiniBatchKMeans\n",
    "from sklearn.datasets import load_digits, load_sample_image\n",
    "from sklearn.manifold import TSNE\n",
    "from sklearn.metrics import cluster, accuracy_score, confusion_matrix\n"
   ]
  },
  {
   "cell_type": "code",
   "execution_count": 7,
   "metadata": {
    "execution": {
     "iopub.execute_input": "2024-04-11T18:28:40.381695Z",
     "iopub.status.busy": "2024-04-11T18:28:40.381318Z",
     "iopub.status.idle": "2024-04-11T18:28:40.410469Z",
     "shell.execute_reply": "2024-04-11T18:28:40.409806Z",
     "shell.execute_reply.started": "2024-04-11T18:28:40.381673Z"
    },
    "id": "DP2-10tRbaX8"
   },
   "outputs": [
    {
     "data": {
      "text/plain": [
       "(1797, 64)"
      ]
     },
     "execution_count": 7,
     "metadata": {},
     "output_type": "execute_result"
    }
   ],
   "source": [
    "\n",
    "\n",
    "plt.rcParams['figure.figsize'] = [8, 8]\n",
    "digits = load_digits()\n",
    "digits.data.shape"
   ]
  },
  {
   "cell_type": "markdown",
   "metadata": {
    "id": "9u-RUfTUbLe5"
   },
   "source": [
    "Let's look at some examples of clustering using K-means.\n",
    "\n",
    "In the first example, we will attempt to cluster a dataset of digits. This dataset consists of 1,797 images (examples/instances) with 64 attributes (features/variables), where each of those 64 attributes represents the intensity of a pixel in an 8x8 grayscale image.\n",
    "\n",
    "<img src=\"https://scikit-learn.org/stable/_images/sphx_glr_plot_digits_classification_001.png\">"
   ]
  },
  {
   "cell_type": "markdown",
   "metadata": {
    "id": "kSxsktEaLU84"
   },
   "source": [
    "# T2.1 - Partition-based Clustering Methods"
   ]
  },
  {
   "cell_type": "code",
   "execution_count": 21,
   "metadata": {
    "execution": {
     "iopub.execute_input": "2024-04-11T18:41:58.199048Z",
     "iopub.status.busy": "2024-04-11T18:41:58.198358Z",
     "iopub.status.idle": "2024-04-11T18:41:58.443402Z",
     "shell.execute_reply": "2024-04-11T18:41:58.442637Z",
     "shell.execute_reply.started": "2024-04-11T18:41:58.199020Z"
    },
    "id": "JE0IW8aEDMvA"
   },
   "outputs": [
    {
     "data": {
      "image/png": "[encoded data removed]",
      "text/plain": [
       "<Figure size 800x800 with 1 Axes>"
      ]
     },
     "metadata": {},
     "output_type": "display_data"
    }
   ],
   "source": [
    "plt.imshow(digits.data[1200].reshape((8,8)))\n",
    "plt.show()"
   ]
  },
  {
   "cell_type": "code",
   "execution_count": 1,
   "metadata": {
    "id": "y_rxKiUcbcwb",
    "tags": []
   },
   "outputs": [],
   "source": [
    "# we use k-means to perform the clustering\n",
    "\n",
    "## Your code here ##\n"
   ]
  },
  {
   "cell_type": "markdown",
   "metadata": {
    "id": "2M7ISy8Gbu_-"
   },
   "source": [
    "Note that the result of the clustering consists of 10 centroids (one for each cluster we requested). Furthermore, since we used the raw pixels, these centroids have the same dimensions as the input images (`10x64`) and represent the \"typical\" digit of each cluster. Let's visualize them:"
   ]
  },
  {
   "cell_type": "code",
   "execution_count": null,
   "metadata": {
    "id": "7bbUcIGQbgAu",
    "tags": []
   },
   "outputs": [],
   "source": [
    "fig, ax = plt.subplots(2, 5, figsize=(8, 3))\n",
    "centers = Kmeans.cluster_centers_.reshape(10, 8, 8)\n",
    "for axi, center in zip(ax.flat, centers):\n",
    "    axi.set(xticks=[], yticks=[])\n",
    "    axi.imshow(center, interpolation='nearest', cmap=plt.cm.binary)"
   ]
  },
  {
   "cell_type": "markdown",
   "metadata": {
    "id": "kaigRvhkcWWu"
   },
   "source": [
    "As we can see, K-means is able to find the clusters whose centers correspond to the digits from 0 to 9, except for 1 and 8, which it confuses a bit.\n",
    "\n",
    "Let's compute some intrinsic and extrinsic metrics, as discussed in class, to quantitatively assess the clustering performance.\n"
   ]
  },
  {
   "cell_type": "code",
   "execution_count": null,
   "metadata": {
    "execution": {
     "iopub.status.busy": "2024-04-11T18:28:42.576309Z",
     "iopub.status.idle": "2024-04-11T18:28:42.576848Z",
     "shell.execute_reply": "2024-04-11T18:28:42.576680Z",
     "shell.execute_reply.started": "2024-04-11T18:28:42.576665Z"
    },
    "id": "mXp-V1nobkJU"
   },
   "outputs": [],
   "source": [
    "print('Completeness score =', completeness_score(digits.target, clusters))\n",
    "print('Homogeneity =', homogeneity_score(digits.target, clusters))\n",
    "print('Adjusted Mutual Information =', adjusted_mutual_info_score(digits.target, clusters))\n"
   ]
  },
  {
   "cell_type": "markdown",
   "metadata": {
    "id": "0TbvFN0mduWS"
   },
   "source": [
    "Since we have the true labels, let's compute the accuracy. To do this, we'll use the `accuracy_score` function available in `sklearn.metrics`.\n",
    "\n",
    "Note that, as we've discussed in class, K-means performs clustering but has no idea which *class* each one belongs to. It simply groups the images by similarity, much like what a *k-nearest neighbors (kNN)* algorithm would do.\n",
    "\n",
    "Therefore, the first thing we'll do is assign a label to each cluster based on the mode of its elements. That is, we'll look at which element appears most frequently in each cluster, and that will be the assigned label.\n"
   ]
  },
  {
   "cell_type": "code",
   "execution_count": null,
   "metadata": {
    "execution": {
     "iopub.status.busy": "2024-04-11T18:28:42.578582Z",
     "iopub.status.idle": "2024-04-11T18:28:42.579792Z",
     "shell.execute_reply": "2024-04-11T18:28:42.579439Z",
     "shell.execute_reply.started": "2024-04-11T18:28:42.579382Z"
    },
    "id": "mV1Y3MTlfDww"
   },
   "outputs": [],
   "source": [
    "labels = np.zeros_like(clusters)\n",
    "for i in range(10):\n",
    "    mask = (clusters == i)\n",
    "    labels[mask] = mode(digits.target[mask])[0]"
   ]
  },
  {
   "cell_type": "markdown",
   "metadata": {
    "id": "FYcJDD1XfJNK"
   },
   "source": [
    "And now we can compute the accuracy:"
   ]
  },
  {
   "cell_type": "code",
   "execution_count": null,
   "metadata": {
    "execution": {
     "iopub.status.busy": "2024-04-11T18:28:42.583987Z",
     "iopub.status.idle": "2024-04-11T18:28:42.587402Z",
     "shell.execute_reply": "2024-04-11T18:28:42.586092Z",
     "shell.execute_reply.started": "2024-04-11T18:28:42.586056Z"
    },
    "id": "jMSL_-HdfEGj"
   },
   "outputs": [],
   "source": [
    "accuracy_score(digits.target, labels)"
   ]
  },
  {
   "cell_type": "markdown",
   "metadata": {
    "id": "dAGfRs8DfPxM"
   },
   "source": [
    "And also the confusion matrix:"
   ]
  },
  {
   "cell_type": "code",
   "execution_count": null,
   "metadata": {
    "execution": {
     "iopub.status.busy": "2024-04-11T18:28:42.590601Z",
     "iopub.status.idle": "2024-04-11T18:28:42.591676Z",
     "shell.execute_reply": "2024-04-11T18:28:42.591023Z",
     "shell.execute_reply.started": "2024-04-11T18:28:42.591004Z"
    },
    "id": "YVkB2AW_fLa_"
   },
   "outputs": [],
   "source": [
    "mat = confusion_matrix(digits.target, labels)\n",
    "sns.heatmap(mat.T, square=True, annot=True, fmt='d', cbar=False,\n",
    "            xticklabels=digits.target_names,\n",
    "            yticklabels=digits.target_names)\n",
    "plt.xlabel('true label')\n",
    "plt.ylabel('predicted label');"
   ]
  },
  {
   "cell_type": "markdown",
   "metadata": {
    "id": "P6nBJssCfln4"
   },
   "source": [
    "Notice that we managed to correctly classify 80% of our images using a simple K-means without even preprocessing the data. As we observed earlier when plotting the images, the algorithm mainly confuses digits 1 and 8.\n",
    "\n",
    "What if we applied some kind of preprocessing to improve the results?\n",
    "\n",
    "Let's see what happens if we use a dimensionality reduction technique known as t-SNE ([https://www.oreilly.com/learning/an-illustrated-introduction-to-the-t-sne-algorithm](https://www.oreilly.com/learning/an-illustrated-introduction-to-the-t-sne-algorithm)):\n"
   ]
  },
  {
   "cell_type": "code",
   "execution_count": null,
   "metadata": {
    "execution": {
     "iopub.status.busy": "2024-04-11T18:28:42.595533Z",
     "iopub.status.idle": "2024-04-11T18:28:42.595918Z",
     "shell.execute_reply": "2024-04-11T18:28:42.595755Z",
     "shell.execute_reply.started": "2024-04-11T18:28:42.595741Z"
    },
    "id": "vVRF1sLrgnGu"
   },
   "outputs": [],
   "source": [
    "# We use t-SNE to project the data into another 2-dimensional space\n",
    "# This step takes a few seconds, be patient :)\n",
    "\n",
    "tsne = TSNE(n_components=2, random_state=42)\n",
    "digits_proj = tsne.fit_transform(digits.data)\n",
    "\n",
    "# Perform clustering\n",
    "\n",
    "kmeans = KMeans(n_clusters=10, random_state=42)\n",
    "clusters = kmeans.fit_predict(digits_proj)\n",
    "\n",
    "# Assign labels based on the mode\n",
    "labels = np.zeros_like(clusters)\n",
    "for i in range(10):\n",
    "    mask = (clusters == i)\n",
    "    labels[mask] = mode(digits.target[mask])[0]\n",
    "\n",
    "# Compute accuracy\n",
    "accuracy_score(digits.target, labels)\n",
    "\n",
    "# Display confusion matrix\n",
    "mat = confusion_matrix(digits.target, labels)\n",
    "sns.heatmap(mat.T, square=True, annot=True, fmt='d', cbar=False,\n",
    "            xticklabels=digits.target_names,\n",
    "            yticklabels=digits.target_names)\n",
    "plt.xlabel('true label')\n",
    "plt.ylabel('predicted label');\n"
   ]
  },
  {
   "cell_type": "code",
   "execution_count": null,
   "metadata": {
    "execution": {
     "iopub.status.busy": "2024-04-11T18:28:42.598750Z",
     "iopub.status.idle": "2024-04-11T18:28:42.600606Z",
     "shell.execute_reply": "2024-04-11T18:28:42.599900Z",
     "shell.execute_reply.started": "2024-04-11T18:28:42.599842Z"
    },
    "id": "jVGHX5hOWOQw"
   },
   "outputs": [],
   "source": [
    "accuracy_score(digits.target, labels)"
   ]
  },
  {
   "cell_type": "markdown",
   "metadata": {
    "id": "YKRnuMZUhB4m"
   },
   "source": [
    "What do you think? Notice the importance of properly preprocessing the data. With this simple decision, we've improved our algorithm's accuracy by 13%.\n",
    "\n",
    "Don't forget it! ;)\n"
   ]
  },
  {
   "cell_type": "markdown",
   "metadata": {
    "id": "VTsW7C0whTJE"
   },
   "source": [
    "The second example we're going to look at deals with image compression. Yes, it might sound surprising, but clustering techniques can be used for that.\n",
    "\n",
    "We simply reduce the total number of colors used to represent the image, thereby allowing less memory (bits) to be needed for storage.\n"
   ]
  },
  {
   "cell_type": "code",
   "execution_count": null,
   "metadata": {
    "execution": {
     "iopub.status.busy": "2024-04-11T18:28:42.605463Z",
     "iopub.status.idle": "2024-04-11T18:28:42.607252Z",
     "shell.execute_reply": "2024-04-11T18:28:42.606745Z",
     "shell.execute_reply.started": "2024-04-11T18:28:42.606520Z"
    },
    "id": "s-I90U6Fhpa8"
   },
   "outputs": [],
   "source": [
    "china = load_sample_image(\"china.jpg\")\n",
    "ax = plt.axes(xticks=[], yticks=[])\n",
    "ax.imshow(china);"
   ]
  },
  {
   "cell_type": "markdown",
   "metadata": {
    "id": "q4NRkLUGh1Dn"
   },
   "source": [
    "Remember that images are represented as matrices of shape `(height, width, channels)`, where the channel values correspond to red/green/blue and range from 0 to 255.\n"
   ]
  },
  {
   "cell_type": "code",
   "execution_count": null,
   "metadata": {
    "execution": {
     "iopub.status.busy": "2024-04-11T18:28:42.609510Z",
     "iopub.status.idle": "2024-04-11T18:28:42.610607Z",
     "shell.execute_reply": "2024-04-11T18:28:42.610239Z",
     "shell.execute_reply.started": "2024-04-11T18:28:42.610211Z"
    },
    "id": "uXRzMGkjhpyP"
   },
   "outputs": [],
   "source": [
    "china.shape"
   ]
  },
  {
   "cell_type": "markdown",
   "metadata": {
    "id": "IzLuN4TdiIAT"
   },
   "source": [
    "However, we can view this dataset as a three-dimensional point cloud, where each pixel is an instance.\n",
    "\n",
    "Let's normalize the values between 0 and 1 and convert them into a `[n_instances, 3]` format.\n"
   ]
  },
  {
   "cell_type": "code",
   "execution_count": null,
   "metadata": {
    "execution": {
     "iopub.status.busy": "2024-04-11T18:28:42.613642Z",
     "iopub.status.idle": "2024-04-11T18:28:42.614627Z",
     "shell.execute_reply": "2024-04-11T18:28:42.614344Z",
     "shell.execute_reply.started": "2024-04-11T18:28:42.614320Z"
    },
    "id": "iHpi3xezXWrL"
   },
   "outputs": [],
   "source": [
    "china.max()"
   ]
  },
  {
   "cell_type": "code",
   "execution_count": null,
   "metadata": {
    "execution": {
     "iopub.status.busy": "2024-04-11T18:28:42.618810Z",
     "iopub.status.idle": "2024-04-11T18:28:42.619935Z",
     "shell.execute_reply": "2024-04-11T18:28:42.619536Z",
     "shell.execute_reply.started": "2024-04-11T18:28:42.619510Z"
    },
    "id": "GiCZqMKziG02"
   },
   "outputs": [],
   "source": [
    "# normalize the image so that values range between 0 and 1\n",
    "data = china / 255\n",
    "data = data.reshape(427 * 640, 3)\n",
    "data.shape\n"
   ]
  },
  {
   "cell_type": "markdown",
   "metadata": {
    "id": "aWGCP0fLiZXU"
   },
   "source": [
    "Now let's visualize the pixels:\n"
   ]
  },
  {
   "cell_type": "code",
   "execution_count": null,
   "metadata": {
    "execution": {
     "iopub.status.busy": "2024-04-11T18:28:42.623531Z",
     "iopub.status.idle": "2024-04-11T18:28:42.624138Z",
     "shell.execute_reply": "2024-04-11T18:28:42.623941Z",
     "shell.execute_reply.started": "2024-04-11T18:28:42.623924Z"
    },
    "id": "91vVxe08iV8z"
   },
   "outputs": [],
   "source": [
    "def plot_pixels(data, title, colors=None, N=10000):\n",
    "    if colors is None:\n",
    "        colors = data\n",
    "\n",
    "    # choose a random subset\n",
    "    rng = np.random.RandomState(0)\n",
    "    i = rng.permutation(data.shape[0])[:N]\n",
    "    colors = colors[i]\n",
    "    R, G, B = data[i].T\n",
    "\n",
    "    fig, ax = plt.subplots(1, 2, figsize=(16, 6))\n",
    "    ax[0].scatter(R, G, color=colors, marker='.')\n",
    "    ax[0].set(xlabel='Red', ylabel='Green', xlim=(0, 1), ylim=(0, 1))\n",
    "\n",
    "    ax[1].scatter(R, B, color=colors, marker='.')\n",
    "    ax[1].set(xlabel='Red', ylabel='Blue', xlim=(0, 1), ylim=(0, 1))\n",
    "\n",
    "    fig.suptitle(title, size=20);"
   ]
  },
  {
   "cell_type": "code",
   "execution_count": null,
   "metadata": {
    "execution": {
     "iopub.status.busy": "2024-04-11T18:28:42.626422Z",
     "iopub.status.idle": "2024-04-11T18:28:42.627166Z",
     "shell.execute_reply": "2024-04-11T18:28:42.626815Z",
     "shell.execute_reply.started": "2024-04-11T18:28:42.626793Z"
    },
    "id": "fPrqNB7YidHK"
   },
   "outputs": [],
   "source": [
    "plot_pixels(data, title='Input color space: 16 million possible colors')"
   ]
  },
  {
   "cell_type": "markdown",
   "metadata": {
    "id": "E4n2gCd8ilc2"
   },
   "source": [
    "Now let's reduce from 16 million colors to 16.\n",
    "\n",
    "Since we're dealing with a large dataset, we'll use a variation of k-means called mini-batch k-Means, which works exactly like k-means but with mini-batches.\n"
   ]
  },
  {
   "cell_type": "code",
   "execution_count": null,
   "metadata": {
    "execution": {
     "iopub.status.busy": "2024-04-11T18:28:42.629609Z",
     "iopub.status.idle": "2024-04-11T18:28:42.630897Z",
     "shell.execute_reply": "2024-04-11T18:28:42.630546Z",
     "shell.execute_reply.started": "2024-04-11T18:28:42.630520Z"
    },
    "id": "eRSxsW_Eidfu"
   },
   "outputs": [],
   "source": [
    "kmeans = ## Your code here ##\n",
    "kmeans.fit(data)\n",
    "new_colors = kmeans.cluster_centers_[kmeans.predict(data)]\n",
    "print(new_colors.shape)\n",
    "plot_pixels(data, colors=new_colors, title=\"Reduced color space: 16 colors\")"
   ]
  },
  {
   "cell_type": "markdown",
   "metadata": {
    "id": "jXFCdCVci9KO"
   },
   "source": [
    "Perfect. We've just managed to reduce the number of colors to 16, as you can see.\n",
    "\n",
    "Let's transform the image:\n"
   ]
  },
  {
   "cell_type": "code",
   "execution_count": null,
   "metadata": {
    "execution": {
     "iopub.status.busy": "2024-04-11T18:28:42.634162Z",
     "iopub.status.idle": "2024-04-11T18:28:42.635744Z",
     "shell.execute_reply": "2024-04-11T18:28:42.635405Z",
     "shell.execute_reply.started": "2024-04-11T18:28:42.635372Z"
    },
    "id": "uXoY0n-KjDuo"
   },
   "outputs": [],
   "source": [
    "china_recolored = new_colors.reshape(china.shape)\n",
    "\n",
    "fig, ax = plt.subplots(1, 2, figsize=(16, 6), subplot_kw=dict(xticks=[], yticks=[]))\n",
    "fig.subplots_adjust(wspace=0.05)\n",
    "ax[0].imshow(china)\n",
    "ax[0].set_title('Original Image', size=16)\n",
    "ax[1].imshow(china_recolored)\n",
    "ax[1].set_title('16-color Image', size=16);"
   ]
  },
  {
   "cell_type": "code",
   "execution_count": null,
   "metadata": {
    "execution": {
     "iopub.status.busy": "2024-04-11T18:28:42.639363Z",
     "iopub.status.idle": "2024-04-11T18:28:42.640327Z",
     "shell.execute_reply": "2024-04-11T18:28:42.640028Z",
     "shell.execute_reply.started": "2024-04-11T18:28:42.639998Z"
    },
    "id": "gPrHH9EAS0xL"
   },
   "outputs": [],
   "source": [
    "# Let's calculate the size of each image\n",
    "# It takes up approximately 820 KB (819976 bytes)\n",
    "# import sys\n",
    "sys.getsizeof(china)\n"
   ]
  },
  {
   "cell_type": "code",
   "execution_count": null,
   "metadata": {
    "execution": {
     "iopub.status.busy": "2024-04-11T18:28:42.642840Z",
     "iopub.status.idle": "2024-04-11T18:28:42.643715Z",
     "shell.execute_reply": "2024-04-11T18:28:42.643533Z",
     "shell.execute_reply.started": "2024-04-11T18:28:42.643515Z"
    },
    "id": "oh6vXuDaS1TT"
   },
   "outputs": [],
   "source": [
    "sys.getsizeof(china_recolored)\n",
    "# 136 bytes, no llega a 1Kb"
   ]
  },
  {
   "cell_type": "markdown",
   "metadata": {
    "id": "8bZrns7njJRN"
   },
   "source": [
    "There's no doubt that some quality is lost, but keep in mind that we've just managed to compress the image by a factor of roughly 1 million!\n"
   ]
  },
  {
   "cell_type": "markdown",
   "metadata": {
    "id": "GHEohCy9jbBV"
   },
   "source": [
    "The source of these examples, for those who want to check it out:\n",
    "\n",
    "*   https://jakevdp.github.io/PythonDataScienceHandbook/05.11-k-means.html\n",
    "*   https://jakevdp.github.io/PythonDataScienceHandbook/05.10-manifold-learning.html\n",
    "*   https://www.oreilly.com/learning/an-illustrated-introduction-to-the-t-sne-algorithm\n"
   ]
  }
 ],
 "metadata": {
  "colab": {
   "provenance": []
  },
  "kernelspec": {
   "display_name": "Python 3 (ipykernel)",
   "language": "python",
   "name": "python3"
  },
  "language_info": {
   "codemirror_mode": {
    "name": "ipython",
    "version": 3
   },
   "file_extension": ".py",
   "mimetype": "text/x-python",
   "name": "python",
   "nbconvert_exporter": "python",
   "pygments_lexer": "ipython3",
   "version": "3.8.20"
  },
  "widgets": {
   "application/vnd.jupyter.widget-state+json": {
    "state": {},
    "version_major": 2,
    "version_minor": 0
   }
  }
 },
 "nbformat": 4,
 "nbformat_minor": 4
}
