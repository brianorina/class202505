{
 "cells": [
  {
   "cell_type": "markdown",
   "id": "1165aa3e-541a-4550-9ec5-db0b586fd3ea",
   "metadata": {
    "tags": []
   },
   "source": [
    "# 1. Machine Learning Project\n"
   ]
  },
  {
   "cell_type": "markdown",
   "id": "dd4f4f38-3be4-41f1-afcc-b94c5d9502d3",
   "metadata": {
    "jp-MarkdownHeadingCollapsed": true,
    "tags": []
   },
   "source": [
    "## 1.1 DEFINE / DESCRIPCIÓN\n",
    " Briefly describe the problem and the objective of this notebook.\n",
    "\n"
   ]
  },
  {
   "cell_type": "markdown",
   "id": "2d8ff86e-c1a6-419e-871c-73681e04ca6e",
   "metadata": {
    "tags": []
   },
   "source": [
    "## 1.2 REQUIREMENTS / IMPORTACIONES\n",
    "\n",
    "Import other necessary libraries/packages based on the problem"
   ]
  },
  {
   "cell_type": "code",
   "execution_count": null,
   "id": "11ce3022-7165-445c-9ba0-8be5eaef5d06",
   "metadata": {},
   "outputs": [],
   "source": [
    "import pandas as pd\n",
    "import numpy as np\n",
    "import matplotlib.pyplot as plt\n",
    "import seaborn as sns\n",
    "\n",
    "from sklearn.model_selection import train_test_split\n",
    "from sklearn.ensemble import RandomForestClassifier\n"
   ]
  },
  {
   "cell_type": "markdown",
   "id": "9268924f-9dc4-4745-874f-b2b68d6227bf",
   "metadata": {
    "jp-MarkdownHeadingCollapsed": true,
    "tags": []
   },
   "source": [
    "# 2. COLLECT / RECOLECCIÓN\n",
    "\n",
    "Load the data\n"
   ]
  },
  {
   "cell_type": "code",
   "execution_count": null,
   "id": "fc697d7f-3923-450e-8196-95277a7b250a",
   "metadata": {},
   "outputs": [],
   "source": [
    "\n",
    "data = pd.read_csv('path_to_data_file.csv')\n"
   ]
  },
  {
   "cell_type": "markdown",
   "id": "e8b9678f-5a24-45bf-a147-d088c703f0e7",
   "metadata": {
    "tags": []
   },
   "source": [
    "# 3. EDA (Exploratory Data Analysis)\n"
   ]
  },
  {
   "cell_type": "markdown",
   "id": "16a839e9-0225-463d-a3a1-7a2ae178ce8e",
   "metadata": {
    "jp-MarkdownHeadingCollapsed": true,
    "tags": []
   },
   "source": [
    "## 3.1. EXPLORE\n",
    " Display the first few rows of the dataset\n",
    " Data summary\n",
    " Data types and missing values\n",
    "\n"
   ]
  },
  {
   "cell_type": "code",
   "execution_count": null,
   "id": "f6aff018-85a2-4e46-89ee-36b9fafcbc63",
   "metadata": {},
   "outputs": [],
   "source": [
    "\n",
    "data.head()\n",
    "data.describe()\n",
    "data.info()\n",
    "\n"
   ]
  },
  {
   "cell_type": "markdown",
   "id": "5ad9df7f-3164-4783-a2ff-9a9842f85f52",
   "metadata": {
    "jp-MarkdownHeadingCollapsed": true,
    "tags": []
   },
   "source": [
    "## 3.2. VISUALIZE\n",
    " Use seaborn or matplotlib to visualize some key aspects of the dataset\n",
    " Example: Distribution of target variable or key features\n",
    "\n"
   ]
  },
  {
   "cell_type": "markdown",
   "id": "4ff5a3ff-3783-4c46-b22a-3bf96ec318ee",
   "metadata": {
    "tags": []
   },
   "source": [
    "# 4. PRE-PROCESS\n"
   ]
  },
  {
   "cell_type": "markdown",
   "id": "6efd8bd2-b6d1-4c9b-aa36-13e4dd963f65",
   "metadata": {},
   "source": [
    "## 4.1. CLEAN\n",
    " Handle missing values (if any)  \n",
    " Encode categorical variables (if necessary)  \n",
    " Feature scaling (if necessary)  \n"
   ]
  },
  {
   "cell_type": "markdown",
   "id": "a42231fd-f879-4fda-ab35-cc17bbd72fcf",
   "metadata": {
    "jp-MarkdownHeadingCollapsed": true,
    "tags": []
   },
   "source": [
    "## 4.2. SPLIT (HOLD-OUT + CROSS-VALIDATION)\n",
    "\n",
    " HOLD-OUT  \n",
    "\n",
    " CROSS-VALIDATION\n",
    "\n"
   ]
  },
  {
   "cell_type": "code",
   "execution_count": null,
   "id": "76802472-b4f5-4659-a559-7babfe4ef81f",
   "metadata": {},
   "outputs": [],
   "source": [
    "\n",
    "X_train, X_test, y_train, y_test = train_test_split(X, y, test_size=0.2, random_state=42)\n",
    "\n"
   ]
  },
  {
   "cell_type": "markdown",
   "id": "ef1c859a-a5f5-48ab-af79-eefca7b7daea",
   "metadata": {
    "jp-MarkdownHeadingCollapsed": true,
    "tags": []
   },
   "source": [
    "# 5. MODEL\n",
    "Make the model  \n",
    "Example for scikit-learn:\n"
   ]
  },
  {
   "cell_type": "code",
   "execution_count": null,
   "id": "4a39c7e3-767d-474e-881a-cc528f3ed802",
   "metadata": {},
   "outputs": [],
   "source": [
    "\n",
    "model = RandomForestClassifier()\n"
   ]
  },
  {
   "cell_type": "markdown",
   "id": "89ac2ba4-a62c-4ed3-a554-4817d8651de3",
   "metadata": {
    "jp-MarkdownHeadingCollapsed": true,
    "tags": []
   },
   "source": [
    "# 6. TRAIN\n"
   ]
  },
  {
   "cell_type": "code",
   "execution_count": null,
   "id": "fcfe4875-89d9-4cc3-95dc-4f8ee8d184dc",
   "metadata": {},
   "outputs": [],
   "source": [
    "\n",
    "model.fit(X_train, y_train)\n"
   ]
  },
  {
   "cell_type": "markdown",
   "id": "68b01a93-b83f-47bd-89dd-82069edf7c30",
   "metadata": {},
   "source": [
    "# 7. VALIDATE, FINE-TUNING & MODEL SELECTION\n",
    "  Evaluate the model using appropriate metrics  \n",
    "  Fine-tune the model parameters if necessary  \n",
    "  Optionally use other algorithms, train them, and choose the best model based on validation metrics\n",
    "\n"
   ]
  },
  {
   "cell_type": "markdown",
   "id": "65c4dd1c-911b-4608-ad04-024f734b83a3",
   "metadata": {},
   "source": [
    "# 8. PREDICT\n",
    "\n"
   ]
  },
  {
   "cell_type": "code",
   "execution_count": null,
   "id": "ee9e1ac3-c35c-4eca-a3fa-7e537d14b93b",
   "metadata": {},
   "outputs": [],
   "source": [
    "predictions = model.predict(X_test)\n",
    "\n"
   ]
  },
  {
   "cell_type": "markdown",
   "id": "983bb79f-628f-4459-97eb-977d7cab7034",
   "metadata": {},
   "source": [
    "# 9. INTERPRET\n",
    " Discuss the results, importance of features, or any insights derived from the model predictions.\n",
    "\n"
   ]
  },
  {
   "cell_type": "markdown",
   "id": "8663ae4b-c8e2-4dba-a34e-b1a81c1ffc9e",
   "metadata": {},
   "source": [
    "# 10. DEPLOY\n",
    " Discuss potential deployment strategies, considerations, and next steps.\n"
   ]
  },
  {
   "cell_type": "markdown",
   "id": "85b7386a-7af2-4d89-a96a-3b3af7e50f26",
   "metadata": {},
   "source": [
    "# CHALLENGES FACED AND LESSONS LEARNED\n",
    " Document any issues encountered during the process and how they were addressed.\n"
   ]
  },
  {
   "cell_type": "code",
   "execution_count": null,
   "id": "6bac6f82-bfaf-4343-a3b5-3084b8e1db9f",
   "metadata": {},
   "outputs": [],
   "source": []
  }
 ],
 "metadata": {
  "kernelspec": {
   "display_name": "Python 3 (ipykernel)",
   "language": "python",
   "name": "python3"
  },
  "language_info": {
   "codemirror_mode": {
    "name": "ipython",
    "version": 3
   },
   "file_extension": ".py",
   "mimetype": "text/x-python",
   "name": "python",
   "nbconvert_exporter": "python",
   "pygments_lexer": "ipython3",
   "version": "3.12.9"
  },
  "widgets": {
   "application/vnd.jupyter.widget-state+json": {
    "state": {},
    "version_major": 2,
    "version_minor": 0
   }
  }
 },
 "nbformat": 4,
 "nbformat_minor": 5
}
