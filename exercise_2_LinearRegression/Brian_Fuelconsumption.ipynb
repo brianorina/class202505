{
 "cells": [
  {
   "cell_type": "markdown",
   "id": "1165aa3e-541a-4550-9ec5-db0b586fd3ea",
   "metadata": {
    "tags": []
   },
   "source": [
    "# **MACHINE LEARNING PROJECT TEMPLATE**"
   ]
  },
  {
   "cell_type": "markdown",
   "id": "dd4f4f38-3be4-41f1-afcc-b94c5d9502d3",
   "metadata": {
    "jp-MarkdownHeadingCollapsed": true,
    "tags": []
   },
   "source": [
    "# 1 - DEFINE THE PROBLEM\n",
    "The goal of this project is to predict the CO₂ emissions (in grams/km) of vehicles based on various engine and fuel consumption features. Using the FuelConsumptionCo2.csv dataset, we aim to develop a linear regression model that learns from historical data and can accurately estimate the CO2EMISSIONS of a car given its technical specifications such as: Model, Vehicle class, Engine size,cylinder.\n"
   ]
  },
  {
   "cell_type": "markdown",
   "id": "2d8ff86e-c1a6-419e-871c-73681e04ca6e",
   "metadata": {
    "tags": []
   },
   "source": [
    "# 2 - IMPORT REQUIRED LIBRARIES\n",
    "\n",
    "Import other necessary libraries/packages based on the problem"
   ]
  },
  {
   "cell_type": "markdown",
   "id": "7f80a5e8-7032-4120-b913-87b1dfe6c021",
   "metadata": {},
   "source": [
    "## 2.1 - Base Libraries"
   ]
  },
  {
   "cell_type": "code",
   "execution_count": 2,
   "id": "11ce3022-7165-445c-9ba0-8be5eaef5d06",
   "metadata": {},
   "outputs": [],
   "source": [
    "import pandas as pd\n",
    "import numpy as np\n",
    "import matplotlib.pyplot as plt\n",
    "import seaborn as sns"
   ]
  },
  {
   "cell_type": "markdown",
   "id": "0f8e503d-45fd-4d37-947e-6f8a1c4a23bf",
   "metadata": {},
   "source": [
    "## 2.2 - ML/DL Libraries"
   ]
  },
  {
   "cell_type": "code",
   "execution_count": 3,
   "id": "1bdd94c7-b6fd-4525-ba06-c5dad0155bcf",
   "metadata": {},
   "outputs": [],
   "source": [
    "from sklearn.model_selection import train_test_split, cross_val_score\n",
    "from sklearn.preprocessing import StandardScaler, OneHotEncoder\n",
    "from sklearn.metrics import accuracy_score, mean_squared_error, classification_report\n",
    "from sklearn.pipeline import Pipeline\n",
    "from sklearn.linear_model import LinearRegression\n",
    "from sklearn.metrics import mean_squared_error, r2_score\n"
   ]
  },
  {
   "cell_type": "markdown",
   "id": "9268924f-9dc4-4745-874f-b2b68d6227bf",
   "metadata": {
    "tags": []
   },
   "source": [
    "# 3 - LOAD THE DATA\n",
    "Load the dataset from a CSV, TXT, DB or online source, etc."
   ]
  },
  {
   "cell_type": "code",
   "execution_count": 4,
   "id": "fc697d7f-3923-450e-8196-95277a7b250a",
   "metadata": {},
   "outputs": [
    {
     "name": "stdout",
     "output_type": "stream",
     "text": [
      "   MODELYEAR   MAKE       MODEL VEHICLECLASS  ENGINESIZE  CYLINDERS  \\\n",
      "0       2014  ACURA         ILX      COMPACT         2.0          4   \n",
      "1       2014  ACURA         ILX      COMPACT         2.4          4   \n",
      "2       2014  ACURA  ILX HYBRID      COMPACT         1.5          4   \n",
      "3       2014  ACURA     MDX 4WD  SUV - SMALL         3.5          6   \n",
      "4       2014  ACURA     RDX AWD  SUV - SMALL         3.5          6   \n",
      "\n",
      "  TRANSMISSION FUELTYPE  FUELCONSUMPTION_CITY  FUELCONSUMPTION_HWY  \\\n",
      "0          AS5        Z                   9.9                  6.7   \n",
      "1           M6        Z                  11.2                  7.7   \n",
      "2          AV7        Z                   6.0                  5.8   \n",
      "3          AS6        Z                  12.7                  9.1   \n",
      "4          AS6        Z                  12.1                  8.7   \n",
      "\n",
      "   FUELCONSUMPTION_COMB  FUELCONSUMPTION_COMB_MPG  CO2EMISSIONS  \n",
      "0                   8.5                        33           196  \n",
      "1                   9.6                        29           221  \n",
      "2                   5.9                        48           136  \n",
      "3                  11.1                        25           255  \n",
      "4                  10.6                        27           244  \n"
     ]
    }
   ],
   "source": [
    "\n",
    "\n",
    "# URL of the dataset\n",
    "url = 'https://s3-api.us-geo.objectstorage.softlayer.net/cf-courses-data/CognitiveClass/ML0101ENv3/labs/FuelConsumptionCo2.csv'\n",
    "\n",
    "# Load the dataset directly from the URL\n",
    "df = pd.read_csv(url)\n",
    "\n",
    "# Display the first few rows to confirm it's loaded\n",
    "print(df.head())\n"
   ]
  },
  {
   "cell_type": "markdown",
   "id": "e8b9678f-5a24-45bf-a147-d088c703f0e7",
   "metadata": {
    "tags": []
   },
   "source": [
    "# 4 - EDA (Exploratory Data Analysis) of the DATA"
   ]
  },
  {
   "cell_type": "code",
   "execution_count": 5,
   "id": "c18cf6f9",
   "metadata": {},
   "outputs": [
    {
     "data": {
      "application/vnd.microsoft.datawrangler.viewer.v0+json": {
       "columns": [
        {
         "name": "index",
         "rawType": "int64",
         "type": "integer"
        },
        {
         "name": "MODELYEAR",
         "rawType": "int64",
         "type": "integer"
        },
        {
         "name": "MAKE",
         "rawType": "object",
         "type": "string"
        },
        {
         "name": "MODEL",
         "rawType": "object",
         "type": "string"
        },
        {
         "name": "VEHICLECLASS",
         "rawType": "object",
         "type": "string"
        },
        {
         "name": "ENGINESIZE",
         "rawType": "float64",
         "type": "float"
        },
        {
         "name": "CYLINDERS",
         "rawType": "int64",
         "type": "integer"
        },
        {
         "name": "TRANSMISSION",
         "rawType": "object",
         "type": "string"
        },
        {
         "name": "FUELTYPE",
         "rawType": "object",
         "type": "string"
        },
        {
         "name": "FUELCONSUMPTION_CITY",
         "rawType": "float64",
         "type": "float"
        },
        {
         "name": "FUELCONSUMPTION_HWY",
         "rawType": "float64",
         "type": "float"
        },
        {
         "name": "FUELCONSUMPTION_COMB",
         "rawType": "float64",
         "type": "float"
        },
        {
         "name": "FUELCONSUMPTION_COMB_MPG",
         "rawType": "int64",
         "type": "integer"
        },
        {
         "name": "CO2EMISSIONS",
         "rawType": "int64",
         "type": "integer"
        }
       ],
       "ref": "470630d9-0959-4b60-9f7c-1de2146c17a3",
       "rows": [
        [
         "0",
         "2014",
         "ACURA",
         "ILX",
         "COMPACT",
         "2.0",
         "4",
         "AS5",
         "Z",
         "9.9",
         "6.7",
         "8.5",
         "33",
         "196"
        ],
        [
         "1",
         "2014",
         "ACURA",
         "ILX",
         "COMPACT",
         "2.4",
         "4",
         "M6",
         "Z",
         "11.2",
         "7.7",
         "9.6",
         "29",
         "221"
        ],
        [
         "2",
         "2014",
         "ACURA",
         "ILX HYBRID",
         "COMPACT",
         "1.5",
         "4",
         "AV7",
         "Z",
         "6.0",
         "5.8",
         "5.9",
         "48",
         "136"
        ],
        [
         "3",
         "2014",
         "ACURA",
         "MDX 4WD",
         "SUV - SMALL",
         "3.5",
         "6",
         "AS6",
         "Z",
         "12.7",
         "9.1",
         "11.1",
         "25",
         "255"
        ],
        [
         "4",
         "2014",
         "ACURA",
         "RDX AWD",
         "SUV - SMALL",
         "3.5",
         "6",
         "AS6",
         "Z",
         "12.1",
         "8.7",
         "10.6",
         "27",
         "244"
        ],
        [
         "5",
         "2014",
         "ACURA",
         "RLX",
         "MID-SIZE",
         "3.5",
         "6",
         "AS6",
         "Z",
         "11.9",
         "7.7",
         "10.0",
         "28",
         "230"
        ],
        [
         "6",
         "2014",
         "ACURA",
         "TL",
         "MID-SIZE",
         "3.5",
         "6",
         "AS6",
         "Z",
         "11.8",
         "8.1",
         "10.1",
         "28",
         "232"
        ],
        [
         "7",
         "2014",
         "ACURA",
         "TL AWD",
         "MID-SIZE",
         "3.7",
         "6",
         "AS6",
         "Z",
         "12.8",
         "9.0",
         "11.1",
         "25",
         "255"
        ],
        [
         "8",
         "2014",
         "ACURA",
         "TL AWD",
         "MID-SIZE",
         "3.7",
         "6",
         "M6",
         "Z",
         "13.4",
         "9.5",
         "11.6",
         "24",
         "267"
        ],
        [
         "9",
         "2014",
         "ACURA",
         "TSX",
         "COMPACT",
         "2.4",
         "4",
         "AS5",
         "Z",
         "10.6",
         "7.5",
         "9.2",
         "31",
         "212"
        ],
        [
         "10",
         "2014",
         "ACURA",
         "TSX",
         "COMPACT",
         "2.4",
         "4",
         "M6",
         "Z",
         "11.2",
         "8.1",
         "9.8",
         "29",
         "225"
        ],
        [
         "11",
         "2014",
         "ACURA",
         "TSX",
         "COMPACT",
         "3.5",
         "6",
         "AS5",
         "Z",
         "12.1",
         "8.3",
         "10.4",
         "27",
         "239"
        ],
        [
         "12",
         "2014",
         "ASTON MARTIN",
         "DB9",
         "MINICOMPACT",
         "5.9",
         "12",
         "A6",
         "Z",
         "18.0",
         "12.6",
         "15.6",
         "18",
         "359"
        ],
        [
         "13",
         "2014",
         "ASTON MARTIN",
         "RAPIDE",
         "SUBCOMPACT",
         "5.9",
         "12",
         "A6",
         "Z",
         "18.0",
         "12.6",
         "15.6",
         "18",
         "359"
        ],
        [
         "14",
         "2014",
         "ASTON MARTIN",
         "V8 VANTAGE",
         "TWO-SEATER",
         "4.7",
         "8",
         "AM7",
         "Z",
         "17.4",
         "11.3",
         "14.7",
         "19",
         "338"
        ],
        [
         "15",
         "2014",
         "ASTON MARTIN",
         "V8 VANTAGE",
         "TWO-SEATER",
         "4.7",
         "8",
         "M6",
         "Z",
         "18.1",
         "12.2",
         "15.4",
         "18",
         "354"
        ],
        [
         "16",
         "2014",
         "ASTON MARTIN",
         "V8 VANTAGE S",
         "TWO-SEATER",
         "4.7",
         "8",
         "AM7",
         "Z",
         "17.4",
         "11.3",
         "14.7",
         "19",
         "338"
        ],
        [
         "17",
         "2014",
         "ASTON MARTIN",
         "V8 VANTAGE S",
         "TWO-SEATER",
         "4.7",
         "8",
         "M6",
         "Z",
         "18.1",
         "12.2",
         "15.4",
         "18",
         "354"
        ],
        [
         "18",
         "2014",
         "ASTON MARTIN",
         "VANQUISH",
         "MINICOMPACT",
         "5.9",
         "12",
         "A6",
         "Z",
         "18.0",
         "12.6",
         "15.6",
         "18",
         "359"
        ],
        [
         "19",
         "2014",
         "AUDI",
         "A4",
         "COMPACT",
         "2.0",
         "4",
         "AV8",
         "Z",
         "9.9",
         "7.4",
         "8.8",
         "32",
         "202"
        ],
        [
         "20",
         "2014",
         "AUDI",
         "A4 QUATTRO",
         "COMPACT",
         "2.0",
         "4",
         "AS8",
         "Z",
         "11.5",
         "8.1",
         "10.0",
         "28",
         "230"
        ],
        [
         "21",
         "2014",
         "AUDI",
         "A4 QUATTRO",
         "COMPACT",
         "2.0",
         "4",
         "M6",
         "Z",
         "10.8",
         "7.5",
         "9.3",
         "30",
         "214"
        ],
        [
         "22",
         "2014",
         "AUDI",
         "A5 CABRIOLET QUATTRO",
         "SUBCOMPACT",
         "2.0",
         "4",
         "AS8",
         "Z",
         "11.5",
         "8.1",
         "10.0",
         "28",
         "230"
        ],
        [
         "23",
         "2014",
         "AUDI",
         "A5 QUATTRO",
         "SUBCOMPACT",
         "2.0",
         "4",
         "AS8",
         "Z",
         "11.5",
         "8.1",
         "10.0",
         "28",
         "230"
        ],
        [
         "24",
         "2014",
         "AUDI",
         "A5 QUATTRO",
         "SUBCOMPACT",
         "2.0",
         "4",
         "M6",
         "Z",
         "10.8",
         "7.5",
         "9.3",
         "30",
         "214"
        ],
        [
         "25",
         "2014",
         "AUDI",
         "A6 QUATTRO",
         "MID-SIZE",
         "2.0",
         "4",
         "AS8",
         "Z",
         "12.0",
         "8.1",
         "10.2",
         "28",
         "235"
        ],
        [
         "26",
         "2014",
         "AUDI",
         "A6 QUATTRO",
         "MID-SIZE",
         "3.0",
         "6",
         "AS8",
         "Z",
         "12.8",
         "8.6",
         "10.9",
         "26",
         "251"
        ],
        [
         "27",
         "2014",
         "AUDI",
         "A6 QUATTRO TDI CLEAN DIESEL",
         "MID-SIZE",
         "3.0",
         "6",
         "AS8",
         "D",
         "9.8",
         "6.4",
         "8.3",
         "34",
         "224"
        ],
        [
         "28",
         "2014",
         "AUDI",
         "A7 QUATTRO",
         "MID-SIZE",
         "3.0",
         "6",
         "AS8",
         "Z",
         "13.1",
         "8.8",
         "11.2",
         "25",
         "258"
        ],
        [
         "29",
         "2014",
         "AUDI",
         "A7 QUATTRO TDI CLEAN DIESEL",
         "MID-SIZE",
         "3.0",
         "6",
         "AS8",
         "D",
         "9.8",
         "6.4",
         "8.3",
         "34",
         "224"
        ],
        [
         "30",
         "2014",
         "AUDI",
         "A8",
         "MID-SIZE",
         "3.0",
         "6",
         "AS8",
         "Z",
         "13.1",
         "8.8",
         "11.2",
         "25",
         "258"
        ],
        [
         "31",
         "2014",
         "AUDI",
         "A8",
         "MID-SIZE",
         "4.0",
         "8",
         "AS8",
         "Z",
         "13.5",
         "8.6",
         "11.3",
         "25",
         "260"
        ],
        [
         "32",
         "2014",
         "AUDI",
         "A8 TDI CLEAN DIESEL",
         "MID-SIZE",
         "3.0",
         "6",
         "AS8",
         "D",
         "10.0",
         "6.4",
         "8.4",
         "34",
         "227"
        ],
        [
         "33",
         "2014",
         "AUDI",
         "A8L",
         "FULL-SIZE",
         "3.0",
         "6",
         "AS8",
         "Z",
         "13.1",
         "8.8",
         "11.2",
         "25",
         "258"
        ],
        [
         "34",
         "2014",
         "AUDI",
         "A8L",
         "FULL-SIZE",
         "4.0",
         "8",
         "AS8",
         "Z",
         "14.7",
         "9.7",
         "12.5",
         "23",
         "288"
        ],
        [
         "35",
         "2014",
         "AUDI",
         "A8L",
         "FULL-SIZE",
         "6.3",
         "12",
         "AS8",
         "Z",
         "18.2",
         "12.6",
         "15.7",
         "18",
         "361"
        ],
        [
         "36",
         "2014",
         "AUDI",
         "A8L TDI CLEAN DIESEL",
         "FULL-SIZE",
         "3.0",
         "6",
         "AS8",
         "D",
         "10.1",
         "6.5",
         "8.5",
         "33",
         "230"
        ],
        [
         "37",
         "2014",
         "AUDI",
         "ALLROAD QUATTRO",
         "STATION WAGON - SMALL",
         "2.0",
         "4",
         "AS8",
         "Z",
         "11.8",
         "8.8",
         "10.5",
         "27",
         "242"
        ],
        [
         "38",
         "2014",
         "AUDI",
         "Q5",
         "SUV - SMALL",
         "2.0",
         "4",
         "AS8",
         "Z",
         "12.0",
         "8.5",
         "10.4",
         "27",
         "239"
        ],
        [
         "39",
         "2014",
         "AUDI",
         "Q5",
         "SUV - SMALL",
         "3.0",
         "6",
         "AS8",
         "Z",
         "12.9",
         "9.2",
         "11.2",
         "25",
         "258"
        ],
        [
         "40",
         "2014",
         "AUDI",
         "Q5 HYBRID",
         "SUV - SMALL",
         "2.0",
         "4",
         "AS8",
         "Z",
         "9.9",
         "8.3",
         "9.2",
         "31",
         "212"
        ],
        [
         "41",
         "2014",
         "AUDI",
         "Q5 TDI CLEAN DIESEL",
         "SUV - SMALL",
         "3.0",
         "6",
         "AS8",
         "D",
         "10.3",
         "7.6",
         "9.1",
         "31",
         "246"
        ],
        [
         "42",
         "2014",
         "AUDI",
         "Q7",
         "SUV - STANDARD",
         "3.0",
         "6",
         "AS8",
         "Z",
         "15.1",
         "10.9",
         "13.2",
         "21",
         "304"
        ],
        [
         "43",
         "2014",
         "AUDI",
         "Q7 TDI CLEAN DIESEL",
         "SUV - STANDARD",
         "3.0",
         "6",
         "AS8",
         "D",
         "12.9",
         "8.4",
         "10.9",
         "26",
         "294"
        ],
        [
         "44",
         "2014",
         "AUDI",
         "R8",
         "TWO-SEATER",
         "4.2",
         "8",
         "A7",
         "Z",
         "17.6",
         "11.0",
         "14.6",
         "19",
         "336"
        ],
        [
         "45",
         "2014",
         "AUDI",
         "R8",
         "TWO-SEATER",
         "4.2",
         "8",
         "M6",
         "Z",
         "21.2",
         "13.4",
         "17.7",
         "16",
         "407"
        ],
        [
         "46",
         "2014",
         "AUDI",
         "R8",
         "TWO-SEATER",
         "5.2",
         "10",
         "A7",
         "Z",
         "18.8",
         "11.3",
         "15.4",
         "18",
         "354"
        ],
        [
         "47",
         "2014",
         "AUDI",
         "R8",
         "TWO-SEATER",
         "5.2",
         "10",
         "M6",
         "Z",
         "21.1",
         "13.8",
         "17.8",
         "16",
         "409"
        ],
        [
         "48",
         "2014",
         "AUDI",
         "R8 SPYDER",
         "TWO-SEATER",
         "4.2",
         "8",
         "A7",
         "Z",
         "17.6",
         "11.0",
         "14.6",
         "19",
         "336"
        ],
        [
         "49",
         "2014",
         "AUDI",
         "R8 SPYDER",
         "TWO-SEATER",
         "4.2",
         "8",
         "M6",
         "Z",
         "21.2",
         "13.4",
         "17.7",
         "16",
         "407"
        ]
       ],
       "shape": {
        "columns": 13,
        "rows": 1067
       }
      },
      "text/html": [
       "<div>\n",
       "<style scoped>\n",
       "    .dataframe tbody tr th:only-of-type {\n",
       "        vertical-align: middle;\n",
       "    }\n",
       "\n",
       "    .dataframe tbody tr th {\n",
       "        vertical-align: top;\n",
       "    }\n",
       "\n",
       "    .dataframe thead th {\n",
       "        text-align: right;\n",
       "    }\n",
       "</style>\n",
       "<table border=\"1\" class=\"dataframe\">\n",
       "  <thead>\n",
       "    <tr style=\"text-align: right;\">\n",
       "      <th></th>\n",
       "      <th>MODELYEAR</th>\n",
       "      <th>MAKE</th>\n",
       "      <th>MODEL</th>\n",
       "      <th>VEHICLECLASS</th>\n",
       "      <th>ENGINESIZE</th>\n",
       "      <th>CYLINDERS</th>\n",
       "      <th>TRANSMISSION</th>\n",
       "      <th>FUELTYPE</th>\n",
       "      <th>FUELCONSUMPTION_CITY</th>\n",
       "      <th>FUELCONSUMPTION_HWY</th>\n",
       "      <th>FUELCONSUMPTION_COMB</th>\n",
       "      <th>FUELCONSUMPTION_COMB_MPG</th>\n",
       "      <th>CO2EMISSIONS</th>\n",
       "    </tr>\n",
       "  </thead>\n",
       "  <tbody>\n",
       "    <tr>\n",
       "      <th>0</th>\n",
       "      <td>2014</td>\n",
       "      <td>ACURA</td>\n",
       "      <td>ILX</td>\n",
       "      <td>COMPACT</td>\n",
       "      <td>2.0</td>\n",
       "      <td>4</td>\n",
       "      <td>AS5</td>\n",
       "      <td>Z</td>\n",
       "      <td>9.9</td>\n",
       "      <td>6.7</td>\n",
       "      <td>8.5</td>\n",
       "      <td>33</td>\n",
       "      <td>196</td>\n",
       "    </tr>\n",
       "    <tr>\n",
       "      <th>1</th>\n",
       "      <td>2014</td>\n",
       "      <td>ACURA</td>\n",
       "      <td>ILX</td>\n",
       "      <td>COMPACT</td>\n",
       "      <td>2.4</td>\n",
       "      <td>4</td>\n",
       "      <td>M6</td>\n",
       "      <td>Z</td>\n",
       "      <td>11.2</td>\n",
       "      <td>7.7</td>\n",
       "      <td>9.6</td>\n",
       "      <td>29</td>\n",
       "      <td>221</td>\n",
       "    </tr>\n",
       "    <tr>\n",
       "      <th>2</th>\n",
       "      <td>2014</td>\n",
       "      <td>ACURA</td>\n",
       "      <td>ILX HYBRID</td>\n",
       "      <td>COMPACT</td>\n",
       "      <td>1.5</td>\n",
       "      <td>4</td>\n",
       "      <td>AV7</td>\n",
       "      <td>Z</td>\n",
       "      <td>6.0</td>\n",
       "      <td>5.8</td>\n",
       "      <td>5.9</td>\n",
       "      <td>48</td>\n",
       "      <td>136</td>\n",
       "    </tr>\n",
       "    <tr>\n",
       "      <th>3</th>\n",
       "      <td>2014</td>\n",
       "      <td>ACURA</td>\n",
       "      <td>MDX 4WD</td>\n",
       "      <td>SUV - SMALL</td>\n",
       "      <td>3.5</td>\n",
       "      <td>6</td>\n",
       "      <td>AS6</td>\n",
       "      <td>Z</td>\n",
       "      <td>12.7</td>\n",
       "      <td>9.1</td>\n",
       "      <td>11.1</td>\n",
       "      <td>25</td>\n",
       "      <td>255</td>\n",
       "    </tr>\n",
       "    <tr>\n",
       "      <th>4</th>\n",
       "      <td>2014</td>\n",
       "      <td>ACURA</td>\n",
       "      <td>RDX AWD</td>\n",
       "      <td>SUV - SMALL</td>\n",
       "      <td>3.5</td>\n",
       "      <td>6</td>\n",
       "      <td>AS6</td>\n",
       "      <td>Z</td>\n",
       "      <td>12.1</td>\n",
       "      <td>8.7</td>\n",
       "      <td>10.6</td>\n",
       "      <td>27</td>\n",
       "      <td>244</td>\n",
       "    </tr>\n",
       "    <tr>\n",
       "      <th>...</th>\n",
       "      <td>...</td>\n",
       "      <td>...</td>\n",
       "      <td>...</td>\n",
       "      <td>...</td>\n",
       "      <td>...</td>\n",
       "      <td>...</td>\n",
       "      <td>...</td>\n",
       "      <td>...</td>\n",
       "      <td>...</td>\n",
       "      <td>...</td>\n",
       "      <td>...</td>\n",
       "      <td>...</td>\n",
       "      <td>...</td>\n",
       "    </tr>\n",
       "    <tr>\n",
       "      <th>1062</th>\n",
       "      <td>2014</td>\n",
       "      <td>VOLVO</td>\n",
       "      <td>XC60 AWD</td>\n",
       "      <td>SUV - SMALL</td>\n",
       "      <td>3.0</td>\n",
       "      <td>6</td>\n",
       "      <td>AS6</td>\n",
       "      <td>X</td>\n",
       "      <td>13.4</td>\n",
       "      <td>9.8</td>\n",
       "      <td>11.8</td>\n",
       "      <td>24</td>\n",
       "      <td>271</td>\n",
       "    </tr>\n",
       "    <tr>\n",
       "      <th>1063</th>\n",
       "      <td>2014</td>\n",
       "      <td>VOLVO</td>\n",
       "      <td>XC60 AWD</td>\n",
       "      <td>SUV - SMALL</td>\n",
       "      <td>3.2</td>\n",
       "      <td>6</td>\n",
       "      <td>AS6</td>\n",
       "      <td>X</td>\n",
       "      <td>13.2</td>\n",
       "      <td>9.5</td>\n",
       "      <td>11.5</td>\n",
       "      <td>25</td>\n",
       "      <td>264</td>\n",
       "    </tr>\n",
       "    <tr>\n",
       "      <th>1064</th>\n",
       "      <td>2014</td>\n",
       "      <td>VOLVO</td>\n",
       "      <td>XC70 AWD</td>\n",
       "      <td>SUV - SMALL</td>\n",
       "      <td>3.0</td>\n",
       "      <td>6</td>\n",
       "      <td>AS6</td>\n",
       "      <td>X</td>\n",
       "      <td>13.4</td>\n",
       "      <td>9.8</td>\n",
       "      <td>11.8</td>\n",
       "      <td>24</td>\n",
       "      <td>271</td>\n",
       "    </tr>\n",
       "    <tr>\n",
       "      <th>1065</th>\n",
       "      <td>2014</td>\n",
       "      <td>VOLVO</td>\n",
       "      <td>XC70 AWD</td>\n",
       "      <td>SUV - SMALL</td>\n",
       "      <td>3.2</td>\n",
       "      <td>6</td>\n",
       "      <td>AS6</td>\n",
       "      <td>X</td>\n",
       "      <td>12.9</td>\n",
       "      <td>9.3</td>\n",
       "      <td>11.3</td>\n",
       "      <td>25</td>\n",
       "      <td>260</td>\n",
       "    </tr>\n",
       "    <tr>\n",
       "      <th>1066</th>\n",
       "      <td>2014</td>\n",
       "      <td>VOLVO</td>\n",
       "      <td>XC90 AWD</td>\n",
       "      <td>SUV - STANDARD</td>\n",
       "      <td>3.2</td>\n",
       "      <td>6</td>\n",
       "      <td>AS6</td>\n",
       "      <td>X</td>\n",
       "      <td>14.9</td>\n",
       "      <td>10.2</td>\n",
       "      <td>12.8</td>\n",
       "      <td>22</td>\n",
       "      <td>294</td>\n",
       "    </tr>\n",
       "  </tbody>\n",
       "</table>\n",
       "<p>1067 rows × 13 columns</p>\n",
       "</div>"
      ],
      "text/plain": [
       "      MODELYEAR   MAKE       MODEL    VEHICLECLASS  ENGINESIZE  CYLINDERS  \\\n",
       "0          2014  ACURA         ILX         COMPACT         2.0          4   \n",
       "1          2014  ACURA         ILX         COMPACT         2.4          4   \n",
       "2          2014  ACURA  ILX HYBRID         COMPACT         1.5          4   \n",
       "3          2014  ACURA     MDX 4WD     SUV - SMALL         3.5          6   \n",
       "4          2014  ACURA     RDX AWD     SUV - SMALL         3.5          6   \n",
       "...         ...    ...         ...             ...         ...        ...   \n",
       "1062       2014  VOLVO    XC60 AWD     SUV - SMALL         3.0          6   \n",
       "1063       2014  VOLVO    XC60 AWD     SUV - SMALL         3.2          6   \n",
       "1064       2014  VOLVO    XC70 AWD     SUV - SMALL         3.0          6   \n",
       "1065       2014  VOLVO    XC70 AWD     SUV - SMALL         3.2          6   \n",
       "1066       2014  VOLVO    XC90 AWD  SUV - STANDARD         3.2          6   \n",
       "\n",
       "     TRANSMISSION FUELTYPE  FUELCONSUMPTION_CITY  FUELCONSUMPTION_HWY  \\\n",
       "0             AS5        Z                   9.9                  6.7   \n",
       "1              M6        Z                  11.2                  7.7   \n",
       "2             AV7        Z                   6.0                  5.8   \n",
       "3             AS6        Z                  12.7                  9.1   \n",
       "4             AS6        Z                  12.1                  8.7   \n",
       "...           ...      ...                   ...                  ...   \n",
       "1062          AS6        X                  13.4                  9.8   \n",
       "1063          AS6        X                  13.2                  9.5   \n",
       "1064          AS6        X                  13.4                  9.8   \n",
       "1065          AS6        X                  12.9                  9.3   \n",
       "1066          AS6        X                  14.9                 10.2   \n",
       "\n",
       "      FUELCONSUMPTION_COMB  FUELCONSUMPTION_COMB_MPG  CO2EMISSIONS  \n",
       "0                      8.5                        33           196  \n",
       "1                      9.6                        29           221  \n",
       "2                      5.9                        48           136  \n",
       "3                     11.1                        25           255  \n",
       "4                     10.6                        27           244  \n",
       "...                    ...                       ...           ...  \n",
       "1062                  11.8                        24           271  \n",
       "1063                  11.5                        25           264  \n",
       "1064                  11.8                        24           271  \n",
       "1065                  11.3                        25           260  \n",
       "1066                  12.8                        22           294  \n",
       "\n",
       "[1067 rows x 13 columns]"
      ]
     },
     "execution_count": 5,
     "metadata": {},
     "output_type": "execute_result"
    }
   ],
   "source": [
    "df"
   ]
  },
  {
   "cell_type": "markdown",
   "id": "16a839e9-0225-463d-a3a1-7a2ae178ce8e",
   "metadata": {
    "tags": []
   },
   "source": [
    "## 4.1 - Basic Overview"
   ]
  },
  {
   "cell_type": "code",
   "execution_count": 6,
   "id": "f6aff018-85a2-4e46-89ee-36b9fafcbc63",
   "metadata": {},
   "outputs": [
    {
     "data": {
      "application/vnd.microsoft.datawrangler.viewer.v0+json": {
       "columns": [
        {
         "name": "index",
         "rawType": "object",
         "type": "string"
        },
        {
         "name": "MODELYEAR",
         "rawType": "float64",
         "type": "float"
        },
        {
         "name": "ENGINESIZE",
         "rawType": "float64",
         "type": "float"
        },
        {
         "name": "CYLINDERS",
         "rawType": "float64",
         "type": "float"
        },
        {
         "name": "FUELCONSUMPTION_CITY",
         "rawType": "float64",
         "type": "float"
        },
        {
         "name": "FUELCONSUMPTION_HWY",
         "rawType": "float64",
         "type": "float"
        },
        {
         "name": "FUELCONSUMPTION_COMB",
         "rawType": "float64",
         "type": "float"
        },
        {
         "name": "FUELCONSUMPTION_COMB_MPG",
         "rawType": "float64",
         "type": "float"
        },
        {
         "name": "CO2EMISSIONS",
         "rawType": "float64",
         "type": "float"
        }
       ],
       "ref": "ef5722ab-0c19-457d-8168-6295b3535cce",
       "rows": [
        [
         "count",
         "1067.0",
         "1067.0",
         "1067.0",
         "1067.0",
         "1067.0",
         "1067.0",
         "1067.0",
         "1067.0"
        ],
        [
         "mean",
         "2014.0",
         "3.346298031865042",
         "5.794751640112465",
         "13.296532333645736",
         "9.474601686972822",
         "11.580880974695408",
         "26.441424554826618",
         "256.2286785379569"
        ],
        [
         "std",
         "0.0",
         "1.415895051424066",
         "1.7974472750409691",
         "4.1012533170683385",
         "2.7945104498854083",
         "3.485594849634841",
         "7.468701989863615",
         "63.37230444280006"
        ],
        [
         "min",
         "2014.0",
         "1.0",
         "3.0",
         "4.6",
         "4.9",
         "4.7",
         "11.0",
         "108.0"
        ],
        [
         "25%",
         "2014.0",
         "2.0",
         "4.0",
         "10.25",
         "7.5",
         "9.0",
         "21.0",
         "207.0"
        ],
        [
         "50%",
         "2014.0",
         "3.4",
         "6.0",
         "12.6",
         "8.8",
         "10.9",
         "26.0",
         "251.0"
        ],
        [
         "75%",
         "2014.0",
         "4.3",
         "8.0",
         "15.55",
         "10.850000000000001",
         "13.350000000000001",
         "31.0",
         "294.0"
        ],
        [
         "max",
         "2014.0",
         "8.4",
         "12.0",
         "30.2",
         "20.5",
         "25.8",
         "60.0",
         "488.0"
        ]
       ],
       "shape": {
        "columns": 8,
        "rows": 8
       }
      },
      "text/html": [
       "<div>\n",
       "<style scoped>\n",
       "    .dataframe tbody tr th:only-of-type {\n",
       "        vertical-align: middle;\n",
       "    }\n",
       "\n",
       "    .dataframe tbody tr th {\n",
       "        vertical-align: top;\n",
       "    }\n",
       "\n",
       "    .dataframe thead th {\n",
       "        text-align: right;\n",
       "    }\n",
       "</style>\n",
       "<table border=\"1\" class=\"dataframe\">\n",
       "  <thead>\n",
       "    <tr style=\"text-align: right;\">\n",
       "      <th></th>\n",
       "      <th>MODELYEAR</th>\n",
       "      <th>ENGINESIZE</th>\n",
       "      <th>CYLINDERS</th>\n",
       "      <th>FUELCONSUMPTION_CITY</th>\n",
       "      <th>FUELCONSUMPTION_HWY</th>\n",
       "      <th>FUELCONSUMPTION_COMB</th>\n",
       "      <th>FUELCONSUMPTION_COMB_MPG</th>\n",
       "      <th>CO2EMISSIONS</th>\n",
       "    </tr>\n",
       "  </thead>\n",
       "  <tbody>\n",
       "    <tr>\n",
       "      <th>count</th>\n",
       "      <td>1067.0</td>\n",
       "      <td>1067.000000</td>\n",
       "      <td>1067.000000</td>\n",
       "      <td>1067.000000</td>\n",
       "      <td>1067.000000</td>\n",
       "      <td>1067.000000</td>\n",
       "      <td>1067.000000</td>\n",
       "      <td>1067.000000</td>\n",
       "    </tr>\n",
       "    <tr>\n",
       "      <th>mean</th>\n",
       "      <td>2014.0</td>\n",
       "      <td>3.346298</td>\n",
       "      <td>5.794752</td>\n",
       "      <td>13.296532</td>\n",
       "      <td>9.474602</td>\n",
       "      <td>11.580881</td>\n",
       "      <td>26.441425</td>\n",
       "      <td>256.228679</td>\n",
       "    </tr>\n",
       "    <tr>\n",
       "      <th>std</th>\n",
       "      <td>0.0</td>\n",
       "      <td>1.415895</td>\n",
       "      <td>1.797447</td>\n",
       "      <td>4.101253</td>\n",
       "      <td>2.794510</td>\n",
       "      <td>3.485595</td>\n",
       "      <td>7.468702</td>\n",
       "      <td>63.372304</td>\n",
       "    </tr>\n",
       "    <tr>\n",
       "      <th>min</th>\n",
       "      <td>2014.0</td>\n",
       "      <td>1.000000</td>\n",
       "      <td>3.000000</td>\n",
       "      <td>4.600000</td>\n",
       "      <td>4.900000</td>\n",
       "      <td>4.700000</td>\n",
       "      <td>11.000000</td>\n",
       "      <td>108.000000</td>\n",
       "    </tr>\n",
       "    <tr>\n",
       "      <th>25%</th>\n",
       "      <td>2014.0</td>\n",
       "      <td>2.000000</td>\n",
       "      <td>4.000000</td>\n",
       "      <td>10.250000</td>\n",
       "      <td>7.500000</td>\n",
       "      <td>9.000000</td>\n",
       "      <td>21.000000</td>\n",
       "      <td>207.000000</td>\n",
       "    </tr>\n",
       "    <tr>\n",
       "      <th>50%</th>\n",
       "      <td>2014.0</td>\n",
       "      <td>3.400000</td>\n",
       "      <td>6.000000</td>\n",
       "      <td>12.600000</td>\n",
       "      <td>8.800000</td>\n",
       "      <td>10.900000</td>\n",
       "      <td>26.000000</td>\n",
       "      <td>251.000000</td>\n",
       "    </tr>\n",
       "    <tr>\n",
       "      <th>75%</th>\n",
       "      <td>2014.0</td>\n",
       "      <td>4.300000</td>\n",
       "      <td>8.000000</td>\n",
       "      <td>15.550000</td>\n",
       "      <td>10.850000</td>\n",
       "      <td>13.350000</td>\n",
       "      <td>31.000000</td>\n",
       "      <td>294.000000</td>\n",
       "    </tr>\n",
       "    <tr>\n",
       "      <th>max</th>\n",
       "      <td>2014.0</td>\n",
       "      <td>8.400000</td>\n",
       "      <td>12.000000</td>\n",
       "      <td>30.200000</td>\n",
       "      <td>20.500000</td>\n",
       "      <td>25.800000</td>\n",
       "      <td>60.000000</td>\n",
       "      <td>488.000000</td>\n",
       "    </tr>\n",
       "  </tbody>\n",
       "</table>\n",
       "</div>"
      ],
      "text/plain": [
       "       MODELYEAR   ENGINESIZE    CYLINDERS  FUELCONSUMPTION_CITY  \\\n",
       "count     1067.0  1067.000000  1067.000000           1067.000000   \n",
       "mean      2014.0     3.346298     5.794752             13.296532   \n",
       "std          0.0     1.415895     1.797447              4.101253   \n",
       "min       2014.0     1.000000     3.000000              4.600000   \n",
       "25%       2014.0     2.000000     4.000000             10.250000   \n",
       "50%       2014.0     3.400000     6.000000             12.600000   \n",
       "75%       2014.0     4.300000     8.000000             15.550000   \n",
       "max       2014.0     8.400000    12.000000             30.200000   \n",
       "\n",
       "       FUELCONSUMPTION_HWY  FUELCONSUMPTION_COMB  FUELCONSUMPTION_COMB_MPG  \\\n",
       "count          1067.000000           1067.000000               1067.000000   \n",
       "mean              9.474602             11.580881                 26.441425   \n",
       "std               2.794510              3.485595                  7.468702   \n",
       "min               4.900000              4.700000                 11.000000   \n",
       "25%               7.500000              9.000000                 21.000000   \n",
       "50%               8.800000             10.900000                 26.000000   \n",
       "75%              10.850000             13.350000                 31.000000   \n",
       "max              20.500000             25.800000                 60.000000   \n",
       "\n",
       "       CO2EMISSIONS  \n",
       "count   1067.000000  \n",
       "mean     256.228679  \n",
       "std       63.372304  \n",
       "min      108.000000  \n",
       "25%      207.000000  \n",
       "50%      251.000000  \n",
       "75%      294.000000  \n",
       "max      488.000000  "
      ]
     },
     "execution_count": 6,
     "metadata": {},
     "output_type": "execute_result"
    }
   ],
   "source": [
    "\n",
    "df.describe()\n"
   ]
  },
  {
   "cell_type": "code",
   "execution_count": 7,
   "id": "9bb1e7b3",
   "metadata": {},
   "outputs": [
    {
     "name": "stdout",
     "output_type": "stream",
     "text": [
      "<class 'pandas.core.frame.DataFrame'>\n",
      "RangeIndex: 1067 entries, 0 to 1066\n",
      "Data columns (total 13 columns):\n",
      " #   Column                    Non-Null Count  Dtype  \n",
      "---  ------                    --------------  -----  \n",
      " 0   MODELYEAR                 1067 non-null   int64  \n",
      " 1   MAKE                      1067 non-null   object \n",
      " 2   MODEL                     1067 non-null   object \n",
      " 3   VEHICLECLASS              1067 non-null   object \n",
      " 4   ENGINESIZE                1067 non-null   float64\n",
      " 5   CYLINDERS                 1067 non-null   int64  \n",
      " 6   TRANSMISSION              1067 non-null   object \n",
      " 7   FUELTYPE                  1067 non-null   object \n",
      " 8   FUELCONSUMPTION_CITY      1067 non-null   float64\n",
      " 9   FUELCONSUMPTION_HWY       1067 non-null   float64\n",
      " 10  FUELCONSUMPTION_COMB      1067 non-null   float64\n",
      " 11  FUELCONSUMPTION_COMB_MPG  1067 non-null   int64  \n",
      " 12  CO2EMISSIONS              1067 non-null   int64  \n",
      "dtypes: float64(4), int64(4), object(5)\n",
      "memory usage: 108.5+ KB\n"
     ]
    }
   ],
   "source": [
    "df.info()"
   ]
  },
  {
   "cell_type": "markdown",
   "id": "07aab0b7-34a6-4000-88c3-17865f1de713",
   "metadata": {
    "tags": []
   },
   "source": [
    "## 4.2 - Check for Missing Values"
   ]
  },
  {
   "cell_type": "code",
   "execution_count": 10,
   "id": "a8afd24a-6066-4799-b951-89ee452c2bb8",
   "metadata": {},
   "outputs": [
    {
     "data": {
      "application/vnd.microsoft.datawrangler.viewer.v0+json": {
       "columns": [
        {
         "name": "index",
         "rawType": "object",
         "type": "string"
        },
        {
         "name": "0",
         "rawType": "int64",
         "type": "integer"
        }
       ],
       "ref": "7b76d489-ac32-4caa-83b2-1a8f9ea81e21",
       "rows": [
        [
         "MODELYEAR",
         "0"
        ],
        [
         "MAKE",
         "0"
        ],
        [
         "MODEL",
         "0"
        ],
        [
         "VEHICLECLASS",
         "0"
        ],
        [
         "ENGINESIZE",
         "0"
        ],
        [
         "CYLINDERS",
         "0"
        ],
        [
         "TRANSMISSION",
         "0"
        ],
        [
         "FUELTYPE",
         "0"
        ],
        [
         "FUELCONSUMPTION_CITY",
         "0"
        ],
        [
         "FUELCONSUMPTION_HWY",
         "0"
        ],
        [
         "FUELCONSUMPTION_COMB",
         "0"
        ],
        [
         "FUELCONSUMPTION_COMB_MPG",
         "0"
        ],
        [
         "CO2EMISSIONS",
         "0"
        ]
       ],
       "shape": {
        "columns": 1,
        "rows": 13
       }
      },
      "text/plain": [
       "MODELYEAR                   0\n",
       "MAKE                        0\n",
       "MODEL                       0\n",
       "VEHICLECLASS                0\n",
       "ENGINESIZE                  0\n",
       "CYLINDERS                   0\n",
       "TRANSMISSION                0\n",
       "FUELTYPE                    0\n",
       "FUELCONSUMPTION_CITY        0\n",
       "FUELCONSUMPTION_HWY         0\n",
       "FUELCONSUMPTION_COMB        0\n",
       "FUELCONSUMPTION_COMB_MPG    0\n",
       "CO2EMISSIONS                0\n",
       "dtype: int64"
      ]
     },
     "execution_count": 10,
     "metadata": {},
     "output_type": "execute_result"
    }
   ],
   "source": [
    "df.isnull().sum()"
   ]
  },
  {
   "cell_type": "markdown",
   "id": "4591d548-c09f-4365-8376-ffd39803354c",
   "metadata": {
    "tags": []
   },
   "source": [
    "## 4.3 - Analyze Data Types"
   ]
  },
  {
   "cell_type": "code",
   "execution_count": 11,
   "id": "6257e653-e763-4230-a51e-22eff91a9314",
   "metadata": {},
   "outputs": [
    {
     "data": {
      "application/vnd.microsoft.datawrangler.viewer.v0+json": {
       "columns": [
        {
         "name": "index",
         "rawType": "object",
         "type": "string"
        },
        {
         "name": "0",
         "rawType": "object",
         "type": "unknown"
        }
       ],
       "ref": "82f8a126-b762-4402-b91d-2997c3054302",
       "rows": [
        [
         "MODELYEAR",
         "int64"
        ],
        [
         "MAKE",
         "object"
        ],
        [
         "MODEL",
         "object"
        ],
        [
         "VEHICLECLASS",
         "object"
        ],
        [
         "ENGINESIZE",
         "float64"
        ],
        [
         "CYLINDERS",
         "int64"
        ],
        [
         "TRANSMISSION",
         "object"
        ],
        [
         "FUELTYPE",
         "object"
        ],
        [
         "FUELCONSUMPTION_CITY",
         "float64"
        ],
        [
         "FUELCONSUMPTION_HWY",
         "float64"
        ],
        [
         "FUELCONSUMPTION_COMB",
         "float64"
        ],
        [
         "FUELCONSUMPTION_COMB_MPG",
         "int64"
        ],
        [
         "CO2EMISSIONS",
         "int64"
        ]
       ],
       "shape": {
        "columns": 1,
        "rows": 13
       }
      },
      "text/plain": [
       "MODELYEAR                     int64\n",
       "MAKE                         object\n",
       "MODEL                        object\n",
       "VEHICLECLASS                 object\n",
       "ENGINESIZE                  float64\n",
       "CYLINDERS                     int64\n",
       "TRANSMISSION                 object\n",
       "FUELTYPE                     object\n",
       "FUELCONSUMPTION_CITY        float64\n",
       "FUELCONSUMPTION_HWY         float64\n",
       "FUELCONSUMPTION_COMB        float64\n",
       "FUELCONSUMPTION_COMB_MPG      int64\n",
       "CO2EMISSIONS                  int64\n",
       "dtype: object"
      ]
     },
     "execution_count": 11,
     "metadata": {},
     "output_type": "execute_result"
    }
   ],
   "source": [
    "df.dtypes"
   ]
  },
  {
   "cell_type": "markdown",
   "id": "5ad9df7f-3164-4783-a2ff-9a9842f85f52",
   "metadata": {
    "tags": []
   },
   "source": [
    "# 5 - VISUALIZE THE DATA"
   ]
  },
  {
   "cell_type": "markdown",
   "id": "548d9943-08ea-4b6e-8483-8c7946568fc2",
   "metadata": {
    "tags": []
   },
   "source": [
    "## 5.1 - UNIVARIATE ANALYSIS"
   ]
  },
  {
   "cell_type": "markdown",
   "id": "a68bb927-90e3-4ba6-9ce5-b3b2591c45c2",
   "metadata": {
    "tags": []
   },
   "source": [
    "### Example: Distribution of a numerical variable using seaborn and matplotlib  \n",
    "Replace 'feature_name' with the column you want to analyze"
   ]
  },
  {
   "cell_type": "code",
   "execution_count": 14,
   "id": "5ea2a8d4-3fd6-4097-9279-09a70829d1d8",
   "metadata": {
    "jp-MarkdownHeadingCollapsed": true,
    "tags": []
   },
   "outputs": [
    {
     "data": {
      "image/png": "[encoded data removed]",
      "text/plain": [
       "<Figure size 640x480 with 1 Axes>"
      ]
     },
     "metadata": {},
     "output_type": "display_data"
    }
   ],
   "source": [
    "# Seaborn histogram\n",
    "sns.histplot(df['CO2EMISSIONS'], kde=True)\n",
    "plt.title(\"AMOUNT OF  CO2EMISSIONS  (Seaborn)\")\n",
    "plt.xlabel(\" CO2EMISSIONS \")\n",
    "plt.ylabel(\"Frequency\")\n",
    "plt.show()"
   ]
  },
  {
   "cell_type": "code",
   "execution_count": 16,
   "id": "7a447569-6a0e-4463-97b3-77bb55c3db88",
   "metadata": {
    "jp-MarkdownHeadingCollapsed": true,
    "tags": []
   },
   "outputs": [
    {
     "data": {
      "image/png": "[encoded data removed]",
      "text/plain": [
       "<Figure size 640x480 with 1 Axes>"
      ]
     },
     "metadata": {},
     "output_type": "display_data"
    }
   ],
   "source": [
    "# Matplotlib histogram\n",
    "plt.hist(df['CO2EMISSIONS'], bins=30, edgecolor='black')\n",
    "plt.title(\"Distribution of feature_na CO2EMISSIONS me (Matplotlib)\")\n",
    "plt.xlabel(\"CO2EMISSIONS\")\n",
    "plt.ylabel(\"Frequency\")\n",
    "plt.grid(True)\n",
    "plt.show()"
   ]
  },
  {
   "cell_type": "markdown",
   "id": "a0beeccb-5178-4b9d-a38e-717016da9a56",
   "metadata": {
    "tags": []
   },
   "source": [
    "## 5.2 - BIVARIATE / MULTIVARIATE ANALYSIS"
   ]
  },
  {
   "cell_type": "markdown",
   "id": "0c0c01b7-ae32-49e2-8a31-5b6724675ceb",
   "metadata": {
    "tags": []
   },
   "source": [
    "### Example: Scatter plot between two numerical variables"
   ]
  },
  {
   "cell_type": "code",
   "execution_count": 76,
   "id": "8ddd984c-b2bb-45e1-85e7-b028f4dfb26b",
   "metadata": {
    "jp-MarkdownHeadingCollapsed": true,
    "tags": []
   },
   "outputs": [
    {
     "data": {
      "image/png": "[encoded data removed]",
      "text/plain": [
       "<Figure size 640x480 with 1 Axes>"
      ]
     },
     "metadata": {},
     "output_type": "display_data"
    }
   ],
   "source": [
    "# Seaborn scatter plot\n",
    "sns.scatterplot(x='ENGINESIZE', y='CO2EMISSIONS', data=df)\n",
    "plt.title(\"Scatter plot of feature_1 vs feature_2 (Seaborn)\")\n",
    "plt.xlabel(\"ENGINESIZE\")\n",
    "plt.ylabel(\"CO2EMISSIONS\")\n",
    "plt.grid(True)\n",
    "plt.show()"
   ]
  },
  {
   "cell_type": "code",
   "execution_count": 77,
   "id": "16f94bf3-6456-4a42-b193-45fb59b49540",
   "metadata": {
    "jp-MarkdownHeadingCollapsed": true,
    "tags": []
   },
   "outputs": [
    {
     "data": {
      "image/png": "[encoded data removed]",
      "text/plain": [
       "<Figure size 640x480 with 1 Axes>"
      ]
     },
     "metadata": {},
     "output_type": "display_data"
    }
   ],
   "source": [
    "# Matplotlib scatter plot\n",
    "plt.scatter(df['ENGINESIZE'], df['CO2EMISSIONS'], alpha=0.5)\n",
    "plt.title(\"Scatter plot of ENGINESIZE vs CO2EMISSIONS (Matplotlib)\")\n",
    "plt.xlabel(\"ENGINESIZE\")\n",
    "plt.ylabel(\"CO2EMISSIONS\")\n",
    "plt.grid(True)\n",
    "plt.show()"
   ]
  },
  {
   "cell_type": "markdown",
   "id": "0a97f3c0-1f28-4336-a13a-1804c93013e2",
   "metadata": {
    "tags": []
   },
   "source": [
    "### Example: Correlation heatmap (Seaborn only, but with Matplotlib styling)"
   ]
  },
  {
   "cell_type": "code",
   "execution_count": null,
   "id": "4214c556-4576-40bf-b594-a23566dcfc9e",
   "metadata": {
    "jp-MarkdownHeadingCollapsed": true,
    "tags": []
   },
   "outputs": [
    {
     "data": {
      "image/png": "[encoded data removed]",
      "text/plain": [
       "<Figure size 1000x800 with 2 Axes>"
      ]
     },
     "metadata": {},
     "output_type": "display_data"
    }
   ],
   "source": [
    "numeric_df = df.select_dtypes(include=['number'])\n",
    "plt.figure(figsize=(10, 8))\n",
    "# Create a mask for the upper triangle\n",
    "mask = np.triu(np.ones_like(corr, dtype=bool))\n",
    "# Draw the heatmap with the mask\n",
    "sns.heatmap(corr, mask=mask, annot=True, cmap='coolwarm', fmt=\".2f\", linewidths=0.5)\n",
    "plt.title(\"Correlation Matrix\")\n",
    "plt.show()"
   ]
  },
  {
   "cell_type": "markdown",
   "id": "4ff5a3ff-3783-4c46-b22a-3bf96ec318ee",
   "metadata": {
    "tags": []
   },
   "source": [
    "# 6 - PRE-PROCESS THE DATA"
   ]
  },
  {
   "cell_type": "markdown",
   "id": "6efd8bd2-b6d1-4c9b-aa36-13e4dd963f65",
   "metadata": {
    "jp-MarkdownHeadingCollapsed": true
   },
   "source": [
    "## 6.1 - Handle Missing Values\n"
   ]
  },
  {
   "cell_type": "markdown",
   "id": "dd5997b8-fc1e-417d-94f9-60a064978682",
   "metadata": {},
   "source": [
    "## 6.2 - Encode Categorical Variables\n"
   ]
  },
  {
   "cell_type": "code",
   "execution_count": null,
   "id": "c2402b21-4808-40c8-98e4-c0c99de88eda",
   "metadata": {},
   "outputs": [],
   "source": [
    "df = pd.get_dummies(df, drop_first=True)"
   ]
  },
  {
   "cell_type": "markdown",
   "id": "2a21e63f-1131-45b1-9ed4-4ff25ca2adcd",
   "metadata": {},
   "source": [
    "## 6.3 - Feature Scaling"
   ]
  },
  {
   "cell_type": "code",
   "execution_count": null,
   "id": "157e4039",
   "metadata": {},
   "outputs": [],
   "source": [
    "#UNDER CONSTRUCTION"
   ]
  },
  {
   "cell_type": "markdown",
   "id": "42f3ad64-6f5c-426f-9db3-a0f1c49f1911",
   "metadata": {
    "tags": []
   },
   "source": [
    "# 7 - SPLIT THE DATA"
   ]
  },
  {
   "cell_type": "markdown",
   "id": "7b3f7da2-f013-42cb-a7d4-129272424b95",
   "metadata": {
    "tags": []
   },
   "source": [
    "## 7.1 - Separate features and target variable"
   ]
  },
  {
   "cell_type": "code",
   "execution_count": 58,
   "id": "4a6a475a",
   "metadata": {},
   "outputs": [],
   "source": [
    "df_encoded = pd.get_dummies(df, drop_first=True)"
   ]
  },
  {
   "cell_type": "code",
   "execution_count": 59,
   "id": "19a0d388",
   "metadata": {},
   "outputs": [],
   "source": [
    "# 2. Split features and target\n",
    "X = df_encoded.drop(\"CO2EMISSIONS\", axis=1)  # Replace with your actual target column name\n",
    "y = df_encoded[\"CO2EMISSIONS\"]"
   ]
  },
  {
   "cell_type": "markdown",
   "id": "6f7d79fc-cf17-4f75-905b-ff48d835f3a5",
   "metadata": {
    "tags": []
   },
   "source": [
    "## 7.2 - Split the dataset into training and test sets"
   ]
  },
  {
   "cell_type": "code",
   "execution_count": 60,
   "id": "eb5a3d27-25ab-4502-a1cb-55600c78583c",
   "metadata": {
    "tags": []
   },
   "outputs": [],
   "source": [
    "# 80% for training, 20% for testing\n",
    "X_train, X_test, y_train, y_test = train_test_split(\n",
    "    X, y, test_size=.2, random_state=42\n",
    ")"
   ]
  },
  {
   "cell_type": "markdown",
   "id": "3a247277-ebe4-404c-a266-6ee9ce77af98",
   "metadata": {
    "tags": []
   },
   "source": [
    "## 7.3 - Display dimensions to verify the split"
   ]
  },
  {
   "cell_type": "code",
   "execution_count": 61,
   "id": "c35b2bd1-286b-47e1-a1ee-2c71a67ad3b7",
   "metadata": {
    "tags": []
   },
   "outputs": [
    {
     "name": "stdout",
     "output_type": "stream",
     "text": [
      "Training feature set shape: (853, 746)\n",
      "Test feature set shape: (214, 746)\n",
      "Training labels shape: (853,)\n",
      "Test labels shape: (214,)\n"
     ]
    }
   ],
   "source": [
    "print(\"Training feature set shape:\", X_train.shape)\n",
    "print(\"Test feature set shape:\", X_test.shape)\n",
    "print(\"Training labels shape:\", y_train.shape)\n",
    "print(\"Test labels shape:\", y_test.shape)"
   ]
  },
  {
   "cell_type": "code",
   "execution_count": 62,
   "id": "fbfabe66",
   "metadata": {},
   "outputs": [
    {
     "name": "stdout",
     "output_type": "stream",
     "text": [
      "     MODELYEAR  ENGINESIZE  CYLINDERS  FUELCONSUMPTION_CITY  \\\n",
      "333       2014         1.4          4                   8.5   \n",
      "106       2014         4.4          8                  15.0   \n",
      "585       2014         3.0          6                  11.2   \n",
      "55        2014         3.0          6                  13.2   \n",
      "213       2014         5.3          8                  18.3   \n",
      "\n",
      "     FUELCONSUMPTION_HWY  FUELCONSUMPTION_COMB  FUELCONSUMPTION_COMB_MPG  \\\n",
      "333                  6.9                   7.8                        36   \n",
      "106                  9.8                  12.7                        22   \n",
      "585                  8.4                   9.9                        29   \n",
      "55                   9.2                  11.4                        25   \n",
      "213                 14.2                  16.5                        17   \n",
      "\n",
      "     MAKE_ASTON MARTIN  MAKE_AUDI  MAKE_BENTLEY  ...  TRANSMISSION_AV  \\\n",
      "333              False      False         False  ...            False   \n",
      "106              False      False         False  ...            False   \n",
      "585              False      False         False  ...            False   \n",
      "55               False       True         False  ...            False   \n",
      "213              False      False         False  ...            False   \n",
      "\n",
      "     TRANSMISSION_AV6  TRANSMISSION_AV7  TRANSMISSION_AV8  TRANSMISSION_M5  \\\n",
      "333             False             False             False             True   \n",
      "106             False             False             False            False   \n",
      "585             False             False             False            False   \n",
      "55              False             False             False            False   \n",
      "213             False             False             False            False   \n",
      "\n",
      "     TRANSMISSION_M6  TRANSMISSION_M7  FUELTYPE_E  FUELTYPE_X  FUELTYPE_Z  \n",
      "333            False            False       False        True       False  \n",
      "106            False            False       False       False        True  \n",
      "585            False            False       False       False       False  \n",
      "55             False            False       False       False        True  \n",
      "213            False            False       False        True       False  \n",
      "\n",
      "[5 rows x 746 columns]\n"
     ]
    }
   ],
   "source": [
    "print(X_train.head())\n"
   ]
  },
  {
   "cell_type": "code",
   "execution_count": 63,
   "id": "c24402fb",
   "metadata": {},
   "outputs": [
    {
     "name": "stdout",
     "output_type": "stream",
     "text": [
      "Index(['MAKE', 'MODEL', 'VEHICLECLASS', 'TRANSMISSION', 'FUELTYPE'], dtype='object')\n"
     ]
    }
   ],
   "source": [
    "categorical_cols = df.select_dtypes(include=['object']).columns\n",
    "print(categorical_cols)\n"
   ]
  },
  {
   "cell_type": "code",
   "execution_count": null,
   "id": "474ccb40",
   "metadata": {},
   "outputs": [],
   "source": []
  },
  {
   "cell_type": "markdown",
   "id": "89ac2ba4-a62c-4ed3-a554-4817d8651de3",
   "metadata": {
    "tags": []
   },
   "source": [
    "# 8 - TRAIN A MODEL\n"
   ]
  },
  {
   "cell_type": "code",
   "execution_count": 64,
   "id": "fcfe4875-89d9-4cc3-95dc-4f8ee8d184dc",
   "metadata": {},
   "outputs": [
    {
     "data": {
      "text/html": [
       "<style>#sk-container-id-1 {\n",
       "  /* Definition of color scheme common for light and dark mode */\n",
       "  --sklearn-color-text: #000;\n",
       "  --sklearn-color-text-muted: #666;\n",
       "  --sklearn-color-line: gray;\n",
       "  /* Definition of color scheme for unfitted estimators */\n",
       "  --sklearn-color-unfitted-level-0: #fff5e6;\n",
       "  --sklearn-color-unfitted-level-1: #f6e4d2;\n",
       "  --sklearn-color-unfitted-level-2: #ffe0b3;\n",
       "  --sklearn-color-unfitted-level-3: chocolate;\n",
       "  /* Definition of color scheme for fitted estimators */\n",
       "  --sklearn-color-fitted-level-0: #f0f8ff;\n",
       "  --sklearn-color-fitted-level-1: #d4ebff;\n",
       "  --sklearn-color-fitted-level-2: #b3dbfd;\n",
       "  --sklearn-color-fitted-level-3: cornflowerblue;\n",
       "\n",
       "  /* Specific color for light theme */\n",
       "  --sklearn-color-text-on-default-background: var(--sg-text-color, var(--theme-code-foreground, var(--jp-content-font-color1, black)));\n",
       "  --sklearn-color-background: var(--sg-background-color, var(--theme-background, var(--jp-layout-color0, white)));\n",
       "  --sklearn-color-border-box: var(--sg-text-color, var(--theme-code-foreground, var(--jp-content-font-color1, black)));\n",
       "  --sklearn-color-icon: #696969;\n",
       "\n",
       "  @media (prefers-color-scheme: dark) {\n",
       "    /* Redefinition of color scheme for dark theme */\n",
       "    --sklearn-color-text-on-default-background: var(--sg-text-color, var(--theme-code-foreground, var(--jp-content-font-color1, white)));\n",
       "    --sklearn-color-background: var(--sg-background-color, var(--theme-background, var(--jp-layout-color0, #111)));\n",
       "    --sklearn-color-border-box: var(--sg-text-color, var(--theme-code-foreground, var(--jp-content-font-color1, white)));\n",
       "    --sklearn-color-icon: #878787;\n",
       "  }\n",
       "}\n",
       "\n",
       "#sk-container-id-1 {\n",
       "  color: var(--sklearn-color-text);\n",
       "}\n",
       "\n",
       "#sk-container-id-1 pre {\n",
       "  padding: 0;\n",
       "}\n",
       "\n",
       "#sk-container-id-1 input.sk-hidden--visually {\n",
       "  border: 0;\n",
       "  clip: rect(1px 1px 1px 1px);\n",
       "  clip: rect(1px, 1px, 1px, 1px);\n",
       "  height: 1px;\n",
       "  margin: -1px;\n",
       "  overflow: hidden;\n",
       "  padding: 0;\n",
       "  position: absolute;\n",
       "  width: 1px;\n",
       "}\n",
       "\n",
       "#sk-container-id-1 div.sk-dashed-wrapped {\n",
       "  border: 1px dashed var(--sklearn-color-line);\n",
       "  margin: 0 0.4em 0.5em 0.4em;\n",
       "  box-sizing: border-box;\n",
       "  padding-bottom: 0.4em;\n",
       "  background-color: var(--sklearn-color-background);\n",
       "}\n",
       "\n",
       "#sk-container-id-1 div.sk-container {\n",
       "  /* jupyter's `normalize.less` sets `[hidden] { display: none; }`\n",
       "     but bootstrap.min.css set `[hidden] { display: none !important; }`\n",
       "     so we also need the `!important` here to be able to override the\n",
       "     default hidden behavior on the sphinx rendered scikit-learn.org.\n",
       "     See: https://github.com/scikit-learn/scikit-learn/issues/21755 */\n",
       "  display: inline-block !important;\n",
       "  position: relative;\n",
       "}\n",
       "\n",
       "#sk-container-id-1 div.sk-text-repr-fallback {\n",
       "  display: none;\n",
       "}\n",
       "\n",
       "div.sk-parallel-item,\n",
       "div.sk-serial,\n",
       "div.sk-item {\n",
       "  /* draw centered vertical line to link estimators */\n",
       "  background-image: linear-gradient(var(--sklearn-color-text-on-default-background), var(--sklearn-color-text-on-default-background));\n",
       "  background-size: 2px 100%;\n",
       "  background-repeat: no-repeat;\n",
       "  background-position: center center;\n",
       "}\n",
       "\n",
       "/* Parallel-specific style estimator block */\n",
       "\n",
       "#sk-container-id-1 div.sk-parallel-item::after {\n",
       "  content: \"\";\n",
       "  width: 100%;\n",
       "  border-bottom: 2px solid var(--sklearn-color-text-on-default-background);\n",
       "  flex-grow: 1;\n",
       "}\n",
       "\n",
       "#sk-container-id-1 div.sk-parallel {\n",
       "  display: flex;\n",
       "  align-items: stretch;\n",
       "  justify-content: center;\n",
       "  background-color: var(--sklearn-color-background);\n",
       "  position: relative;\n",
       "}\n",
       "\n",
       "#sk-container-id-1 div.sk-parallel-item {\n",
       "  display: flex;\n",
       "  flex-direction: column;\n",
       "}\n",
       "\n",
       "#sk-container-id-1 div.sk-parallel-item:first-child::after {\n",
       "  align-self: flex-end;\n",
       "  width: 50%;\n",
       "}\n",
       "\n",
       "#sk-container-id-1 div.sk-parallel-item:last-child::after {\n",
       "  align-self: flex-start;\n",
       "  width: 50%;\n",
       "}\n",
       "\n",
       "#sk-container-id-1 div.sk-parallel-item:only-child::after {\n",
       "  width: 0;\n",
       "}\n",
       "\n",
       "/* Serial-specific style estimator block */\n",
       "\n",
       "#sk-container-id-1 div.sk-serial {\n",
       "  display: flex;\n",
       "  flex-direction: column;\n",
       "  align-items: center;\n",
       "  background-color: var(--sklearn-color-background);\n",
       "  padding-right: 1em;\n",
       "  padding-left: 1em;\n",
       "}\n",
       "\n",
       "\n",
       "/* Toggleable style: style used for estimator/Pipeline/ColumnTransformer box that is\n",
       "clickable and can be expanded/collapsed.\n",
       "- Pipeline and ColumnTransformer use this feature and define the default style\n",
       "- Estimators will overwrite some part of the style using the `sk-estimator` class\n",
       "*/\n",
       "\n",
       "/* Pipeline and ColumnTransformer style (default) */\n",
       "\n",
       "#sk-container-id-1 div.sk-toggleable {\n",
       "  /* Default theme specific background. It is overwritten whether we have a\n",
       "  specific estimator or a Pipeline/ColumnTransformer */\n",
       "  background-color: var(--sklearn-color-background);\n",
       "}\n",
       "\n",
       "/* Toggleable label */\n",
       "#sk-container-id-1 label.sk-toggleable__label {\n",
       "  cursor: pointer;\n",
       "  display: flex;\n",
       "  width: 100%;\n",
       "  margin-bottom: 0;\n",
       "  padding: 0.5em;\n",
       "  box-sizing: border-box;\n",
       "  text-align: center;\n",
       "  align-items: start;\n",
       "  justify-content: space-between;\n",
       "  gap: 0.5em;\n",
       "}\n",
       "\n",
       "#sk-container-id-1 label.sk-toggleable__label .caption {\n",
       "  font-size: 0.6rem;\n",
       "  font-weight: lighter;\n",
       "  color: var(--sklearn-color-text-muted);\n",
       "}\n",
       "\n",
       "#sk-container-id-1 label.sk-toggleable__label-arrow:before {\n",
       "  /* Arrow on the left of the label */\n",
       "  content: \"▸\";\n",
       "  float: left;\n",
       "  margin-right: 0.25em;\n",
       "  color: var(--sklearn-color-icon);\n",
       "}\n",
       "\n",
       "#sk-container-id-1 label.sk-toggleable__label-arrow:hover:before {\n",
       "  color: var(--sklearn-color-text);\n",
       "}\n",
       "\n",
       "/* Toggleable content - dropdown */\n",
       "\n",
       "#sk-container-id-1 div.sk-toggleable__content {\n",
       "  max-height: 0;\n",
       "  max-width: 0;\n",
       "  overflow: hidden;\n",
       "  text-align: left;\n",
       "  /* unfitted */\n",
       "  background-color: var(--sklearn-color-unfitted-level-0);\n",
       "}\n",
       "\n",
       "#sk-container-id-1 div.sk-toggleable__content.fitted {\n",
       "  /* fitted */\n",
       "  background-color: var(--sklearn-color-fitted-level-0);\n",
       "}\n",
       "\n",
       "#sk-container-id-1 div.sk-toggleable__content pre {\n",
       "  margin: 0.2em;\n",
       "  border-radius: 0.25em;\n",
       "  color: var(--sklearn-color-text);\n",
       "  /* unfitted */\n",
       "  background-color: var(--sklearn-color-unfitted-level-0);\n",
       "}\n",
       "\n",
       "#sk-container-id-1 div.sk-toggleable__content.fitted pre {\n",
       "  /* unfitted */\n",
       "  background-color: var(--sklearn-color-fitted-level-0);\n",
       "}\n",
       "\n",
       "#sk-container-id-1 input.sk-toggleable__control:checked~div.sk-toggleable__content {\n",
       "  /* Expand drop-down */\n",
       "  max-height: 200px;\n",
       "  max-width: 100%;\n",
       "  overflow: auto;\n",
       "}\n",
       "\n",
       "#sk-container-id-1 input.sk-toggleable__control:checked~label.sk-toggleable__label-arrow:before {\n",
       "  content: \"▾\";\n",
       "}\n",
       "\n",
       "/* Pipeline/ColumnTransformer-specific style */\n",
       "\n",
       "#sk-container-id-1 div.sk-label input.sk-toggleable__control:checked~label.sk-toggleable__label {\n",
       "  color: var(--sklearn-color-text);\n",
       "  background-color: var(--sklearn-color-unfitted-level-2);\n",
       "}\n",
       "\n",
       "#sk-container-id-1 div.sk-label.fitted input.sk-toggleable__control:checked~label.sk-toggleable__label {\n",
       "  background-color: var(--sklearn-color-fitted-level-2);\n",
       "}\n",
       "\n",
       "/* Estimator-specific style */\n",
       "\n",
       "/* Colorize estimator box */\n",
       "#sk-container-id-1 div.sk-estimator input.sk-toggleable__control:checked~label.sk-toggleable__label {\n",
       "  /* unfitted */\n",
       "  background-color: var(--sklearn-color-unfitted-level-2);\n",
       "}\n",
       "\n",
       "#sk-container-id-1 div.sk-estimator.fitted input.sk-toggleable__control:checked~label.sk-toggleable__label {\n",
       "  /* fitted */\n",
       "  background-color: var(--sklearn-color-fitted-level-2);\n",
       "}\n",
       "\n",
       "#sk-container-id-1 div.sk-label label.sk-toggleable__label,\n",
       "#sk-container-id-1 div.sk-label label {\n",
       "  /* The background is the default theme color */\n",
       "  color: var(--sklearn-color-text-on-default-background);\n",
       "}\n",
       "\n",
       "/* On hover, darken the color of the background */\n",
       "#sk-container-id-1 div.sk-label:hover label.sk-toggleable__label {\n",
       "  color: var(--sklearn-color-text);\n",
       "  background-color: var(--sklearn-color-unfitted-level-2);\n",
       "}\n",
       "\n",
       "/* Label box, darken color on hover, fitted */\n",
       "#sk-container-id-1 div.sk-label.fitted:hover label.sk-toggleable__label.fitted {\n",
       "  color: var(--sklearn-color-text);\n",
       "  background-color: var(--sklearn-color-fitted-level-2);\n",
       "}\n",
       "\n",
       "/* Estimator label */\n",
       "\n",
       "#sk-container-id-1 div.sk-label label {\n",
       "  font-family: monospace;\n",
       "  font-weight: bold;\n",
       "  display: inline-block;\n",
       "  line-height: 1.2em;\n",
       "}\n",
       "\n",
       "#sk-container-id-1 div.sk-label-container {\n",
       "  text-align: center;\n",
       "}\n",
       "\n",
       "/* Estimator-specific */\n",
       "#sk-container-id-1 div.sk-estimator {\n",
       "  font-family: monospace;\n",
       "  border: 1px dotted var(--sklearn-color-border-box);\n",
       "  border-radius: 0.25em;\n",
       "  box-sizing: border-box;\n",
       "  margin-bottom: 0.5em;\n",
       "  /* unfitted */\n",
       "  background-color: var(--sklearn-color-unfitted-level-0);\n",
       "}\n",
       "\n",
       "#sk-container-id-1 div.sk-estimator.fitted {\n",
       "  /* fitted */\n",
       "  background-color: var(--sklearn-color-fitted-level-0);\n",
       "}\n",
       "\n",
       "/* on hover */\n",
       "#sk-container-id-1 div.sk-estimator:hover {\n",
       "  /* unfitted */\n",
       "  background-color: var(--sklearn-color-unfitted-level-2);\n",
       "}\n",
       "\n",
       "#sk-container-id-1 div.sk-estimator.fitted:hover {\n",
       "  /* fitted */\n",
       "  background-color: var(--sklearn-color-fitted-level-2);\n",
       "}\n",
       "\n",
       "/* Specification for estimator info (e.g. \"i\" and \"?\") */\n",
       "\n",
       "/* Common style for \"i\" and \"?\" */\n",
       "\n",
       ".sk-estimator-doc-link,\n",
       "a:link.sk-estimator-doc-link,\n",
       "a:visited.sk-estimator-doc-link {\n",
       "  float: right;\n",
       "  font-size: smaller;\n",
       "  line-height: 1em;\n",
       "  font-family: monospace;\n",
       "  background-color: var(--sklearn-color-background);\n",
       "  border-radius: 1em;\n",
       "  height: 1em;\n",
       "  width: 1em;\n",
       "  text-decoration: none !important;\n",
       "  margin-left: 0.5em;\n",
       "  text-align: center;\n",
       "  /* unfitted */\n",
       "  border: var(--sklearn-color-unfitted-level-1) 1pt solid;\n",
       "  color: var(--sklearn-color-unfitted-level-1);\n",
       "}\n",
       "\n",
       ".sk-estimator-doc-link.fitted,\n",
       "a:link.sk-estimator-doc-link.fitted,\n",
       "a:visited.sk-estimator-doc-link.fitted {\n",
       "  /* fitted */\n",
       "  border: var(--sklearn-color-fitted-level-1) 1pt solid;\n",
       "  color: var(--sklearn-color-fitted-level-1);\n",
       "}\n",
       "\n",
       "/* On hover */\n",
       "div.sk-estimator:hover .sk-estimator-doc-link:hover,\n",
       ".sk-estimator-doc-link:hover,\n",
       "div.sk-label-container:hover .sk-estimator-doc-link:hover,\n",
       ".sk-estimator-doc-link:hover {\n",
       "  /* unfitted */\n",
       "  background-color: var(--sklearn-color-unfitted-level-3);\n",
       "  color: var(--sklearn-color-background);\n",
       "  text-decoration: none;\n",
       "}\n",
       "\n",
       "div.sk-estimator.fitted:hover .sk-estimator-doc-link.fitted:hover,\n",
       ".sk-estimator-doc-link.fitted:hover,\n",
       "div.sk-label-container:hover .sk-estimator-doc-link.fitted:hover,\n",
       ".sk-estimator-doc-link.fitted:hover {\n",
       "  /* fitted */\n",
       "  background-color: var(--sklearn-color-fitted-level-3);\n",
       "  color: var(--sklearn-color-background);\n",
       "  text-decoration: none;\n",
       "}\n",
       "\n",
       "/* Span, style for the box shown on hovering the info icon */\n",
       ".sk-estimator-doc-link span {\n",
       "  display: none;\n",
       "  z-index: 9999;\n",
       "  position: relative;\n",
       "  font-weight: normal;\n",
       "  right: .2ex;\n",
       "  padding: .5ex;\n",
       "  margin: .5ex;\n",
       "  width: min-content;\n",
       "  min-width: 20ex;\n",
       "  max-width: 50ex;\n",
       "  color: var(--sklearn-color-text);\n",
       "  box-shadow: 2pt 2pt 4pt #999;\n",
       "  /* unfitted */\n",
       "  background: var(--sklearn-color-unfitted-level-0);\n",
       "  border: .5pt solid var(--sklearn-color-unfitted-level-3);\n",
       "}\n",
       "\n",
       ".sk-estimator-doc-link.fitted span {\n",
       "  /* fitted */\n",
       "  background: var(--sklearn-color-fitted-level-0);\n",
       "  border: var(--sklearn-color-fitted-level-3);\n",
       "}\n",
       "\n",
       ".sk-estimator-doc-link:hover span {\n",
       "  display: block;\n",
       "}\n",
       "\n",
       "/* \"?\"-specific style due to the `<a>` HTML tag */\n",
       "\n",
       "#sk-container-id-1 a.estimator_doc_link {\n",
       "  float: right;\n",
       "  font-size: 1rem;\n",
       "  line-height: 1em;\n",
       "  font-family: monospace;\n",
       "  background-color: var(--sklearn-color-background);\n",
       "  border-radius: 1rem;\n",
       "  height: 1rem;\n",
       "  width: 1rem;\n",
       "  text-decoration: none;\n",
       "  /* unfitted */\n",
       "  color: var(--sklearn-color-unfitted-level-1);\n",
       "  border: var(--sklearn-color-unfitted-level-1) 1pt solid;\n",
       "}\n",
       "\n",
       "#sk-container-id-1 a.estimator_doc_link.fitted {\n",
       "  /* fitted */\n",
       "  border: var(--sklearn-color-fitted-level-1) 1pt solid;\n",
       "  color: var(--sklearn-color-fitted-level-1);\n",
       "}\n",
       "\n",
       "/* On hover */\n",
       "#sk-container-id-1 a.estimator_doc_link:hover {\n",
       "  /* unfitted */\n",
       "  background-color: var(--sklearn-color-unfitted-level-3);\n",
       "  color: var(--sklearn-color-background);\n",
       "  text-decoration: none;\n",
       "}\n",
       "\n",
       "#sk-container-id-1 a.estimator_doc_link.fitted:hover {\n",
       "  /* fitted */\n",
       "  background-color: var(--sklearn-color-fitted-level-3);\n",
       "}\n",
       "</style><div id=\"sk-container-id-1\" class=\"sk-top-container\"><div class=\"sk-text-repr-fallback\"><pre>LinearRegression()</pre><b>In a Jupyter environment, please rerun this cell to show the HTML representation or trust the notebook. <br />On GitHub, the HTML representation is unable to render, please try loading this page with nbviewer.org.</b></div><div class=\"sk-container\" hidden><div class=\"sk-item\"><div class=\"sk-estimator fitted sk-toggleable\"><input class=\"sk-toggleable__control sk-hidden--visually\" id=\"sk-estimator-id-1\" type=\"checkbox\" checked><label for=\"sk-estimator-id-1\" class=\"sk-toggleable__label fitted sk-toggleable__label-arrow\"><div><div>LinearRegression</div></div><div><a class=\"sk-estimator-doc-link fitted\" rel=\"noreferrer\" target=\"_blank\" href=\"https://scikit-learn.org/1.6/modules/generated/sklearn.linear_model.LinearRegression.html\">?<span>Documentation for LinearRegression</span></a><span class=\"sk-estimator-doc-link fitted\">i<span>Fitted</span></span></div></label><div class=\"sk-toggleable__content fitted\"><pre>LinearRegression()</pre></div> </div></div></div></div>"
      ],
      "text/plain": [
       "LinearRegression()"
      ]
     },
     "execution_count": 64,
     "metadata": {},
     "output_type": "execute_result"
    }
   ],
   "source": [
    "\n",
    "model = LinearRegression()\n",
    "model.fit(X_train, y_train)\n",
    "\n"
   ]
  },
  {
   "cell_type": "markdown",
   "id": "68b01a93-b83f-47bd-89dd-82069edf7c30",
   "metadata": {},
   "source": [
    "# 9 - EVALUATE AND TUNE THE MODEL"
   ]
  },
  {
   "cell_type": "markdown",
   "id": "b7a9e9fb-d1d0-44c6-8454-b9c33595cd29",
   "metadata": {},
   "source": [
    "## 9.1 - Evaluate on Test Set"
   ]
  },
  {
   "cell_type": "code",
   "execution_count": 66,
   "id": "2af338d9-4b74-4ae7-8429-85e98330c707",
   "metadata": {
    "jp-MarkdownHeadingCollapsed": true
   },
   "outputs": [],
   "source": [
    "# 7. Make predictions on the test set\n",
    "y_pred = model.predict(X_test)"
   ]
  },
  {
   "cell_type": "code",
   "execution_count": 70,
   "id": "766833b7",
   "metadata": {},
   "outputs": [
    {
     "name": "stdout",
     "output_type": "stream",
     "text": [
      "Mean Squared Error: 104.1949154989814\n",
      "R² Score: 0.9748013811635705\n"
     ]
    }
   ],
   "source": [
    "# 8. Evaluate the model\n",
    "mse = mean_squared_error(y_test, y_pred)\n",
    "r2 = r2_score(y_test, y_pred)\n",
    "\n",
    "print(\"Mean Squared Error:\", mse)\n",
    "print(\"R² Score:\", r2)"
   ]
  },
  {
   "cell_type": "markdown",
   "id": "94736d77-8c4c-471c-9c56-00029a27299a",
   "metadata": {},
   "source": [
    "## 9.2 - Cross-Validation"
   ]
  },
  {
   "cell_type": "code",
   "execution_count": 71,
   "id": "8221ce06-c5de-445d-8d8b-72ca89ace8b6",
   "metadata": {
    "jp-MarkdownHeadingCollapsed": true
   },
   "outputs": [
    {
     "name": "stdout",
     "output_type": "stream",
     "text": [
      "CV Accuracy: 0.9796440945667637\n"
     ]
    }
   ],
   "source": [
    "scores = cross_val_score(model, X_train, y_train, cv=5)\n",
    "print('CV Accuracy:', scores.mean())"
   ]
  },
  {
   "cell_type": "markdown",
   "id": "983bb79f-628f-4459-97eb-977d7cab7034",
   "metadata": {},
   "source": [
    "# 10 - INTERPRET RESULTS AND NEXT STEPS"
   ]
  },
  {
   "cell_type": "markdown",
   "id": "0bb642da-587f-47be-876c-bfc1294fae61",
   "metadata": {},
   "source": [
    "## 10.1 - Interpret Coefficients or Feature Importance"
   ]
  },
  {
   "cell_type": "code",
   "execution_count": 72,
   "id": "66bc832a-0563-4c5f-ae44-603fc0aab1c8",
   "metadata": {},
   "outputs": [
    {
     "name": "stdout",
     "output_type": "stream",
     "text": [
      "[ 2.31244410e-15  3.21242201e+00  1.07732194e+00 -3.29582135e+00\n",
      " -4.41074260e+00  1.59713170e+01 -5.03464785e+00  3.64073048e+00\n",
      "  5.28167989e+00  1.30953727e+01 -4.32392872e+00 -3.43453501e+00\n",
      " -3.03325978e+00 -2.06572683e+00 -4.64610199e+00 -4.33750908e+00\n",
      "  7.52279593e+00  2.00601589e+00 -3.39418874e+00  9.37916541e+00\n",
      "  3.66563037e+00 -5.24695154e+00 -2.45906518e+00  7.09270847e-01\n",
      "  4.75405258e-01  2.10601081e+01  3.36122880e+00 -2.72521066e+00\n",
      "  9.73167948e-01  5.16568390e+00  3.64199588e+00 -2.50975813e+00\n",
      "  2.04815493e+00  3.55494850e+00 -6.96754239e-01 -8.15882555e+00\n",
      " -9.39639796e+00  9.79901428e+00  4.57059547e+00  1.11157191e+01\n",
      "  4.29837476e+00 -9.20909290e-01  3.69547017e+00  3.98550626e+00\n",
      " -5.22509083e+00  1.27688040e+01  1.36577926e+01  3.62532927e+00\n",
      " -3.90798505e-14  2.47862429e+00 -1.27897692e-13 -1.98593822e+00\n",
      "  1.69947128e+00 -5.29154154e-01 -2.66066682e+00 -4.84629830e+00\n",
      " -3.76068589e+00 -1.75739444e-01  1.39216569e-01  4.60863764e+00\n",
      " -4.84629830e+00  1.00364161e-13 -1.48871653e+00  2.22044605e-14\n",
      "  2.08962737e+01  2.09622802e+01  1.28081750e+00  4.81212292e-14\n",
      "  4.71902495e+00 -1.10249468e+00 -7.85004484e+00 -8.58220860e+00\n",
      " -9.10139600e-01 -8.27220422e+00 -7.70667613e+00  1.28081750e+00\n",
      " -1.16850125e+00 -8.68141740e+00 -8.58220860e+00 -8.08973756e+00\n",
      " -8.08973756e+00 -4.26325641e-14  7.65820502e-02  4.71675113e+00\n",
      "  7.65820502e-02  9.08646457e+00  7.65820502e-02 -6.51016593e+00\n",
      " -1.51088494e+00 -2.13645081e+00 -1.25233157e-13  8.88178420e-14\n",
      " -1.93828710e+00 -8.83391336e+00 -1.13910260e+00 -6.79766580e+00\n",
      " -4.19601002e+00  2.48689958e-14 -7.02662880e+00 -5.68434189e-14\n",
      " -1.13910260e+00 -1.13910260e+00  8.24625698e+00 -4.34470793e+00\n",
      " -4.87952773e+00 -1.36374041e+00 -3.51723821e+00 -2.74325880e+00\n",
      " -4.50949899e+00 -4.06750082e+00 -4.74650897e+00  8.81029913e+00\n",
      "  3.43789239e-01  3.43789239e-01  9.94759830e-14  1.42108547e-14\n",
      " -3.89697385e+00 -1.01525589e+01 -5.57501057e+00 -9.06886962e+00\n",
      " -8.80705915e+00 -2.74446323e+00 -1.26493347e+01 -2.74446323e+00\n",
      "  2.57571742e-14 -6.82430657e-01 -6.48847557e-01  3.31192195e+00\n",
      " -3.78445899e+00 -2.19032900e-01  4.35680745e+00 -2.10258708e+01\n",
      "  6.25085205e+01 -4.26325641e-14 -7.97449025e+00  2.18954228e+00\n",
      " -5.28366288e+00 -1.13910260e+00 -1.13910260e+00 -8.85982208e+00\n",
      "  1.44254066e+01 -4.62458264e+00 -4.92479502e+00 -1.84861513e+01\n",
      " -8.37747065e-01 -6.36144827e+00  2.10601081e+01  3.63199641e+00\n",
      " -8.43426176e+00 -5.62440129e+00  8.31071261e+00  8.13924054e-02\n",
      " -5.34940636e+00 -2.54558537e+00  1.77635684e-14 -4.44089210e-14\n",
      " -5.06882186e+00 -7.56297724e+00 -9.29542768e+00 -3.55883376e+00\n",
      " -4.40277633e+00  6.66133815e-15  7.78932554e+00  2.93098879e-14\n",
      " -2.03165079e+00 -9.20588129e+00 -9.58435526e+00 -1.36223627e+01\n",
      "  9.30522855e+00 -1.82631671e+01  3.49473885e+01  2.43640190e+01\n",
      "  1.16999412e+01  7.30114287e+00  7.94672998e+00  8.79357429e-01\n",
      " -2.17199491e+00 -2.19078256e+00  1.90289737e+00 -1.16448675e+00\n",
      " -5.34940636e+00  2.04281037e-14 -8.74607970e+00 -8.14048061e+00\n",
      "  2.75335310e-14 -6.94064841e+00 -8.96935113e+00 -3.21994803e+00\n",
      " -4.06927880e+00 -4.84332355e-01 -1.69376342e-01 -1.50990331e-14\n",
      "  1.18245589e+00 -2.11387537e+00 -1.47223782e+00 -1.29279463e+00\n",
      " -4.05765234e-01  2.75219836e+00 -6.79179171e-01  9.76996262e-15\n",
      " -4.87559656e+00  1.02140518e-14  1.18011271e+00 -4.44089210e-15\n",
      " -4.36152281e+00 -4.36152281e+00  1.17310302e+00  1.56875284e+00\n",
      "  1.46549439e-14 -1.06426219e+01  2.13162821e-14  2.04687264e+00\n",
      " -3.03664282e+00  4.81395531e+00  3.28905036e+00 -7.52531629e-01\n",
      "  7.43189678e+00 -2.95060436e+00  1.47311721e+00  1.55431223e-15\n",
      "  1.12143078e+00 -3.34197915e+00 -1.08675305e+00 -2.44372955e+00\n",
      " -3.02251680e-01  4.07776434e+00  0.00000000e+00  8.29906202e+00\n",
      " -2.07091421e+00 -1.93882737e+01 -9.76041152e+00 -1.02744853e+01\n",
      "  7.66298141e+00 -7.99360578e-15  2.44471815e+00  1.41266190e+01\n",
      "  1.26801579e+01 -8.60422844e-15 -9.65748468e+00 -7.19894315e+00\n",
      " -5.82400933e+00 -6.31687630e+00 -2.27595720e-14 -5.62092793e+00\n",
      " -6.90898109e+00  1.66878930e+01  9.30481195e+00  1.77218491e+01\n",
      "  6.59637387e-01 -1.23889534e-01 -4.51270080e+00 -4.36271604e+00\n",
      "  1.59143929e+00  4.06550775e+00 -2.23441912e-01  1.60787281e+01\n",
      "  4.44089210e-16 -1.96370697e-14 -5.46748154e+00  1.26539141e+01\n",
      " -8.12834517e+00 -1.10343203e+01 -6.90588316e+00 -1.21956659e+01\n",
      " -6.57630103e+00 -4.00019470e+00 -7.20393979e+00 -1.47341838e+01\n",
      " -9.32101652e+00 -9.24801703e+00  1.99840144e-14 -9.10541689e+00\n",
      "  9.54791801e-15  3.24185123e-14  2.38694727e+00 -7.44473387e+00\n",
      "  2.89420652e+01  5.43320694e+00 -9.18059696e+00 -3.16320274e+00\n",
      " -4.84165235e+00 -3.74411272e+00  1.44328993e-14  8.30408789e+00\n",
      "  8.89053934e+00 -6.43562823e+00  3.05002412e+00  5.18810934e+00\n",
      " -8.00504923e+00  3.60242985e+01 -1.95538030e-14 -1.06859140e+00\n",
      "  1.15314506e+01 -2.80724707e+00 -2.85726922e+00  1.14614490e+01\n",
      " -6.47388122e+00 -5.59757643e+00 -9.49970335e+00 -6.70818617e+00\n",
      " -5.71968989e-01  1.82475380e+00 -3.88819217e+00  6.87364125e+00\n",
      " -1.12186513e+01 -9.28158939e+00  7.50892280e+00  9.66596098e+00\n",
      " -7.05624324e+00 -1.33226763e-14 -5.25129776e+00 -1.18122101e+00\n",
      "  3.60548442e+00 -5.61236943e+00 -1.39501341e+00  2.58423770e+01\n",
      "  8.11436087e+00  1.33511203e+01 -1.79140112e-01  7.00272969e-01\n",
      "  1.89270691e+00 -1.25439370e+01 -1.30195181e+01 -8.72653581e+00\n",
      " -1.75169570e+00 -3.01122441e+00  5.41654976e+00  1.08640847e+01\n",
      " -2.05346789e-01 -1.10754204e-01  4.75057161e+00 -1.47689498e+00\n",
      "  5.55785957e+00  5.55785957e+00 -5.01117591e+00 -3.18045385e-01\n",
      "  4.91913275e+00 -3.72179115e+00 -2.16493490e-14 -8.35391172e+00\n",
      "  3.99306522e+01  3.76297666e+01  3.07557838e+01 -1.21569421e-14\n",
      " -1.22586289e+01 -7.14443877e+00 -7.27196081e-15  1.05712491e+00\n",
      "  1.05712491e+00  1.89593741e+01  1.09864147e+01  1.15343735e+01\n",
      "  1.14229774e+01  1.32329975e+01 -1.23980128e+00 -9.50404556e+00\n",
      "  9.73515528e+00  3.83762133e+00  1.64313008e-14  1.16098919e+00\n",
      " -1.05142615e+01  3.31861453e+00  4.57257586e+00  2.66688740e+00\n",
      " -7.90349854e+00 -7.53150284e+00  6.25670287e+00  2.57894147e+00\n",
      " -2.75342742e+00 -9.20570605e+00 -1.35693328e+01 -9.57585356e+00\n",
      " -1.03083040e+01 -5.36896729e+00 -7.32747196e-15 -1.62190353e+00\n",
      "  1.36594501e+00  5.01473421e-01  5.64368853e-01 -7.50300882e+00\n",
      " -6.80506524e+00 -4.67239005e+00 -3.03593320e+00 -6.56355328e+00\n",
      " -1.55431223e-14 -2.69229083e-14 -5.26039054e+00 -7.59919057e+00\n",
      "  1.19435095e+01  4.54384799e+01  2.64633574e+00  1.12143078e+00\n",
      " -4.24022874e+00 -6.94502365e-01 -3.34197915e+00 -6.94502365e-01\n",
      "  3.80573775e+00  6.43467686e+00  5.66373378e+00  1.21624341e+00\n",
      " -5.50060155e+00 -4.39290636e+00 -3.24404094e+00 -5.89468236e-01\n",
      " -2.53463273e+00 -6.14344609e+00  1.57193321e+00 -5.97588620e+00\n",
      " -2.54363064e+00 -6.04971518e+00  2.48550842e+00  6.31864144e+00\n",
      " -6.43196362e+00 -1.98438901e+00 -1.98438901e+00 -6.09587024e+00\n",
      "  1.52399236e+01  1.40059923e+00  2.36854878e+00  5.19916756e+00\n",
      "  2.36854878e+00 -1.30722905e+00 -1.39572326e+01  7.01844922e+00\n",
      "  6.76841061e+00  1.31353262e-14  5.47926793e+00  4.06084346e+00\n",
      " -1.06581410e-14 -1.11022302e-14 -2.35105559e+00 -5.38776753e+00\n",
      "  3.95875199e+00  1.38777878e-14  2.67963553e+01 -4.55118593e+00\n",
      " -7.69368787e+00  1.40469834e+00 -1.21625305e+00  2.73114864e-14\n",
      " -7.98051473e+00 -1.08625546e+01  2.30323185e+01 -3.70381619e+00\n",
      " -2.67355582e-14  1.61539766e+00  8.00753608e+00  2.64794605e+01\n",
      " -4.70114778e+00 -1.10453020e+01 -8.38370454e+00 -7.56523522e+00\n",
      "  8.84034722e+00 -1.76087129e+00 -1.08721053e+01 -3.06978603e+00\n",
      "  2.97374033e+00 -1.86333121e+00  1.73263135e+00 -7.55212928e+00\n",
      " -1.80619408e-14 -1.56737372e+00  8.02656552e-15  5.83119403e+00\n",
      " -2.32589377e-01  3.59563676e+00 -2.04680023e-14  3.00296790e+00\n",
      " -9.36087347e+00  1.13225773e+01 -6.67950063e+00  1.97619698e-14\n",
      " -8.92678688e+00  1.32576570e+00  1.56875284e+00 -4.26587857e+00\n",
      "  1.06114717e+01  4.72394547e+00  4.28287121e+00  1.55431223e-14\n",
      " -1.08801856e-14 -8.88055740e+00 -7.10542736e-15 -7.99360578e-15\n",
      "  3.53304354e+01 -2.63530645e+00  1.86549193e+00  4.06458082e+00\n",
      "  6.66133815e-15 -7.84369365e+00  7.56476130e+00  1.15463195e-14\n",
      "  2.13489973e+00 -8.93709716e-02 -4.13006728e+00 -5.34090142e+00\n",
      "  2.02691771e+00 -7.43442396e+00 -6.69998063e+00 -2.77775599e-14\n",
      " -1.99840144e-15  5.07065941e+00 -7.81256374e+00 -2.58486049e+00\n",
      " -1.75415238e-14  1.55962483e-16  1.19904087e-14  6.90786617e+00\n",
      "  6.92791825e+00  2.02023116e+01  1.86465931e+01 -7.29037826e-01\n",
      " -7.29037826e-01  3.05106822e+00  3.39936918e+00 -5.62786011e+00\n",
      " -1.47432399e+00  3.16716791e+00  9.61574698e-01 -6.80138481e+00\n",
      " -4.05982568e+00  1.56819002e-14  3.39936918e+00  3.24284569e+00\n",
      " -1.37054842e+00 -4.90180275e+00 -3.39869592e+00 -5.16692508e+00\n",
      " -2.15004709e+00 -4.48096783e+00 -5.89468236e-01  7.54951657e-15\n",
      "  7.57291468e+00 -1.01585407e-14 -1.53686333e+01  9.37566990e-01\n",
      " -1.75810198e-02 -9.06708188e+00 -5.22245200e+00  1.34015593e+01\n",
      "  1.52391425e+01 -1.68753900e-14 -5.50141819e-01 -1.24610462e+00\n",
      " -7.33959563e-01  3.75281518e+00 -5.82764240e+00 -1.96651925e+00\n",
      " -2.22216252e+00  1.46877240e-01  1.14757159e+01 -6.46391933e-15\n",
      "  3.96492510e+00 -3.02288000e+00 -2.25193693e+00  3.96492510e+00\n",
      " -9.28045125e+00 -5.03643764e+00 -8.01001435e-01 -6.84218604e+00\n",
      " -6.51231723e+00 -4.73132833e+00 -2.54921892e-01  1.31339827e+00\n",
      "  3.15321571e+00 -2.26485497e-14  4.59101019e+00 -9.89018939e+00\n",
      " -7.95312747e+00  1.40089210e+01  8.45615757e+00  3.35705711e+00\n",
      "  8.50058115e+00  1.21807110e+01 -6.18655651e+00 -5.70064764e-01\n",
      " -6.11012604e+00 -3.20315275e+00 -6.94880162e+00 -6.22465185e+00\n",
      " -1.23273783e+01 -1.06773331e+01 -6.37012033e-01 -9.29122133e-01\n",
      " -8.99558951e+00 -1.94517750e+01  1.83831787e+01  9.81300410e+00\n",
      "  9.81300410e+00 -3.04296096e+00  2.58052827e+01  2.15030853e+01\n",
      "  7.00992464e+00  5.79197508e+00  3.20322092e+00  6.78051064e+00\n",
      " -1.58779845e+00  1.38768561e+00 -9.75423369e-02 -1.07293189e+00\n",
      "  1.98977727e+01 -2.08690709e-01  2.13030752e+00 -1.38777878e-14\n",
      " -6.28255226e+00  4.44089210e-16 -7.02687910e+00 -7.02687910e+00\n",
      " -3.91651938e+00 -1.50242934e+00 -7.15994446e+00 -7.02687910e+00\n",
      " -8.72870087e-01 -4.40204991e+00 -1.03484105e+01 -3.16938516e+00\n",
      "  4.37848604e+00  5.42811140e+00 -2.97097863e+00 -3.34565268e+00\n",
      "  1.11022302e-14  2.04706822e+01 -1.35310501e+01 -1.33680600e+01\n",
      " -9.86258166e+00 -3.98392189e-01  7.71135365e+00  5.01442899e-01\n",
      "  0.00000000e+00 -4.14494331e+00 -5.11292090e+00 -5.62699465e+00\n",
      "  1.00874061e+01  6.12116830e-15  8.14945878e+00 -7.66818560e+00\n",
      " -5.08905540e+00 -8.42989350e+00 -1.43773882e-14 -1.24425196e-16\n",
      " -3.26493105e+00  2.35190253e-01 -7.34137389e-01  6.10994617e+00\n",
      " -6.60027977e-01 -6.60027977e-01  1.71794074e+00  5.34028171e+00\n",
      " -3.82104109e+00 -7.37974750e+00 -7.81409134e+00 -1.43815085e+00\n",
      "  9.54499863e+00  4.29837476e+00 -2.52380040e-14 -1.19335239e+01\n",
      "  5.32907052e-15  5.79203209e+00  3.61278856e+00  1.71763912e+00\n",
      "  2.84611794e+00  1.69903485e+00 -1.14810040e+01 -2.55761336e+00\n",
      "  2.22680543e+01 -3.57488787e+00  3.42002422e-01 -1.33226763e-14\n",
      "  4.10458205e+00  2.86685202e+00 -1.08426888e+00  4.24591172e-01\n",
      " -1.35266535e+00 -1.09830742e+00 -3.98118512e+00  8.18433618e+00\n",
      "  3.23659424e+00  8.51391832e+00  2.76279852e+00  2.76279852e+00\n",
      "  2.76279852e+00 -2.99036942e+00 -1.00809772e+01  3.52072416e-01\n",
      "  2.22044605e-15  3.52072416e-01 -2.22044605e-15  1.12227258e+01\n",
      " -1.11901803e+00 -1.84928217e-02  1.28599024e+00  5.27768210e-01\n",
      "  7.77156117e-16  1.19269342e+01 -5.69841719e+00 -5.69841719e+00\n",
      " -7.07662430e-01  1.00709952e+01 -5.69841719e+00 -5.83148254e+00\n",
      " -1.46063057e+00 -4.17173191e+00  1.11022302e-15  2.68198381e+01\n",
      " -1.14406531e+01 -5.79741364e+00  1.75938230e-15 -5.88752620e+00\n",
      "  9.67949558e-01 -1.30571382e+00 -6.40882464e+00 -8.17861352e-01\n",
      "  3.52267724e+00 -5.21592641e+00  4.96227076e+00 -6.60065684e-02\n",
      " -2.83061878e+00 -4.78128981e+00  3.43249313e+00  5.10219326e-01\n",
      "  1.56828053e+01  2.82269430e+01  1.47391065e+00 -9.42462536e-03\n",
      " -1.95976900e+01  1.73987829e+00 -4.18599322e-01  1.11157191e+01\n",
      "  4.29492187e-01  3.27180097e+00  1.46085615e-01  5.96679336e-01\n",
      "  1.68666542e+00  6.37661197e-01 -2.17082348e+00 -1.45807565e+00\n",
      "  5.02190617e+00 -2.17692484e-01  4.13705245e+00 -3.73614121e+00\n",
      "  1.46085615e-01  1.61873263e+00  2.31965244e+00 -1.14645680e+02\n",
      " -2.68351302e+01 -2.62617856e+01]\n"
     ]
    }
   ],
   "source": [
    "print(model.coef_)"
   ]
  },
  {
   "cell_type": "markdown",
   "id": "ecba8a1c-5867-4e06-810d-8bdbef564cfc",
   "metadata": {},
   "source": [
    "## 10.2 - Discuss Limitations and Improvements\n",
    "What worked well?  \n",
    "What needs improvement?  \n",
    "Future work or deployment ideas"
   ]
  },
  {
   "cell_type": "code",
   "execution_count": null,
   "id": "6bac6f82-bfaf-4343-a3b5-3084b8e1db9f",
   "metadata": {},
   "outputs": [],
   "source": []
  }
 ],
 "metadata": {
  "kernelspec": {
   "display_name": "med2",
   "language": "python",
   "name": "python3"
  },
  "language_info": {
   "codemirror_mode": {
    "name": "ipython",
    "version": 3
   },
   "file_extension": ".py",
   "mimetype": "text/x-python",
   "name": "python",
   "nbconvert_exporter": "python",
   "pygments_lexer": "ipython3",
   "version": "3.10.16"
  },
  "widgets": {
   "application/vnd.jupyter.widget-state+json": {
    "state": {},
    "version_major": 2,
    "version_minor": 0
   }
  }
 },
 "nbformat": 4,
 "nbformat_minor": 5
}
