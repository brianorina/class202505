{
 "cells": [
  {
   "cell_type": "code",
   "execution_count": null,
   "metadata": {},
   "outputs": [],
   "source": []
  },
  {
   "cell_type": "markdown",
   "metadata": {},
   "source": [
    "1-DEFINE THE PROBLEM\n",
    "\n",
    "We are exploring the contents of the imagenet_class_names.txt file, which includes the class labels used in ImageNet-based deep learning models. This notebook will help uns understand the label structure and prepare it for use in machine learning pipelines."
   ]
  },
  {
   "cell_type": "markdown",
   "metadata": {},
   "source": [
    "2- IMPORT REQUIRED LIBRARIES "
   ]
  },
  {
   "cell_type": "markdown",
   "metadata": {},
   "source": [
    "2.1 - Base Libraries\n",
    "\n",
    "I will use pandas for data handling (DataFrames),\n",
    "numpy for numeric operations, and matplotlib/seaborn for data visualization."
   ]
  },
  {
   "cell_type": "code",
   "execution_count": 17,
   "metadata": {},
   "outputs": [],
   "source": [
    "import pandas as pd\n",
    "import matplotlib.pyplot as plt\n",
    "import seaborn as sns"
   ]
  },
  {
   "cell_type": "markdown",
   "metadata": {},
   "source": [
    "2.2- ML/DL Libraries\n",
    "\n",
    "import specific functions from the scikit-learn library that i require for ; preprocessing, model training and evaluation"
   ]
  },
  {
   "cell_type": "code",
   "execution_count": 41,
   "metadata": {},
   "outputs": [],
   "source": [
    "\n",
    "from sklearn.model_selection import train_test_split\n"
   ]
  },
  {
   "cell_type": "markdown",
   "metadata": {},
   "source": [
    "3-LOAD THE DATA\n"
   ]
  },
  {
   "cell_type": "code",
   "execution_count": 2,
   "metadata": {},
   "outputs": [
    {
     "name": "stdout",
     "output_type": "stream",
     "text": [
      "Total number of class names: 1000\n",
      "['n01440764 tench, Tinca tinca', 'n01443537 goldfish, Carassius auratus', 'n01484850 great white shark, white shark, man-eater, man-eating shark, Carcharodon carcharias', 'n01491361 tiger shark, Galeocerdo cuvieri', 'n01494475 hammerhead, hammerhead shark', 'n01496331 electric ray, crampfish, numbfish, torpedo', 'n01498041 stingray', 'n01514668 cock', 'n01514859 hen', 'n01518878 ostrich, Struthio camelus']\n"
     ]
    },
    {
     "data": {
      "text/plain": [
       "['n01440764 tench, Tinca tinca',\n",
       " 'n01443537 goldfish, Carassius auratus',\n",
       " 'n01484850 great white shark, white shark, man-eater, man-eating shark, Carcharodon carcharias',\n",
       " 'n01491361 tiger shark, Galeocerdo cuvieri',\n",
       " 'n01494475 hammerhead, hammerhead shark',\n",
       " 'n01496331 electric ray, crampfish, numbfish, torpedo',\n",
       " 'n01498041 stingray',\n",
       " 'n01514668 cock',\n",
       " 'n01514859 hen',\n",
       " 'n01518878 ostrich, Struthio camelus']"
      ]
     },
     "execution_count": 2,
     "metadata": {},
     "output_type": "execute_result"
    }
   ],
   "source": [
    "#step 1: Open the file \"imagenet_class_names.txt\" form the ../datasets/ directory\n",
    "#step 2: use read mode ('r') and assign the file handle to a variable\n",
    "#step 3: read all the lines from the file\n",
    "#use a list comprehension to strip the newline character from each line using .strip()\n",
    "#skip empty lines\n",
    "#step 3: store the result in a list called class_names\n",
    "\n",
    "with open('../datasets/imagenet_class_names.txt', 'r') as file:\n",
    "    class_names = [line.strip() for line in file if line.strip()]\n",
    "#step 4: print the total number of class names using len(class_names)\n",
    "print(f\"Total number of class names: {len(class_names)}\")\n",
    "print(class_names[:10])\n",
    "\n",
    "class_names[:10]\n",
    "\n",
    "\n",
    "\n"
   ]
  },
  {
   "cell_type": "markdown",
   "metadata": {},
   "source": [
    "4 - EDA (Exploratory Data Analysis) of the DATA"
   ]
  },
  {
   "cell_type": "code",
   "execution_count": 8,
   "metadata": {},
   "outputs": [
    {
     "name": "stdout",
     "output_type": "stream",
     "text": [
      "                          class_name first_letter\n",
      "count                           1000         1000\n",
      "unique                          1000            1\n",
      "top     n01440764 tench, Tinca tinca            n\n",
      "freq                               1         1000\n"
     ]
    }
   ],
   "source": [
    "\n",
    "\n",
    "# Step 1: Convert the list of class names to a pandas DataFrame with a single column named 'class_name'\n",
    "df = pd.DataFrame(class_names, columns=['class_name'])\n",
    "\n",
    "# Step 2: Add a column 'length' with the character count of each class name\n",
    "df['length'] = df['class_name'].apply(len)\n",
    "\n",
    "# Step 3: Add a column 'first_letter' with the first character of each class name\n",
    "df['first_letter'] = df['class_name'].str[0]\n",
    "\n",
    "# Step 4: Display summary statistics including object columns\n",
    "summary = df.describe(include='object')\n",
    "\n",
    "# Step 5: Print the summary statistics\n",
    "print(summary)\n",
    "\n",
    "\n",
    "\n"
   ]
  },
  {
   "cell_type": "markdown",
   "metadata": {},
   "source": [
    "4.1 Basic Overview \n",
    " \n",
    " On this, i am eyeing on displaying first five rows of the dataset to understand the structure of the data and preview the features available for analysis and modelling."
   ]
  },
  {
   "cell_type": "code",
   "execution_count": 10,
   "metadata": {},
   "outputs": [
    {
     "data": {
      "application/vnd.microsoft.datawrangler.viewer.v0+json": {
       "columns": [
        {
         "name": "index",
         "rawType": "int64",
         "type": "integer"
        },
        {
         "name": "class_name",
         "rawType": "object",
         "type": "string"
        },
        {
         "name": "length",
         "rawType": "int64",
         "type": "integer"
        },
        {
         "name": "first_letter",
         "rawType": "object",
         "type": "string"
        }
       ],
       "ref": "0fae3bd5-ec0e-49bb-97d2-6479175c37cb",
       "rows": [
        [
         "0",
         "n01440764 tench, Tinca tinca",
         "28",
         "n"
        ],
        [
         "1",
         "n01443537 goldfish, Carassius auratus",
         "37",
         "n"
        ],
        [
         "2",
         "n01484850 great white shark, white shark, man-eater, man-eating shark, Carcharodon carcharias",
         "93",
         "n"
        ],
        [
         "3",
         "n01491361 tiger shark, Galeocerdo cuvieri",
         "41",
         "n"
        ],
        [
         "4",
         "n01494475 hammerhead, hammerhead shark",
         "38",
         "n"
        ]
       ],
       "shape": {
        "columns": 3,
        "rows": 5
       }
      },
      "text/html": [
       "<div>\n",
       "<style scoped>\n",
       "    .dataframe tbody tr th:only-of-type {\n",
       "        vertical-align: middle;\n",
       "    }\n",
       "\n",
       "    .dataframe tbody tr th {\n",
       "        vertical-align: top;\n",
       "    }\n",
       "\n",
       "    .dataframe thead th {\n",
       "        text-align: right;\n",
       "    }\n",
       "</style>\n",
       "<table border=\"1\" class=\"dataframe\">\n",
       "  <thead>\n",
       "    <tr style=\"text-align: right;\">\n",
       "      <th></th>\n",
       "      <th>class_name</th>\n",
       "      <th>length</th>\n",
       "      <th>first_letter</th>\n",
       "    </tr>\n",
       "  </thead>\n",
       "  <tbody>\n",
       "    <tr>\n",
       "      <th>0</th>\n",
       "      <td>n01440764 tench, Tinca tinca</td>\n",
       "      <td>28</td>\n",
       "      <td>n</td>\n",
       "    </tr>\n",
       "    <tr>\n",
       "      <th>1</th>\n",
       "      <td>n01443537 goldfish, Carassius auratus</td>\n",
       "      <td>37</td>\n",
       "      <td>n</td>\n",
       "    </tr>\n",
       "    <tr>\n",
       "      <th>2</th>\n",
       "      <td>n01484850 great white shark, white shark, man-...</td>\n",
       "      <td>93</td>\n",
       "      <td>n</td>\n",
       "    </tr>\n",
       "    <tr>\n",
       "      <th>3</th>\n",
       "      <td>n01491361 tiger shark, Galeocerdo cuvieri</td>\n",
       "      <td>41</td>\n",
       "      <td>n</td>\n",
       "    </tr>\n",
       "    <tr>\n",
       "      <th>4</th>\n",
       "      <td>n01494475 hammerhead, hammerhead shark</td>\n",
       "      <td>38</td>\n",
       "      <td>n</td>\n",
       "    </tr>\n",
       "  </tbody>\n",
       "</table>\n",
       "</div>"
      ],
      "text/plain": [
       "                                          class_name  length first_letter\n",
       "0                       n01440764 tench, Tinca tinca      28            n\n",
       "1              n01443537 goldfish, Carassius auratus      37            n\n",
       "2  n01484850 great white shark, white shark, man-...      93            n\n",
       "3          n01491361 tiger shark, Galeocerdo cuvieri      41            n\n",
       "4             n01494475 hammerhead, hammerhead shark      38            n"
      ]
     },
     "execution_count": 10,
     "metadata": {},
     "output_type": "execute_result"
    }
   ],
   "source": [
    "df.head()"
   ]
  },
  {
   "cell_type": "code",
   "execution_count": 11,
   "metadata": {},
   "outputs": [
    {
     "name": "stdout",
     "output_type": "stream",
     "text": [
      "<class 'pandas.core.frame.DataFrame'>\n",
      "RangeIndex: 1000 entries, 0 to 999\n",
      "Data columns (total 3 columns):\n",
      " #   Column        Non-Null Count  Dtype \n",
      "---  ------        --------------  ----- \n",
      " 0   class_name    1000 non-null   object\n",
      " 1   length        1000 non-null   int64 \n",
      " 2   first_letter  1000 non-null   object\n",
      "dtypes: int64(1), object(2)\n",
      "memory usage: 23.6+ KB\n"
     ]
    }
   ],
   "source": [
    "df.info()"
   ]
  },
  {
   "cell_type": "code",
   "execution_count": 12,
   "metadata": {},
   "outputs": [
    {
     "data": {
      "application/vnd.microsoft.datawrangler.viewer.v0+json": {
       "columns": [
        {
         "name": "index",
         "rawType": "object",
         "type": "string"
        },
        {
         "name": "class_name",
         "rawType": "object",
         "type": "unknown"
        },
        {
         "name": "length",
         "rawType": "float64",
         "type": "float"
        },
        {
         "name": "first_letter",
         "rawType": "object",
         "type": "unknown"
        }
       ],
       "ref": "8090f580-c1ac-42c4-a176-81b33f3819ff",
       "rows": [
        [
         "count",
         "1000",
         "1000.0",
         "1000"
        ],
        [
         "unique",
         "1000",
         null,
         "1"
        ],
        [
         "top",
         "n01440764 tench, Tinca tinca",
         null,
         "n"
        ],
        [
         "freq",
         "1",
         null,
         "1000"
        ],
        [
         "mean",
         null,
         "30.675",
         null
        ],
        [
         "std",
         null,
         "16.88663772139187",
         null
        ],
        [
         "min",
         null,
         "12.0",
         null
        ],
        [
         "25%",
         null,
         "18.0",
         null
        ],
        [
         "50%",
         null,
         "26.0",
         null
        ],
        [
         "75%",
         null,
         "37.0",
         null
        ],
        [
         "max",
         null,
         "131.0",
         null
        ]
       ],
       "shape": {
        "columns": 3,
        "rows": 11
       }
      },
      "text/html": [
       "<div>\n",
       "<style scoped>\n",
       "    .dataframe tbody tr th:only-of-type {\n",
       "        vertical-align: middle;\n",
       "    }\n",
       "\n",
       "    .dataframe tbody tr th {\n",
       "        vertical-align: top;\n",
       "    }\n",
       "\n",
       "    .dataframe thead th {\n",
       "        text-align: right;\n",
       "    }\n",
       "</style>\n",
       "<table border=\"1\" class=\"dataframe\">\n",
       "  <thead>\n",
       "    <tr style=\"text-align: right;\">\n",
       "      <th></th>\n",
       "      <th>class_name</th>\n",
       "      <th>length</th>\n",
       "      <th>first_letter</th>\n",
       "    </tr>\n",
       "  </thead>\n",
       "  <tbody>\n",
       "    <tr>\n",
       "      <th>count</th>\n",
       "      <td>1000</td>\n",
       "      <td>1000.000000</td>\n",
       "      <td>1000</td>\n",
       "    </tr>\n",
       "    <tr>\n",
       "      <th>unique</th>\n",
       "      <td>1000</td>\n",
       "      <td>NaN</td>\n",
       "      <td>1</td>\n",
       "    </tr>\n",
       "    <tr>\n",
       "      <th>top</th>\n",
       "      <td>n01440764 tench, Tinca tinca</td>\n",
       "      <td>NaN</td>\n",
       "      <td>n</td>\n",
       "    </tr>\n",
       "    <tr>\n",
       "      <th>freq</th>\n",
       "      <td>1</td>\n",
       "      <td>NaN</td>\n",
       "      <td>1000</td>\n",
       "    </tr>\n",
       "    <tr>\n",
       "      <th>mean</th>\n",
       "      <td>NaN</td>\n",
       "      <td>30.675000</td>\n",
       "      <td>NaN</td>\n",
       "    </tr>\n",
       "    <tr>\n",
       "      <th>std</th>\n",
       "      <td>NaN</td>\n",
       "      <td>16.886638</td>\n",
       "      <td>NaN</td>\n",
       "    </tr>\n",
       "    <tr>\n",
       "      <th>min</th>\n",
       "      <td>NaN</td>\n",
       "      <td>12.000000</td>\n",
       "      <td>NaN</td>\n",
       "    </tr>\n",
       "    <tr>\n",
       "      <th>25%</th>\n",
       "      <td>NaN</td>\n",
       "      <td>18.000000</td>\n",
       "      <td>NaN</td>\n",
       "    </tr>\n",
       "    <tr>\n",
       "      <th>50%</th>\n",
       "      <td>NaN</td>\n",
       "      <td>26.000000</td>\n",
       "      <td>NaN</td>\n",
       "    </tr>\n",
       "    <tr>\n",
       "      <th>75%</th>\n",
       "      <td>NaN</td>\n",
       "      <td>37.000000</td>\n",
       "      <td>NaN</td>\n",
       "    </tr>\n",
       "    <tr>\n",
       "      <th>max</th>\n",
       "      <td>NaN</td>\n",
       "      <td>131.000000</td>\n",
       "      <td>NaN</td>\n",
       "    </tr>\n",
       "  </tbody>\n",
       "</table>\n",
       "</div>"
      ],
      "text/plain": [
       "                          class_name       length first_letter\n",
       "count                           1000  1000.000000         1000\n",
       "unique                          1000          NaN            1\n",
       "top     n01440764 tench, Tinca tinca          NaN            n\n",
       "freq                               1          NaN         1000\n",
       "mean                             NaN    30.675000          NaN\n",
       "std                              NaN    16.886638          NaN\n",
       "min                              NaN    12.000000          NaN\n",
       "25%                              NaN    18.000000          NaN\n",
       "50%                              NaN    26.000000          NaN\n",
       "75%                              NaN    37.000000          NaN\n",
       "max                              NaN   131.000000          NaN"
      ]
     },
     "execution_count": 12,
     "metadata": {},
     "output_type": "execute_result"
    }
   ],
   "source": [
    "df.describe( include='all')"
   ]
  },
  {
   "cell_type": "code",
   "execution_count": 14,
   "metadata": {},
   "outputs": [
    {
     "data": {
      "application/vnd.microsoft.datawrangler.viewer.v0+json": {
       "columns": [
        {
         "name": "index",
         "rawType": "object",
         "type": "string"
        },
        {
         "name": "0",
         "rawType": "float64",
         "type": "float"
        }
       ],
       "ref": "df68a76a-44ae-472b-b938-56ac45fdc8ef",
       "rows": [
        [
         "length",
         "0.0"
        ],
        [
         "first_letter",
         "0.0"
        ],
        [
         "class_name",
         "0.0"
        ]
       ],
       "shape": {
        "columns": 1,
        "rows": 3
       }
      },
      "text/plain": [
       "length          0.0\n",
       "first_letter    0.0\n",
       "class_name      0.0\n",
       "dtype: float64"
      ]
     },
     "execution_count": 14,
     "metadata": {},
     "output_type": "execute_result"
    }
   ],
   "source": [
    "df.isnull().sum().sort_values(ascending=False)\n",
    "#for my own understanding \"sort_values\" sorts the values in ascending order\n",
    "\n",
    "\n",
    "df.isnull().mean().sort_index(ascending=False)\n",
    "#for my own understanding \"sort_index\" sorts the index in descending order"
   ]
  },
  {
   "cell_type": "code",
   "execution_count": 15,
   "metadata": {},
   "outputs": [
    {
     "data": {
      "application/vnd.microsoft.datawrangler.viewer.v0+json": {
       "columns": [
        {
         "name": "index",
         "rawType": "object",
         "type": "string"
        },
        {
         "name": "0",
         "rawType": "int64",
         "type": "integer"
        }
       ],
       "ref": "71d72353-5c8b-4b09-a6f7-e3b07ceeac26",
       "rows": [
        [
         "class_name",
         "0"
        ],
        [
         "length",
         "0"
        ],
        [
         "first_letter",
         "0"
        ]
       ],
       "shape": {
        "columns": 1,
        "rows": 3
       }
      },
      "text/plain": [
       "class_name      0\n",
       "length          0\n",
       "first_letter    0\n",
       "dtype: int64"
      ]
     },
     "execution_count": 15,
     "metadata": {},
     "output_type": "execute_result"
    }
   ],
   "source": [
    "#But fot the exercise given, this is the code used to find the output\n",
    "df.isnull().sum()"
   ]
  },
  {
   "cell_type": "code",
   "execution_count": 16,
   "metadata": {},
   "outputs": [
    {
     "data": {
      "application/vnd.microsoft.datawrangler.viewer.v0+json": {
       "columns": [
        {
         "name": "index",
         "rawType": "object",
         "type": "string"
        },
        {
         "name": "0",
         "rawType": "object",
         "type": "unknown"
        }
       ],
       "ref": "e0996359-e7b8-4c03-ac42-6e4ef7468358",
       "rows": [
        [
         "class_name",
         "object"
        ],
        [
         "length",
         "int64"
        ],
        [
         "first_letter",
         "object"
        ]
       ],
       "shape": {
        "columns": 1,
        "rows": 3
       }
      },
      "text/plain": [
       "class_name      object\n",
       "length           int64\n",
       "first_letter    object\n",
       "dtype: object"
      ]
     },
     "execution_count": 16,
     "metadata": {},
     "output_type": "execute_result"
    }
   ],
   "source": [
    "df.dtypes"
   ]
  },
  {
   "cell_type": "markdown",
   "metadata": {},
   "source": [
    "5- VISUALIZE THE DATA"
   ]
  },
  {
   "cell_type": "markdown",
   "metadata": {},
   "source": [
    "5.1 Univariate Analysis\n"
   ]
  },
  {
   "cell_type": "code",
   "execution_count": 45,
   "metadata": {},
   "outputs": [
    {
     "data": {
      "image/png": "[encoded data removed]",
      "text/plain": [
       "<Figure size 640x480 with 1 Axes>"
      ]
     },
     "metadata": {},
     "output_type": "display_data"
    }
   ],
   "source": [
    "#step 1: Create a histogram to visualize the distribution of the class name lengths\n",
    "sns.histplot(df['length'], bins=30, )\n",
    "\n",
    "#step 2: Add the title and axis labels to explain the plot\n",
    "plt.title('Class Name Length Distribution')\n",
    "plt.xlabel('Length')\n",
    "plt.ylabel('Count')\n",
    "\n",
    "#step 3: Show the plot\n",
    "plt.show()\n"
   ]
  },
  {
   "cell_type": "code",
   "execution_count": 19,
   "metadata": {},
   "outputs": [
    {
     "data": {
      "image/png": "[encoded data removed]",
      "text/plain": [
       "<Figure size 1200x600 with 1 Axes>"
      ]
     },
     "metadata": {},
     "output_type": "display_data"
    }
   ],
   "source": [
    "#step 1: set a custom figure size to improve readability\n",
    "plt.figure(figsize=(12, 6))\n",
    "\n",
    "#step 2: Create a bar chart showing how many class names start with each letter\n",
    "sns.countplot(data=df, x='first_letter', order=sorted(df['first_letter'].unique()))\n",
    "\n",
    "#step 3: Add the title to describe the purpose of the plot\n",
    "plt.title('Class Names Starting with Each Letter')\n",
    "\n",
    "#step 4: show the plot\n",
    "plt.show()"
   ]
  },
  {
   "cell_type": "markdown",
   "metadata": {},
   "source": [
    "6- PREPROCESS THE DATA\n"
   ]
  },
  {
   "cell_type": "code",
   "execution_count": 39,
   "metadata": {},
   "outputs": [
    {
     "name": "stdout",
     "output_type": "stream",
     "text": [
      "                                                                                      class_name  \\\n",
      "0                                                                   n01440764 tench, Tinca tinca   \n",
      "1                                                          n01443537 goldfish, Carassius auratus   \n",
      "2  n01484850 great white shark, white shark, man-eater, man-eating shark, Carcharodon carcharias   \n",
      "3                                                      n01491361 tiger shark, Galeocerdo cuvieri   \n",
      "4                                                         n01494475 hammerhead, hammerhead shark   \n",
      "\n",
      "   length first_letter  \\\n",
      "0      28            n   \n",
      "1      37            n   \n",
      "2      93            n   \n",
      "3      41            n   \n",
      "4      38            n   \n",
      "\n",
      "                                                                  class_name_cleaned  \n",
      "0                                                                n tench tinca tinca  \n",
      "1                                                       n goldfish carassius auratus  \n",
      "2  n great white shark white shark man eater man eating shark carcharodon carcharias  \n",
      "3                                                   n tiger shark galeocerdo cuvieri  \n",
      "4                                                      n hammerhead hammerhead shark  \n"
     ]
    }
   ],
   "source": [
    "\n",
    "#Step 1: create a new column called class_name_cleaned that contains the class names in lowercase\n",
    "df['class_name_cleaned'] = df['class_name'].str.lower()\n",
    "\n",
    "#step 2: replace hyphens and underscores with spaces using .str.replace()\n",
    "df['class_name_cleaned'] = df['class_name_cleaned'].str.replace('-', ' ').str.replace('_', ' ')\n",
    "\n",
    "#step 3: remove all non-letter characters using .str.replace() with a regex pattern\n",
    "#step 4: use .str.replace() with regex=True\n",
    "# Ensure compatibility with older versions of pandas\n",
    "df['class_name_cleaned'] = df['class_name_cleaned'].str.replace(r'[^a-z\\s]', '', regex=True)\n",
    "# Display the column names of the dataframe to verify their presence\n",
    "#print(\"Column names in the dataframe:\", df.columns.tolist())\n",
    "#step 5: show the first 5 rows to verify the cleaning process\n",
    "#print(df['class_name_cleaned'].head())\n",
    "\n",
    "print(df.head())\n",
    "\n",
    "\n",
    "\n"
   ]
  },
  {
   "cell_type": "markdown",
   "metadata": {},
   "source": [
    "7- SPLIT THE DATA"
   ]
  },
  {
   "cell_type": "code",
   "execution_count": 43,
   "metadata": {},
   "outputs": [
    {
     "name": "stdout",
     "output_type": "stream",
     "text": [
      "Number of classes in train set: 800\n",
      "Number of classes in test set: 200\n"
     ]
    },
    {
     "data": {
      "application/vnd.microsoft.datawrangler.viewer.v0+json": {
       "columns": [
        {
         "name": "index",
         "rawType": "int64",
         "type": "integer"
        },
        {
         "name": "class_name_cleaned",
         "rawType": "object",
         "type": "string"
        }
       ],
       "ref": "00fca6d6-1333-4e91-a6b5-2be9cc91957f",
       "rows": [
        [
         "29",
         "n axolotl mud puppy ambystoma mexicanum"
        ],
        [
         "535",
         "n disk brake disc brake"
        ],
        [
         "695",
         "n padlock"
        ],
        [
         "557",
         "n flagpole flagstaff"
        ],
        [
         "836",
         "n sunglass"
        ]
       ],
       "shape": {
        "columns": 1,
        "rows": 5
       }
      },
      "text/plain": [
       "29     n axolotl mud puppy ambystoma mexicanum\n",
       "535                    n disk brake disc brake\n",
       "695                                  n padlock\n",
       "557                       n flagpole flagstaff\n",
       "836                                 n sunglass\n",
       "Name: class_name_cleaned, dtype: object"
      ]
     },
     "execution_count": 43,
     "metadata": {},
     "output_type": "execute_result"
    }
   ],
   "source": [
    "#step 1: use train_test_split to divide 'class_name_clean' into train and test\n",
    "train, test = train_test_split(df['class_name_cleaned'], test_size=0.2, random_state=42)\n",
    "\n",
    "train_classes, test_classes = train, test\n",
    "#step 2: print the number of classes in train and test sets\n",
    "print(f\"Number of classes in train set: {len(train_classes)}\")\n",
    "\n",
    "print(f\"Number of classes in test set: {len(test_classes)}\")\n",
    "\n",
    "#step 4: preview the first 5 training classes names\n",
    "train_classes[:5]"
   ]
  }
 ],
 "metadata": {
  "kernelspec": {
   "display_name": "med2",
   "language": "python",
   "name": "python3"
  },
  "language_info": {
   "codemirror_mode": {
    "name": "ipython",
    "version": 3
   },
   "file_extension": ".py",
   "mimetype": "text/x-python",
   "name": "python",
   "nbconvert_exporter": "python",
   "pygments_lexer": "ipython3",
   "version": "3.10.16"
  }
 },
 "nbformat": 4,
 "nbformat_minor": 2
}
